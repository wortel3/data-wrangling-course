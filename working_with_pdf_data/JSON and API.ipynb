{
 "cells": [
  {
   "cell_type": "markdown",
   "metadata": {},
   "source": [
    "# Working with Json data\n",
    "*** \n",
    "## Learning Objectives\n"
   ]
  },
  {
   "cell_type": "markdown",
   "metadata": {},
   "source": [
    "Say we want to get the value of `title` from the JSON data below. We can do this by using the `json` module's `loads` method:"
   ]
  },
  {
   "cell_type": "code",
   "execution_count": 1,
   "metadata": {},
   "outputs": [
    {
     "name": "stdout",
     "output_type": "stream",
     "text": [
      "example glossary\n"
     ]
    }
   ],
   "source": [
    "import json\n",
    "\n",
    "# Your JSON data\n",
    "json_data = {\n",
    "    \"glossary\": {\n",
    "        \"title\": \"example glossary\",\n",
    "        \"GlossDiv\": {\n",
    "            \"title\": \"S\",\n",
    "            \"GlossList\": {\n",
    "                \"GlossEntry\": {\n",
    "                    \"ID\": \"SGML\",\n",
    "                    \"SortAs\": \"SGML\",\n",
    "                    \"GlossTerm\": \"Standard Generalized Markup Language\",\n",
    "                    \"Acronym\": \"SGML\",\n",
    "                    \"Abbrev\": \"ISO 8879:1986\",\n",
    "                    \"GlossDef\": {\n",
    "                        \"para\": \"A meta-markup language, used to create markup languages such as DocBook.\",\n",
    "                        \"GlossSeeAlso\": [\"GML\", \"XML\"]\n",
    "                    },\n",
    "                    \"GlossSee\": \"markup\"\n",
    "                }\n",
    "            }\n",
    "        }\n",
    "    }\n",
    "}\n",
    "\n",
    "# Accessing the value of the \"title\" key\n",
    "title_value = json_data[\"glossary\"][\"title\"]\n",
    "\n",
    "print(title_value)\n"
   ]
  },
  {
   "cell_type": "markdown",
   "metadata": {},
   "source": [
    "Notice that we reference the JSON data by its key name, i.e. `glossary` and then, within the `glossary` key, we reference the `title` key. \n",
    "```python\n",
    "json_data[\"glossary\"][\"title\"]\n",
    "```"
   ]
  }
 ],
 "metadata": {
  "kernelspec": {
   "display_name": "base",
   "language": "python",
   "name": "python3"
  },
  "language_info": {
   "codemirror_mode": {
    "name": "ipython",
    "version": 3
   },
   "file_extension": ".py",
   "mimetype": "text/x-python",
   "name": "python",
   "nbconvert_exporter": "python",
   "pygments_lexer": "ipython3",
   "version": "3.11.3"
  },
  "orig_nbformat": 4
 },
 "nbformat": 4,
 "nbformat_minor": 2
}

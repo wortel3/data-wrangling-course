{
 "cells": [
  {
   "cell_type": "markdown",
   "metadata": {},
   "source": [
    "# Enrichment\n",
    "***\n",
    "## Learning Objectives\n",
    "- Understand the concept of enrichment\n",
    "- Learn about joining dataframes\n",
    "- Learn about the different types of joins\n",
    "- Insert new data into a dataframe \n",
    "- Update existing data in a dataframe \n",
    "- Delete rows from a dataframe \n",
    "\n",
    "## Links\n",
    "\n",
    "## Additional Material\n",
    "\n",
    "\n",
    "## Sources\n",
    "- [Difference between `concat` and `merge`](https://stackoverflow.com/questions/38256104/difference-between-pandas-merge-and-concat)\n",
    "- [SQL Joins](https://www.w3schools.com/sql/sql_join.asp)\n",
    "- [Indexes in Pandas](https://pandas.pydata.org/pandas-docs/stable/user_guide/indexing.html)\n",
    "- [Join in Pandas](https://pandas.pydata.org/docs/reference/api/pandas.DataFrame.join.html)\n",
    "- [Merge and Join differences](https://g.co/bard/share/219948ee80d0)\n",
    "- [Adding new data](https://g.co/bard/share/91a6e1839e86)\n",
    "- [Deleting rows in a dataframe that don't exist in another dataframe](https://g.co/bard/share/c8fc62b9b166)"
   ]
  },
  {
   "cell_type": "markdown",
   "metadata": {},
   "source": [
    "## Series  "
   ]
  },
  {
   "cell_type": "markdown",
   "metadata": {},
   "source": [
    "In Pandas, a Series is a one-dimensional labeled array that can hold any data type (integers, strings, floating-point numbers, Python objects, etc.). It is similar to a column in a spreadsheet or a SQL table. A Series has two main components: the data and the index. The data can be a NumPy array, Python dictionary, or a scalar value. The index is a sequence of labels that correspond to the values in the data. \n",
    "\n",
    "In the example you provided, `more_animals` is a Pandas Series object that contains two elements ('fish' and 'hamster') and has an index of 4 and 5, respectively. You can access the data and index of a Series using the `values` and `index` attributes, respectively."
   ]
  },
  {
   "cell_type": "code",
   "execution_count": null,
   "metadata": {},
   "outputs": [],
   "source": [
    "import pandas as pd\n",
    "\n",
    "# create a Series from a list of integers\n",
    "my_series = pd.Series([10, 20, 30, 40, 50])\n",
    "\n",
    "print(my_series)"
   ]
  },
  {
   "cell_type": "markdown",
   "metadata": {},
   "source": [
    "## Indexes\n"
   ]
  },
  {
   "cell_type": "markdown",
   "metadata": {},
   "source": [
    "In Pandas, an index is a sequence of labels that uniquely identifies each row or column in a DataFrame or a Series. It provides a way to access and manipulate data in a Pandas object. \n",
    "\n",
    "By default, when you create a DataFrame or a Series, Pandas assigns a numeric index starting from 0. However, you can also specify your own index using the `index` parameter when creating a DataFrame or a Series. The index can be any sequence of hashable objects, such as a list, an array, or a range of values.\n",
    "\n",
    "Indexes can be used to select, filter, and manipulate data in a Pandas object. For example, you can use the `loc` attribute to select rows or columns by their index labels, or the `iloc` attribute to select rows or columns by their integer position. You can also use the `reindex` method to change the order of the rows or columns in a DataFrame or a Series based on a new index.\n",
    "\n",
    "Indexes can also have hierarchical levels, which allow you to represent multi-dimensional data in a Pandas object. A hierarchical index is a sequence of tuples, where each tuple represents a unique combination of index labels at each level. You can create a hierarchical index using the `MultiIndex` class in Pandas."
   ]
  },
  {
   "cell_type": "code",
   "execution_count": null,
   "metadata": {},
   "outputs": [],
   "source": [
    "import pandas as pd\n",
    "\n",
    "# create a Series from a list of integers\n",
    "my_series = pd.Series([10, 20, 30, 40, 50])\n",
    "my_series\n"
   ]
  },
  {
   "cell_type": "code",
   "execution_count": null,
   "metadata": {},
   "outputs": [],
   "source": [
    "\n",
    "# get the value at index 2\n",
    "value = my_series[2]\n",
    "\n",
    "print(value)"
   ]
  },
  {
   "cell_type": "markdown",
   "metadata": {},
   "source": [
    "## Concat\n",
    "`concat` is the simplest way to combine two `Series` or `DataFrames`, but it only works if the two objects have the same index. In the following example, `animals` and `more_animals` have the same index, so we can concatenate them:\n",
    "\n",
    "```python\n",
    ">>> animals = pd.Series(['dog', 'cat', 'bird'], index=[1, 2, 3])\n",
    ">>> more_animals = pd.Series(['fish', 'hamster'], index=[4, 5])\n",
    ">>> pd.concat([animals, more_animals])\n",
    "1        dog\n",
    "2        cat\n",
    "3       bird\n",
    "4       fish\n",
    "5    hamster\n",
    "dtype: object\n",
    "```\n",
    "We haven't spoken about indexes in depth yet, but it's the numbers on the very left of the dataframe. In this case, the index is the same as the row number, but it doesn't have to be. We'll talk about indexes in more detail later. Here's the code above to run for yourself:"
   ]
  },
  {
   "cell_type": "code",
   "execution_count": 52,
   "metadata": {},
   "outputs": [
    {
     "data": {
      "text/plain": [
       "1     dog\n",
       "2     cat\n",
       "3    bird\n",
       "dtype: object"
      ]
     },
     "execution_count": 52,
     "metadata": {},
     "output_type": "execute_result"
    }
   ],
   "source": [
    "import pandas as pd\n",
    "animals = pd.Series(['dog', 'cat', 'bird'], index=[1, 2, 3])\n",
    "animals"
   ]
  },
  {
   "cell_type": "code",
   "execution_count": 53,
   "metadata": {},
   "outputs": [
    {
     "data": {
      "text/plain": [
       "4       fish\n",
       "5    hamster\n",
       "dtype: object"
      ]
     },
     "execution_count": 53,
     "metadata": {},
     "output_type": "execute_result"
    }
   ],
   "source": [
    "\n",
    "more_animals = pd.Series(['fish', 'hamster'], index=[4, 5])\n",
    "more_animals"
   ]
  },
  {
   "cell_type": "code",
   "execution_count": 54,
   "metadata": {},
   "outputs": [
    {
     "data": {
      "text/plain": [
       "1        dog\n",
       "2        cat\n",
       "3       bird\n",
       "4       fish\n",
       "5    hamster\n",
       "dtype: object"
      ]
     },
     "execution_count": 54,
     "metadata": {},
     "output_type": "execute_result"
    }
   ],
   "source": [
    "pd.concat([animals, more_animals])"
   ]
  },
  {
   "cell_type": "markdown",
   "metadata": {},
   "source": [
    "Can you see how the two series were combined? Here's another example:"
   ]
  },
  {
   "cell_type": "code",
   "execution_count": 55,
   "metadata": {},
   "outputs": [
    {
     "data": {
      "text/html": [
       "<div>\n",
       "<style scoped>\n",
       "    .dataframe tbody tr th:only-of-type {\n",
       "        vertical-align: middle;\n",
       "    }\n",
       "\n",
       "    .dataframe tbody tr th {\n",
       "        vertical-align: top;\n",
       "    }\n",
       "\n",
       "    .dataframe thead th {\n",
       "        text-align: right;\n",
       "    }\n",
       "</style>\n",
       "<table border=\"1\" class=\"dataframe\">\n",
       "  <thead>\n",
       "    <tr style=\"text-align: right;\">\n",
       "      <th></th>\n",
       "      <th>Name</th>\n",
       "      <th>Age</th>\n",
       "    </tr>\n",
       "  </thead>\n",
       "  <tbody>\n",
       "    <tr>\n",
       "      <th>0</th>\n",
       "      <td>Alice</td>\n",
       "      <td>25</td>\n",
       "    </tr>\n",
       "    <tr>\n",
       "      <th>1</th>\n",
       "      <td>Bob</td>\n",
       "      <td>30</td>\n",
       "    </tr>\n",
       "  </tbody>\n",
       "</table>\n",
       "</div>"
      ],
      "text/plain": [
       "    Name  Age\n",
       "0  Alice   25\n",
       "1    Bob   30"
      ]
     },
     "execution_count": 55,
     "metadata": {},
     "output_type": "execute_result"
    }
   ],
   "source": [
    "import pandas as pd\n",
    "# Create two DataFrames\n",
    "data1 = {'Name': ['Alice', 'Bob'],\n",
    "         'Age': [25, 30]}\n",
    "data2 = {'Name': ['Charlie', 'David'],\n",
    "         'Age': [35, 40]}\n",
    "\n",
    "df1 = pd.DataFrame(data1)\n",
    "df1 \n"
   ]
  },
  {
   "cell_type": "code",
   "execution_count": 56,
   "metadata": {},
   "outputs": [
    {
     "data": {
      "text/html": [
       "<div>\n",
       "<style scoped>\n",
       "    .dataframe tbody tr th:only-of-type {\n",
       "        vertical-align: middle;\n",
       "    }\n",
       "\n",
       "    .dataframe tbody tr th {\n",
       "        vertical-align: top;\n",
       "    }\n",
       "\n",
       "    .dataframe thead th {\n",
       "        text-align: right;\n",
       "    }\n",
       "</style>\n",
       "<table border=\"1\" class=\"dataframe\">\n",
       "  <thead>\n",
       "    <tr style=\"text-align: right;\">\n",
       "      <th></th>\n",
       "      <th>Name</th>\n",
       "      <th>Age</th>\n",
       "    </tr>\n",
       "  </thead>\n",
       "  <tbody>\n",
       "    <tr>\n",
       "      <th>0</th>\n",
       "      <td>Charlie</td>\n",
       "      <td>35</td>\n",
       "    </tr>\n",
       "    <tr>\n",
       "      <th>1</th>\n",
       "      <td>David</td>\n",
       "      <td>40</td>\n",
       "    </tr>\n",
       "  </tbody>\n",
       "</table>\n",
       "</div>"
      ],
      "text/plain": [
       "      Name  Age\n",
       "0  Charlie   35\n",
       "1    David   40"
      ]
     },
     "execution_count": 56,
     "metadata": {},
     "output_type": "execute_result"
    }
   ],
   "source": [
    "\n",
    "df2 = pd.DataFrame(data2)\n",
    "df2 \n"
   ]
  },
  {
   "cell_type": "code",
   "execution_count": 57,
   "metadata": {},
   "outputs": [
    {
     "name": "stdout",
     "output_type": "stream",
     "text": [
      "      Name  Age\n",
      "0    Alice   25\n",
      "1      Bob   30\n",
      "2  Charlie   35\n",
      "3    David   40\n"
     ]
    }
   ],
   "source": [
    "\n",
    "# Concatenate the two DataFrames vertically (along rows)\n",
    "result = pd.concat([df1, df2], ignore_index=True)\n",
    "# Print the result\n",
    "print(result)"
   ]
  },
  {
   "cell_type": "markdown",
   "metadata": {},
   "source": [
    "`concat` and also be used to combine data horizontally. I.E. to put columns side by side. This is done by setting the `axis` parameter to `1`.\n"
   ]
  },
  {
   "cell_type": "code",
   "execution_count": 58,
   "metadata": {},
   "outputs": [
    {
     "data": {
      "text/html": [
       "<div>\n",
       "<style scoped>\n",
       "    .dataframe tbody tr th:only-of-type {\n",
       "        vertical-align: middle;\n",
       "    }\n",
       "\n",
       "    .dataframe tbody tr th {\n",
       "        vertical-align: top;\n",
       "    }\n",
       "\n",
       "    .dataframe thead th {\n",
       "        text-align: right;\n",
       "    }\n",
       "</style>\n",
       "<table border=\"1\" class=\"dataframe\">\n",
       "  <thead>\n",
       "    <tr style=\"text-align: right;\">\n",
       "      <th></th>\n",
       "      <th>A</th>\n",
       "      <th>B</th>\n",
       "    </tr>\n",
       "  </thead>\n",
       "  <tbody>\n",
       "    <tr>\n",
       "      <th>0</th>\n",
       "      <td>A0</td>\n",
       "      <td>B0</td>\n",
       "    </tr>\n",
       "    <tr>\n",
       "      <th>1</th>\n",
       "      <td>A1</td>\n",
       "      <td>B1</td>\n",
       "    </tr>\n",
       "    <tr>\n",
       "      <th>2</th>\n",
       "      <td>A2</td>\n",
       "      <td>B2</td>\n",
       "    </tr>\n",
       "  </tbody>\n",
       "</table>\n",
       "</div>"
      ],
      "text/plain": [
       "    A   B\n",
       "0  A0  B0\n",
       "1  A1  B1\n",
       "2  A2  B2"
      ]
     },
     "execution_count": 58,
     "metadata": {},
     "output_type": "execute_result"
    }
   ],
   "source": [
    "import pandas as pd\n",
    "\n",
    "# Create two DataFrames\n",
    "data1 = {'A': ['A0', 'A1', 'A2'],\n",
    "         'B': ['B0', 'B1', 'B2']}\n",
    "df1 = pd.DataFrame(data1)\n",
    "df1 "
   ]
  },
  {
   "cell_type": "code",
   "execution_count": 59,
   "metadata": {},
   "outputs": [
    {
     "data": {
      "text/html": [
       "<div>\n",
       "<style scoped>\n",
       "    .dataframe tbody tr th:only-of-type {\n",
       "        vertical-align: middle;\n",
       "    }\n",
       "\n",
       "    .dataframe tbody tr th {\n",
       "        vertical-align: top;\n",
       "    }\n",
       "\n",
       "    .dataframe thead th {\n",
       "        text-align: right;\n",
       "    }\n",
       "</style>\n",
       "<table border=\"1\" class=\"dataframe\">\n",
       "  <thead>\n",
       "    <tr style=\"text-align: right;\">\n",
       "      <th></th>\n",
       "      <th>C</th>\n",
       "      <th>D</th>\n",
       "    </tr>\n",
       "  </thead>\n",
       "  <tbody>\n",
       "    <tr>\n",
       "      <th>0</th>\n",
       "      <td>C0</td>\n",
       "      <td>D0</td>\n",
       "    </tr>\n",
       "    <tr>\n",
       "      <th>1</th>\n",
       "      <td>C1</td>\n",
       "      <td>D1</td>\n",
       "    </tr>\n",
       "    <tr>\n",
       "      <th>2</th>\n",
       "      <td>C2</td>\n",
       "      <td>D2</td>\n",
       "    </tr>\n",
       "  </tbody>\n",
       "</table>\n",
       "</div>"
      ],
      "text/plain": [
       "    C   D\n",
       "0  C0  D0\n",
       "1  C1  D1\n",
       "2  C2  D2"
      ]
     },
     "execution_count": 59,
     "metadata": {},
     "output_type": "execute_result"
    }
   ],
   "source": [
    "\n",
    "data2 = {'C': ['C0', 'C1', 'C2'],\n",
    "         'D': ['D0', 'D1', 'D2']}\n",
    "df2 = pd.DataFrame(data2)\n",
    "df2 \n"
   ]
  },
  {
   "cell_type": "code",
   "execution_count": 61,
   "metadata": {},
   "outputs": [
    {
     "name": "stdout",
     "output_type": "stream",
     "text": [
      "    A   B   C   D\n",
      "0  A0  B0  C0  D0\n",
      "1  A1  B1  C1  D1\n",
      "2  A2  B2  C2  D2\n"
     ]
    }
   ],
   "source": [
    "# Concatenate DataFrames horizontally\n",
    "result = pd.concat([df1, df2], axis=1)\n",
    "\n",
    "# Print the result\n",
    "print(result)\n"
   ]
  },
  {
   "cell_type": "markdown",
   "metadata": {},
   "source": [
    "`A` and `B` are columns in `data1` and `C` and `D` are columns in `data2`. The result is a new dataframe -`result`- with the columns `A`, `B`, `C`, `D`. \n",
    "\n",
    "`concat` should be used whenever you want to *stack* data on top of (or alongside) each other. \n",
    "\n",
    "`merge` should be used whenever you want to *combine* data based on a common column.\n"
   ]
  },
  {
   "cell_type": "markdown",
   "metadata": {},
   "source": [
    "## Merge\n",
    "Imagine you have two data frames: "
   ]
  },
  {
   "cell_type": "code",
   "execution_count": 65,
   "metadata": {},
   "outputs": [
    {
     "data": {
      "text/html": [
       "<div>\n",
       "<style scoped>\n",
       "    .dataframe tbody tr th:only-of-type {\n",
       "        vertical-align: middle;\n",
       "    }\n",
       "\n",
       "    .dataframe tbody tr th {\n",
       "        vertical-align: top;\n",
       "    }\n",
       "\n",
       "    .dataframe thead th {\n",
       "        text-align: right;\n",
       "    }\n",
       "</style>\n",
       "<table border=\"1\" class=\"dataframe\">\n",
       "  <thead>\n",
       "    <tr style=\"text-align: right;\">\n",
       "      <th></th>\n",
       "      <th>order_id</th>\n",
       "      <th>customer_id</th>\n",
       "      <th>order_total</th>\n",
       "    </tr>\n",
       "  </thead>\n",
       "  <tbody>\n",
       "    <tr>\n",
       "      <th>0</th>\n",
       "      <td>101</td>\n",
       "      <td>A</td>\n",
       "      <td>50</td>\n",
       "    </tr>\n",
       "    <tr>\n",
       "      <th>1</th>\n",
       "      <td>102</td>\n",
       "      <td>B</td>\n",
       "      <td>75</td>\n",
       "    </tr>\n",
       "    <tr>\n",
       "      <th>2</th>\n",
       "      <td>103</td>\n",
       "      <td>A</td>\n",
       "      <td>60</td>\n",
       "    </tr>\n",
       "    <tr>\n",
       "      <th>3</th>\n",
       "      <td>104</td>\n",
       "      <td>C</td>\n",
       "      <td>90</td>\n",
       "    </tr>\n",
       "  </tbody>\n",
       "</table>\n",
       "</div>"
      ],
      "text/plain": [
       "   order_id customer_id  order_total\n",
       "0       101           A           50\n",
       "1       102           B           75\n",
       "2       103           A           60\n",
       "3       104           C           90"
      ]
     },
     "execution_count": 65,
     "metadata": {},
     "output_type": "execute_result"
    }
   ],
   "source": [
    "orders_data = {\n",
    "    'order_id': [101, 102, 103, 104],\n",
    "    'customer_id': ['A', 'B', 'A', 'C'],\n",
    "    'order_total': [50, 75, 60, 90]\n",
    "}\n",
    "\n",
    "orders = pd.DataFrame(orders_data)\n",
    "orders"
   ]
  },
  {
   "cell_type": "code",
   "execution_count": 66,
   "metadata": {},
   "outputs": [
    {
     "data": {
      "text/html": [
       "<div>\n",
       "<style scoped>\n",
       "    .dataframe tbody tr th:only-of-type {\n",
       "        vertical-align: middle;\n",
       "    }\n",
       "\n",
       "    .dataframe tbody tr th {\n",
       "        vertical-align: top;\n",
       "    }\n",
       "\n",
       "    .dataframe thead th {\n",
       "        text-align: right;\n",
       "    }\n",
       "</style>\n",
       "<table border=\"1\" class=\"dataframe\">\n",
       "  <thead>\n",
       "    <tr style=\"text-align: right;\">\n",
       "      <th></th>\n",
       "      <th>customer_id</th>\n",
       "      <th>customer_name</th>\n",
       "    </tr>\n",
       "  </thead>\n",
       "  <tbody>\n",
       "    <tr>\n",
       "      <th>0</th>\n",
       "      <td>A</td>\n",
       "      <td>Alice</td>\n",
       "    </tr>\n",
       "    <tr>\n",
       "      <th>1</th>\n",
       "      <td>B</td>\n",
       "      <td>Bob</td>\n",
       "    </tr>\n",
       "    <tr>\n",
       "      <th>2</th>\n",
       "      <td>C</td>\n",
       "      <td>Charlie</td>\n",
       "    </tr>\n",
       "    <tr>\n",
       "      <th>3</th>\n",
       "      <td>D</td>\n",
       "      <td>David</td>\n",
       "    </tr>\n",
       "  </tbody>\n",
       "</table>\n",
       "</div>"
      ],
      "text/plain": [
       "  customer_id customer_name\n",
       "0           A         Alice\n",
       "1           B           Bob\n",
       "2           C       Charlie\n",
       "3           D         David"
      ]
     },
     "execution_count": 66,
     "metadata": {},
     "output_type": "execute_result"
    }
   ],
   "source": [
    "# Sample customers DataFrame\n",
    "customers_data = {\n",
    "    'customer_id': ['A', 'B', 'C', 'D'],\n",
    "    'customer_name': ['Alice', 'Bob', 'Charlie', 'David']\n",
    "}\n",
    "customers_df = pd.DataFrame(customers_data)\n",
    "customers_df"
   ]
  },
  {
   "cell_type": "markdown",
   "metadata": {},
   "source": [
    "Can you tell what's the common column in both these sets? It makes sense to combine them using the `customer_id` column. Let's do that using the `merge` function from `pandas`:\n",
    "\n",
    "```python\n",
    "merged = pd.merge(customers_df, orders, on='customer_id', how='inner')\n",
    "```\n"
   ]
  },
  {
   "cell_type": "code",
   "execution_count": 67,
   "metadata": {},
   "outputs": [
    {
     "name": "stdout",
     "output_type": "stream",
     "text": [
      "  customer_id customer_name  order_id  order_total\n",
      "0           A         Alice       101           50\n",
      "1           A         Alice       103           60\n",
      "2           B           Bob       102           75\n",
      "3           C       Charlie       104           90\n"
     ]
    }
   ],
   "source": [
    "merged = pd.merge(customers_df, orders, on='customer_id', how='inner')\n",
    "\n",
    "print(merged)"
   ]
  },
  {
   "attachments": {
    "image-2.png": {
     "image/png": "[encoded data removed]"
    },
    "image-3.png": {
     "image/png": "[encoded data removed]"
    },
    "image-4.png": {
     "image/png": "[encoded data removed]"
    }
   },
   "cell_type": "markdown",
   "metadata": {},
   "source": [
    "The two datasets are combined. The arguments for the `merge()` method are:\n",
    "* `left`: the left DataFrame\n",
    "* `right`: the right DataFrame\n",
    "* `on`: the column(s) to join on. If not specified, and no other join keys given, will use the intersection of the column names in `left` and `right` as the join keys.\n",
    "* `left_on`: the column(s) to use from the left DataFrame as the join key(s)\n",
    "* `right_on`: the column(s) to use from the right DataFrame as the join key(s)\n",
    "* `left_index`: if `True`, use the index (row labels) from the left DataFrame as its join key(s). If specified, `left_on` must be `None`.\n",
    "* `right_index`: if `True`, use the index (row labels) from the right DataFrame as its join key(s). If specified, `right_on` must be `None`.\n",
    "* `how`: the type of join to perform. Possible values are: `'left'`, `'right'`, `'outer'`, `'inner'`. Defaults to `'inner'`.\n",
    "* `suffixes`: a tuple of strings to append to the column names of the overlapping columns in the left and right DataFrames, respectively. Defaults to `('_x', '_y')`.\n",
    "\n",
    "For our purpose, we use `left`, `right`, `on`, and `how` arguments. We will use the `left` and `right` arguments to specify the DataFrames we want to join, the `on` argument to specify the column(s) to join on, and the `how` argument to specify the type of join to perform.\n",
    "\n",
    "`on` is used to tell `merge()` which column(s) can be used to combine the datasets. Normally, the columns names are the same, but it doesn't need to be. Think of vlookup`s in a spreadsheet program - you're basically performing a join when you use vlookup. \n",
    "\n",
    "`how` is used to tell `merge()` what type of join to perform. The default is an inner join, which is what we want. An inner join will only keep rows where the join key(s) are present in both datasets. You get 4 types of joins: \n",
    "* Inner join: only keep rows where the join key(s) are present in both datasets\n",
    "\n",
    "![image.png](**attachment**:image.png)\n",
    "\n",
    "* Left join: keep all rows from the left dataset, and only keep rows from the right dataset where the join key(s) are present in both datasets\n",
    "\n",
    "![image-2.png](attachment:image-2.png)\n",
    "\n",
    "* Right join: keep all rows from the right dataset, and only keep rows from the left dataset where the join key(s) are present in both datasets\n",
    "\n",
    "![image-3.png](attachment:image-3.png)\n",
    "\n",
    "* Outer join: keep all rows from both datasets\n",
    "\n",
    "![image-4.png](attachment:image-4.png)\n",
    "\n",
    "Here is a left join example:"
   ]
  },
  {
   "cell_type": "code",
   "execution_count": 8,
   "metadata": {},
   "outputs": [
    {
     "data": {
      "text/html": [
       "<div>\n",
       "<style scoped>\n",
       "    .dataframe tbody tr th:only-of-type {\n",
       "        vertical-align: middle;\n",
       "    }\n",
       "\n",
       "    .dataframe tbody tr th {\n",
       "        vertical-align: top;\n",
       "    }\n",
       "\n",
       "    .dataframe thead th {\n",
       "        text-align: right;\n",
       "    }\n",
       "</style>\n",
       "<table border=\"1\" class=\"dataframe\">\n",
       "  <thead>\n",
       "    <tr style=\"text-align: right;\">\n",
       "      <th></th>\n",
       "      <th>order_id</th>\n",
       "      <th>customer_id</th>\n",
       "      <th>order_total</th>\n",
       "    </tr>\n",
       "  </thead>\n",
       "  <tbody>\n",
       "    <tr>\n",
       "      <th>0</th>\n",
       "      <td>101</td>\n",
       "      <td>A</td>\n",
       "      <td>50</td>\n",
       "    </tr>\n",
       "    <tr>\n",
       "      <th>1</th>\n",
       "      <td>102</td>\n",
       "      <td>B</td>\n",
       "      <td>75</td>\n",
       "    </tr>\n",
       "    <tr>\n",
       "      <th>2</th>\n",
       "      <td>103</td>\n",
       "      <td>A</td>\n",
       "      <td>60</td>\n",
       "    </tr>\n",
       "    <tr>\n",
       "      <th>3</th>\n",
       "      <td>104</td>\n",
       "      <td>C</td>\n",
       "      <td>90</td>\n",
       "    </tr>\n",
       "    <tr>\n",
       "      <th>4</th>\n",
       "      <td>105</td>\n",
       "      <td>F</td>\n",
       "      <td>100</td>\n",
       "    </tr>\n",
       "  </tbody>\n",
       "</table>\n",
       "</div>"
      ],
      "text/plain": [
       "   order_id customer_id  order_total\n",
       "0       101           A           50\n",
       "1       102           B           75\n",
       "2       103           A           60\n",
       "3       104           C           90\n",
       "4       105           F          100"
      ]
     },
     "execution_count": 8,
     "metadata": {},
     "output_type": "execute_result"
    }
   ],
   "source": [
    "import pandas as pd\n",
    "\n",
    "# Sample orders DataFrame\n",
    "orders_data = {\n",
    "    'order_id': [101, 102, 103, 104 , 105],\n",
    "    'customer_id': ['A', 'B', 'A', 'C' , 'F'],\n",
    "    'order_total': [50, 75, 60, 90 , 100]\n",
    "}\n",
    "orders_df = pd.DataFrame(orders_data)\n",
    "orders_df "
   ]
  },
  {
   "cell_type": "code",
   "execution_count": 14,
   "metadata": {},
   "outputs": [
    {
     "data": {
      "text/html": [
       "<div>\n",
       "<style scoped>\n",
       "    .dataframe tbody tr th:only-of-type {\n",
       "        vertical-align: middle;\n",
       "    }\n",
       "\n",
       "    .dataframe tbody tr th {\n",
       "        vertical-align: top;\n",
       "    }\n",
       "\n",
       "    .dataframe thead th {\n",
       "        text-align: right;\n",
       "    }\n",
       "</style>\n",
       "<table border=\"1\" class=\"dataframe\">\n",
       "  <thead>\n",
       "    <tr style=\"text-align: right;\">\n",
       "      <th></th>\n",
       "      <th>customer_id</th>\n",
       "      <th>customer_name</th>\n",
       "    </tr>\n",
       "  </thead>\n",
       "  <tbody>\n",
       "    <tr>\n",
       "      <th>0</th>\n",
       "      <td>A</td>\n",
       "      <td>Alice</td>\n",
       "    </tr>\n",
       "    <tr>\n",
       "      <th>1</th>\n",
       "      <td>B</td>\n",
       "      <td>Bob</td>\n",
       "    </tr>\n",
       "    <tr>\n",
       "      <th>2</th>\n",
       "      <td>C</td>\n",
       "      <td>Charlie</td>\n",
       "    </tr>\n",
       "    <tr>\n",
       "      <th>3</th>\n",
       "      <td>D</td>\n",
       "      <td>David</td>\n",
       "    </tr>\n",
       "  </tbody>\n",
       "</table>\n",
       "</div>"
      ],
      "text/plain": [
       "  customer_id customer_name\n",
       "0           A         Alice\n",
       "1           B           Bob\n",
       "2           C       Charlie\n",
       "3           D         David"
      ]
     },
     "execution_count": 14,
     "metadata": {},
     "output_type": "execute_result"
    }
   ],
   "source": [
    "# Sample customers DataFrame\n",
    "customers_data = {\n",
    "    'customer_id': ['A', 'B', 'C', 'D'],\n",
    "    'customer_name': ['Alice', 'Bob', 'Charlie', 'David']\n",
    "}\n",
    "customers_df = pd.DataFrame(customers_data)\n",
    "customers_df"
   ]
  },
  {
   "cell_type": "code",
   "execution_count": 12,
   "metadata": {},
   "outputs": [
    {
     "name": "stdout",
     "output_type": "stream",
     "text": [
      "   order_id customer_id  order_total customer_name\n",
      "0       101           A           50         Alice\n",
      "1       102           B           75           Bob\n",
      "2       103           A           60         Alice\n",
      "3       104           C           90       Charlie\n",
      "4       105           F          100           NaN\n"
     ]
    }
   ],
   "source": [
    "\n",
    "# Perform left join based on 'customer_id'\n",
    "result_df = pd.merge(orders_df, customers_df, on='customer_id', how='left')\n",
    "print(result_df)"
   ]
  },
  {
   "cell_type": "markdown",
   "metadata": {},
   "source": [
    "We may want only the customers that have orders. Notice that `David` (or `customer_id` `D`) does not have an order. There are 4 rows in the `customers` dataframe and 3 in `order_data`. That is why the result of the merge is 3 rows. \n",
    "\n",
    "We can swap it around - asking for all customers - if they have a order or not - by using a `right join`:"
   ]
  },
  {
   "cell_type": "code",
   "execution_count": 15,
   "metadata": {},
   "outputs": [
    {
     "name": "stdout",
     "output_type": "stream",
     "text": [
      "   order_id customer_id  order_total customer_name\n",
      "0     101.0           A         50.0         Alice\n",
      "1     103.0           A         60.0         Alice\n",
      "2     102.0           B         75.0           Bob\n",
      "3     104.0           C         90.0       Charlie\n",
      "4       NaN           D          NaN         David\n"
     ]
    }
   ],
   "source": [
    "result_df = pd.merge(orders_df, customers_df, on='customer_id', how='right')\n",
    "\n",
    "print(result_df)"
   ]
  },
  {
   "cell_type": "markdown",
   "metadata": {},
   "source": [
    "Notice the last row. David has no orders. `order_id` and `order_total` is `NaN` - not a number. This is because David has no orders. \n",
    "\n",
    "`OUTER JOIN` is even less restrictive than `LEFT JOIN` or `RIGHT JOIN`. It will return all rows from both tables, even if there is no match. Using the same example as above, the result would look like this:"
   ]
  },
  {
   "cell_type": "code",
   "execution_count": 17,
   "metadata": {},
   "outputs": [
    {
     "name": "stdout",
     "output_type": "stream",
     "text": [
      "   order_id customer_id  order_total customer_name\n",
      "0     101.0           A         50.0         Alice\n",
      "1     103.0           A         60.0         Alice\n",
      "2     102.0           B         75.0           Bob\n",
      "3     104.0           C         90.0       Charlie\n",
      "4     105.0           F        100.0           NaN\n",
      "5       NaN           D          NaN         David\n"
     ]
    }
   ],
   "source": [
    "result_df = pd.merge(orders_df, customers_df, on='customer_id', how='outer')\n",
    "\n",
    "print(result_df)"
   ]
  },
  {
   "cell_type": "markdown",
   "metadata": {},
   "source": [
    "## Join\n",
    "Why was the previous section called **MERGE** - because there is also a **JOIN**. "
   ]
  },
  {
   "cell_type": "markdown",
   "metadata": {},
   "source": [
    "In Pandas, both `join` and `merge` are used to combine two or more DataFrames into a single DataFrame. However, they differ in how they combine the DataFrames:\n",
    "\n",
    "- `join` is used to combine DataFrames based on their indexes. It is a convenient method for combining DataFrames that have the same or similar indexes. By default, `join` performs a left join, which means that all the rows from the left DataFrame are included in the result, and only the matching rows from the right DataFrame are included. You can also specify other types of joins, such as inner join, right join, and outer join, using the `how` parameter.\n",
    "\n",
    "- `merge` is used to combine DataFrames based on one or more columns that they share. It is a more flexible method for combining DataFrames that have different indexes or column names. By default, `merge` performs an inner join, which means that only the matching rows from both DataFrames are included in the result. You can also specify other types of joins, such as left join, right join, and outer join, using the `how` parameter.\n",
    "\n",
    "In general, you should use `join` when you want to combine DataFrames based on their indexes, and `merge` when you want to combine DataFrames based on their columns. However, both methods can be used in a variety of situations, and the choice between them depends on the specific requirements of your analysis."
   ]
  },
  {
   "cell_type": "code",
   "execution_count": 37,
   "metadata": {},
   "outputs": [
    {
     "data": {
      "text/html": [
       "<div>\n",
       "<style scoped>\n",
       "    .dataframe tbody tr th:only-of-type {\n",
       "        vertical-align: middle;\n",
       "    }\n",
       "\n",
       "    .dataframe tbody tr th {\n",
       "        vertical-align: top;\n",
       "    }\n",
       "\n",
       "    .dataframe thead th {\n",
       "        text-align: right;\n",
       "    }\n",
       "</style>\n",
       "<table border=\"1\" class=\"dataframe\">\n",
       "  <thead>\n",
       "    <tr style=\"text-align: right;\">\n",
       "      <th></th>\n",
       "      <th>A</th>\n",
       "      <th>B</th>\n",
       "    </tr>\n",
       "  </thead>\n",
       "  <tbody>\n",
       "    <tr>\n",
       "      <th>K0</th>\n",
       "      <td>A0</td>\n",
       "      <td>B0</td>\n",
       "    </tr>\n",
       "    <tr>\n",
       "      <th>K1</th>\n",
       "      <td>A1</td>\n",
       "      <td>B1</td>\n",
       "    </tr>\n",
       "    <tr>\n",
       "      <th>K2</th>\n",
       "      <td>A2</td>\n",
       "      <td>B2</td>\n",
       "    </tr>\n",
       "  </tbody>\n",
       "</table>\n",
       "</div>"
      ],
      "text/plain": [
       "     A   B\n",
       "K0  A0  B0\n",
       "K1  A1  B1\n",
       "K2  A2  B2"
      ]
     },
     "execution_count": 37,
     "metadata": {},
     "output_type": "execute_result"
    }
   ],
   "source": [
    "import pandas as pd\n",
    "\n",
    "# create two DataFrames with the same index\n",
    "data1 = {'A': ['A0', 'A1', 'A2'], 'B': ['B0', 'B1', 'B2']}\n",
    "df1 = pd.DataFrame(data1, index=['K0', 'K1', 'K2'])\n",
    "df1 "
   ]
  },
  {
   "cell_type": "code",
   "execution_count": 38,
   "metadata": {},
   "outputs": [
    {
     "data": {
      "text/html": [
       "<div>\n",
       "<style scoped>\n",
       "    .dataframe tbody tr th:only-of-type {\n",
       "        vertical-align: middle;\n",
       "    }\n",
       "\n",
       "    .dataframe tbody tr th {\n",
       "        vertical-align: top;\n",
       "    }\n",
       "\n",
       "    .dataframe thead th {\n",
       "        text-align: right;\n",
       "    }\n",
       "</style>\n",
       "<table border=\"1\" class=\"dataframe\">\n",
       "  <thead>\n",
       "    <tr style=\"text-align: right;\">\n",
       "      <th></th>\n",
       "      <th>C</th>\n",
       "      <th>D</th>\n",
       "    </tr>\n",
       "  </thead>\n",
       "  <tbody>\n",
       "    <tr>\n",
       "      <th>K0</th>\n",
       "      <td>C0</td>\n",
       "      <td>D0</td>\n",
       "    </tr>\n",
       "    <tr>\n",
       "      <th>K2</th>\n",
       "      <td>C1</td>\n",
       "      <td>D1</td>\n",
       "    </tr>\n",
       "    <tr>\n",
       "      <th>K3</th>\n",
       "      <td>C2</td>\n",
       "      <td>D2</td>\n",
       "    </tr>\n",
       "  </tbody>\n",
       "</table>\n",
       "</div>"
      ],
      "text/plain": [
       "     C   D\n",
       "K0  C0  D0\n",
       "K2  C1  D1\n",
       "K3  C2  D2"
      ]
     },
     "execution_count": 38,
     "metadata": {},
     "output_type": "execute_result"
    }
   ],
   "source": [
    "data2 = {'C': ['C0', 'C1', 'C2'], 'D': ['D0', 'D1', 'D2']}\n",
    "df2 = pd.DataFrame(data2, index=['K0', 'K2', 'K3'])\n",
    "df2"
   ]
  },
  {
   "cell_type": "code",
   "execution_count": 39,
   "metadata": {},
   "outputs": [
    {
     "name": "stdout",
     "output_type": "stream",
     "text": [
      "     A   B    C    D\n",
      "K0  A0  B0   C0   D0\n",
      "K1  A1  B1  NaN  NaN\n",
      "K2  A2  B2   C1   D1\n"
     ]
    }
   ],
   "source": [
    "\n",
    "# join the DataFrames on their index\n",
    "result = df1.join(df2)\n",
    "# print the result\n",
    "print(result)"
   ]
  },
  {
   "cell_type": "code",
   "execution_count": 40,
   "metadata": {},
   "outputs": [
    {
     "data": {
      "text/html": [
       "<div>\n",
       "<style scoped>\n",
       "    .dataframe tbody tr th:only-of-type {\n",
       "        vertical-align: middle;\n",
       "    }\n",
       "\n",
       "    .dataframe tbody tr th {\n",
       "        vertical-align: top;\n",
       "    }\n",
       "\n",
       "    .dataframe thead th {\n",
       "        text-align: right;\n",
       "    }\n",
       "</style>\n",
       "<table border=\"1\" class=\"dataframe\">\n",
       "  <thead>\n",
       "    <tr style=\"text-align: right;\">\n",
       "      <th></th>\n",
       "      <th>A</th>\n",
       "      <th>B</th>\n",
       "    </tr>\n",
       "  </thead>\n",
       "  <tbody>\n",
       "    <tr>\n",
       "      <th>0</th>\n",
       "      <td>1</td>\n",
       "      <td>4</td>\n",
       "    </tr>\n",
       "    <tr>\n",
       "      <th>1</th>\n",
       "      <td>2</td>\n",
       "      <td>5</td>\n",
       "    </tr>\n",
       "    <tr>\n",
       "      <th>2</th>\n",
       "      <td>3</td>\n",
       "      <td>6</td>\n",
       "    </tr>\n",
       "    <tr>\n",
       "      <th>3</th>\n",
       "      <td>4</td>\n",
       "      <td>7</td>\n",
       "    </tr>\n",
       "    <tr>\n",
       "      <th>4</th>\n",
       "      <td>5</td>\n",
       "      <td>8</td>\n",
       "    </tr>\n",
       "  </tbody>\n",
       "</table>\n",
       "</div>"
      ],
      "text/plain": [
       "   A  B\n",
       "0  1  4\n",
       "1  2  5\n",
       "2  3  6\n",
       "3  4  7\n",
       "4  5  8"
      ]
     },
     "execution_count": 40,
     "metadata": {},
     "output_type": "execute_result"
    }
   ],
   "source": [
    "import pandas as pd\n",
    "\n",
    "# Create the first DataFrame\n",
    "df1 = pd.DataFrame({'A': [1, 2, 3, 4, 5], 'B': [4, 5, 6, 7, 8]})\n",
    "df1 \n"
   ]
  },
  {
   "cell_type": "code",
   "execution_count": 41,
   "metadata": {},
   "outputs": [
    {
     "data": {
      "text/html": [
       "<div>\n",
       "<style scoped>\n",
       "    .dataframe tbody tr th:only-of-type {\n",
       "        vertical-align: middle;\n",
       "    }\n",
       "\n",
       "    .dataframe tbody tr th {\n",
       "        vertical-align: top;\n",
       "    }\n",
       "\n",
       "    .dataframe thead th {\n",
       "        text-align: right;\n",
       "    }\n",
       "</style>\n",
       "<table border=\"1\" class=\"dataframe\">\n",
       "  <thead>\n",
       "    <tr style=\"text-align: right;\">\n",
       "      <th></th>\n",
       "      <th>A</th>\n",
       "      <th>B</th>\n",
       "    </tr>\n",
       "  </thead>\n",
       "  <tbody>\n",
       "    <tr>\n",
       "      <th>0</th>\n",
       "      <td>2</td>\n",
       "      <td>5</td>\n",
       "    </tr>\n",
       "    <tr>\n",
       "      <th>1</th>\n",
       "      <td>4</td>\n",
       "      <td>7</td>\n",
       "    </tr>\n",
       "    <tr>\n",
       "      <th>2</th>\n",
       "      <td>6</td>\n",
       "      <td>9</td>\n",
       "    </tr>\n",
       "    <tr>\n",
       "      <th>3</th>\n",
       "      <td>8</td>\n",
       "      <td>10</td>\n",
       "    </tr>\n",
       "  </tbody>\n",
       "</table>\n",
       "</div>"
      ],
      "text/plain": [
       "   A   B\n",
       "0  2   5\n",
       "1  4   7\n",
       "2  6   9\n",
       "3  8  10"
      ]
     },
     "execution_count": 41,
     "metadata": {},
     "output_type": "execute_result"
    }
   ],
   "source": [
    "# Create the second DataFrame\n",
    "df2 = pd.DataFrame({'A': [2, 4, 6, 8], 'B': [5, 7, 9, 10]})\n",
    "df2\n"
   ]
  },
  {
   "cell_type": "code",
   "execution_count": 42,
   "metadata": {},
   "outputs": [
    {
     "name": "stdout",
     "output_type": "stream",
     "text": [
      "   A_left  B_left  A_right  B_right\n",
      "0       1       4      4.0      7.0\n",
      "1       2       5      6.0      9.0\n",
      "2       3       6      8.0     10.0\n",
      "3       4       7      NaN      NaN\n",
      "4       5       8      NaN      NaN\n"
     ]
    }
   ],
   "source": [
    "\n",
    "# Join the two DataFrames on the A column\n",
    "df_joined = df1.join(df2, on='A', lsuffix='_left', rsuffix='_right')\n",
    "\n",
    "# Print the DataFrame\n",
    "print(df_joined)\n"
   ]
  },
  {
   "cell_type": "markdown",
   "metadata": {},
   "source": [
    "## Adding new rows \n",
    "You frequently need to add new rows to existing data. Pandas has several methods that achieves this task. Here is `concat()`:"
   ]
  },
  {
   "cell_type": "code",
   "execution_count": 50,
   "metadata": {},
   "outputs": [
    {
     "data": {
      "text/html": [
       "<div>\n",
       "<style scoped>\n",
       "    .dataframe tbody tr th:only-of-type {\n",
       "        vertical-align: middle;\n",
       "    }\n",
       "\n",
       "    .dataframe tbody tr th {\n",
       "        vertical-align: top;\n",
       "    }\n",
       "\n",
       "    .dataframe thead th {\n",
       "        text-align: right;\n",
       "    }\n",
       "</style>\n",
       "<table border=\"1\" class=\"dataframe\">\n",
       "  <thead>\n",
       "    <tr style=\"text-align: right;\">\n",
       "      <th></th>\n",
       "      <th>Name</th>\n",
       "      <th>Age</th>\n",
       "    </tr>\n",
       "  </thead>\n",
       "  <tbody>\n",
       "    <tr>\n",
       "      <th>0</th>\n",
       "      <td>Alice</td>\n",
       "      <td>25</td>\n",
       "    </tr>\n",
       "    <tr>\n",
       "      <th>1</th>\n",
       "      <td>Bob</td>\n",
       "      <td>30</td>\n",
       "    </tr>\n",
       "    <tr>\n",
       "      <th>2</th>\n",
       "      <td>Charlie</td>\n",
       "      <td>35</td>\n",
       "    </tr>\n",
       "  </tbody>\n",
       "</table>\n",
       "</div>"
      ],
      "text/plain": [
       "      Name  Age\n",
       "0    Alice   25\n",
       "1      Bob   30\n",
       "2  Charlie   35"
      ]
     },
     "execution_count": 50,
     "metadata": {},
     "output_type": "execute_result"
    }
   ],
   "source": [
    "# Create a DataFrame\n",
    "data = {\"Name\": [\"Alice\", \"Bob\", \"Charlie\"], \"Age\": [25, 30, 35]}\n",
    "df = pd.DataFrame(data)\n",
    "\n",
    "df\n"
   ]
  },
  {
   "cell_type": "code",
   "execution_count": 49,
   "metadata": {},
   "outputs": [
    {
     "data": {
      "text/html": [
       "<div>\n",
       "<style scoped>\n",
       "    .dataframe tbody tr th:only-of-type {\n",
       "        vertical-align: middle;\n",
       "    }\n",
       "\n",
       "    .dataframe tbody tr th {\n",
       "        vertical-align: top;\n",
       "    }\n",
       "\n",
       "    .dataframe thead th {\n",
       "        text-align: right;\n",
       "    }\n",
       "</style>\n",
       "<table border=\"1\" class=\"dataframe\">\n",
       "  <thead>\n",
       "    <tr style=\"text-align: right;\">\n",
       "      <th></th>\n",
       "      <th>Name</th>\n",
       "      <th>Age</th>\n",
       "    </tr>\n",
       "  </thead>\n",
       "  <tbody>\n",
       "    <tr>\n",
       "      <th>0</th>\n",
       "      <td>David</td>\n",
       "      <td>40</td>\n",
       "    </tr>\n",
       "  </tbody>\n",
       "</table>\n",
       "</div>"
      ],
      "text/plain": [
       "    Name  Age\n",
       "0  David   40"
      ]
     },
     "execution_count": 49,
     "metadata": {},
     "output_type": "execute_result"
    }
   ],
   "source": [
    "\n",
    "# Create a new DataFrame with the new row\n",
    "\n",
    "new_row = pd.DataFrame({\"Name\": [\"David\"], \"Age\": [40]})\n",
    "\n",
    "new_row\n"
   ]
  },
  {
   "cell_type": "code",
   "execution_count": 51,
   "metadata": {},
   "outputs": [
    {
     "name": "stdout",
     "output_type": "stream",
     "text": [
      "      Name  Age\n",
      "0    Alice   25\n",
      "1      Bob   30\n",
      "2  Charlie   35\n",
      "3    David   40\n"
     ]
    }
   ],
   "source": [
    "\n",
    "# Use the concat function to concatenate the DataFrames\n",
    "df = pd.concat([df, new_row], ignore_index=True)\n",
    "# Print the updated DataFrame\n",
    "print(df)"
   ]
  },
  {
   "cell_type": "code",
   "execution_count": 52,
   "metadata": {},
   "outputs": [
    {
     "name": "stdout",
     "output_type": "stream",
     "text": [
      "      Name  Age\n",
      "0    Alice   25\n",
      "1      Bob   30\n",
      "2  Charlie   35\n",
      "3    David   40\n"
     ]
    }
   ],
   "source": [
    "# remove duplicates from the DataFrame\n",
    "df = df.drop_duplicates()\n",
    "# print the updated DataFrame\n",
    "print(df)\n"
   ]
  },
  {
   "cell_type": "markdown",
   "metadata": {},
   "source": [
    "In the code above, we added one row to the `data` dataframe but, more often, you'll add multiple rows to existing data: "
   ]
  },
  {
   "cell_type": "code",
   "execution_count": 53,
   "metadata": {},
   "outputs": [
    {
     "name": "stdout",
     "output_type": "stream",
     "text": [
      "      Name  Age\n",
      "0    Alice   25\n",
      "1      Bob   30\n",
      "2  Charlie   35\n",
      "3    David   40\n",
      "4      Eva   28\n"
     ]
    }
   ],
   "source": [
    "import pandas as pd\n",
    "\n",
    "# Create a DataFrame\n",
    "data = {'Name': ['Alice', 'Bob', 'Charlie'],\n",
    "        'Age': [25, 30, 35]}\n",
    "df = pd.DataFrame(data)\n",
    "\n",
    "# Create a new DataFrame with multiple new rows\n",
    "new_data = {'Name': ['David', 'Eva'],\n",
    "            'Age': [40, 28]}\n",
    "new_rows = pd.DataFrame(new_data)\n",
    "\n",
    "# Use the concat function to concatenate the DataFrames\n",
    "df = pd.concat([df, new_rows], ignore_index=True)\n",
    "\n",
    "# Print the updated DataFrame\n",
    "print(df)\n"
   ]
  },
  {
   "cell_type": "markdown",
   "metadata": {},
   "source": [
    "The syntax is the same. "
   ]
  },
  {
   "cell_type": "markdown",
   "metadata": {},
   "source": [
    "## Update existing data\n",
    "Inserting new and updating existing data are tasks that are frequently performed together. To update existing data, you can use the `merge()` function shown earlier:"
   ]
  },
  {
   "cell_type": "markdown",
   "metadata": {},
   "source": [
    "### Update"
   ]
  },
  {
   "cell_type": "code",
   "execution_count": 74,
   "metadata": {},
   "outputs": [
    {
     "data": {
      "text/html": [
       "<div>\n",
       "<style scoped>\n",
       "    .dataframe tbody tr th:only-of-type {\n",
       "        vertical-align: middle;\n",
       "    }\n",
       "\n",
       "    .dataframe tbody tr th {\n",
       "        vertical-align: top;\n",
       "    }\n",
       "\n",
       "    .dataframe thead th {\n",
       "        text-align: right;\n",
       "    }\n",
       "</style>\n",
       "<table border=\"1\" class=\"dataframe\">\n",
       "  <thead>\n",
       "    <tr style=\"text-align: right;\">\n",
       "      <th></th>\n",
       "      <th>ID</th>\n",
       "      <th>Name</th>\n",
       "      <th>Age</th>\n",
       "    </tr>\n",
       "  </thead>\n",
       "  <tbody>\n",
       "    <tr>\n",
       "      <th>0</th>\n",
       "      <td>1</td>\n",
       "      <td>John</td>\n",
       "      <td>25</td>\n",
       "    </tr>\n",
       "    <tr>\n",
       "      <th>1</th>\n",
       "      <td>2</td>\n",
       "      <td>Jane</td>\n",
       "      <td>30</td>\n",
       "    </tr>\n",
       "    <tr>\n",
       "      <th>2</th>\n",
       "      <td>3</td>\n",
       "      <td>Bob</td>\n",
       "      <td>35</td>\n",
       "    </tr>\n",
       "    <tr>\n",
       "      <th>3</th>\n",
       "      <td>4</td>\n",
       "      <td>Alice</td>\n",
       "      <td>40</td>\n",
       "    </tr>\n",
       "  </tbody>\n",
       "</table>\n",
       "</div>"
      ],
      "text/plain": [
       "   ID   Name  Age\n",
       "0   1   John   25\n",
       "1   2   Jane   30\n",
       "2   3    Bob   35\n",
       "3   4  Alice   40"
      ]
     },
     "execution_count": 74,
     "metadata": {},
     "output_type": "execute_result"
    }
   ],
   "source": [
    "import pandas as pd\n",
    "\n",
    "# Create the original DataFrame\n",
    "data = {'ID': [1, 2, 3, 4],\n",
    "        'Name': ['John', 'Jane', 'Bob', 'Alice'],\n",
    "        'Age': [25, 30, 35, 40]}\n",
    "df = pd.DataFrame(data)\n",
    "df \n"
   ]
  },
  {
   "cell_type": "code",
   "execution_count": 77,
   "metadata": {},
   "outputs": [
    {
     "data": {
      "text/html": [
       "<div>\n",
       "<style scoped>\n",
       "    .dataframe tbody tr th:only-of-type {\n",
       "        vertical-align: middle;\n",
       "    }\n",
       "\n",
       "    .dataframe tbody tr th {\n",
       "        vertical-align: top;\n",
       "    }\n",
       "\n",
       "    .dataframe thead th {\n",
       "        text-align: right;\n",
       "    }\n",
       "</style>\n",
       "<table border=\"1\" class=\"dataframe\">\n",
       "  <thead>\n",
       "    <tr style=\"text-align: right;\">\n",
       "      <th></th>\n",
       "      <th>ID</th>\n",
       "      <th>Age</th>\n",
       "    </tr>\n",
       "  </thead>\n",
       "  <tbody>\n",
       "    <tr>\n",
       "      <th>0</th>\n",
       "      <td>2</td>\n",
       "      <td>31</td>\n",
       "    </tr>\n",
       "    <tr>\n",
       "      <th>1</th>\n",
       "      <td>3</td>\n",
       "      <td>36</td>\n",
       "    </tr>\n",
       "  </tbody>\n",
       "</table>\n",
       "</div>"
      ],
      "text/plain": [
       "   ID  Age\n",
       "0   2   31\n",
       "1   3   36"
      ]
     },
     "execution_count": 77,
     "metadata": {},
     "output_type": "execute_result"
    }
   ],
   "source": [
    "\n",
    "# Create the new DataFrame with updated values\n",
    "new_data = {'ID': [2, 3],\n",
    "            'Age': [31, 36]}\n",
    "new_df = pd.DataFrame(new_data)\n",
    "new_df\n"
   ]
  },
  {
   "cell_type": "code",
   "execution_count": 78,
   "metadata": {},
   "outputs": [
    {
     "name": "stdout",
     "output_type": "stream",
     "text": [
      "    ID   Name   Age\n",
      "0  2.0   John  31.0\n",
      "1  3.0   Jane  36.0\n",
      "2  3.0    Bob  35.0\n",
      "3  4.0  Alice  40.0\n"
     ]
    }
   ],
   "source": [
    "# Update the original DataFrame with the new values\n",
    "df.update(new_df)\n",
    "\n",
    "# Print the updated DataFrame\n",
    "print(df)"
   ]
  },
  {
   "cell_type": "code",
   "execution_count": 88,
   "metadata": {},
   "outputs": [
    {
     "data": {
      "text/html": [
       "<div>\n",
       "<style scoped>\n",
       "    .dataframe tbody tr th:only-of-type {\n",
       "        vertical-align: middle;\n",
       "    }\n",
       "\n",
       "    .dataframe tbody tr th {\n",
       "        vertical-align: top;\n",
       "    }\n",
       "\n",
       "    .dataframe thead th {\n",
       "        text-align: right;\n",
       "    }\n",
       "</style>\n",
       "<table border=\"1\" class=\"dataframe\">\n",
       "  <thead>\n",
       "    <tr style=\"text-align: right;\">\n",
       "      <th></th>\n",
       "      <th>ID</th>\n",
       "      <th>Name</th>\n",
       "      <th>Age</th>\n",
       "    </tr>\n",
       "  </thead>\n",
       "  <tbody>\n",
       "    <tr>\n",
       "      <th>0</th>\n",
       "      <td>1</td>\n",
       "      <td>John</td>\n",
       "      <td>25</td>\n",
       "    </tr>\n",
       "    <tr>\n",
       "      <th>1</th>\n",
       "      <td>2</td>\n",
       "      <td>Jane</td>\n",
       "      <td>30</td>\n",
       "    </tr>\n",
       "    <tr>\n",
       "      <th>2</th>\n",
       "      <td>3</td>\n",
       "      <td>Bob</td>\n",
       "      <td>35</td>\n",
       "    </tr>\n",
       "    <tr>\n",
       "      <th>3</th>\n",
       "      <td>4</td>\n",
       "      <td>Alice</td>\n",
       "      <td>40</td>\n",
       "    </tr>\n",
       "  </tbody>\n",
       "</table>\n",
       "</div>"
      ],
      "text/plain": [
       "   ID   Name  Age\n",
       "0   1   John   25\n",
       "1   2   Jane   30\n",
       "2   3    Bob   35\n",
       "3   4  Alice   40"
      ]
     },
     "execution_count": 88,
     "metadata": {},
     "output_type": "execute_result"
    }
   ],
   "source": [
    "import pandas as pd\n",
    "\n",
    "# Create the original DataFrame\n",
    "data = {'ID': [1, 2, 3, 4],\n",
    "        'Name': ['John', 'Jane', 'Bob', 'Alice'],\n",
    "        'Age': [25, 30, 35, 40]}\n",
    "df_main = pd.DataFrame(data)\n",
    "df_main"
   ]
  },
  {
   "cell_type": "code",
   "execution_count": 89,
   "metadata": {},
   "outputs": [
    {
     "data": {
      "text/html": [
       "<div>\n",
       "<style scoped>\n",
       "    .dataframe tbody tr th:only-of-type {\n",
       "        vertical-align: middle;\n",
       "    }\n",
       "\n",
       "    .dataframe tbody tr th {\n",
       "        vertical-align: top;\n",
       "    }\n",
       "\n",
       "    .dataframe thead th {\n",
       "        text-align: right;\n",
       "    }\n",
       "</style>\n",
       "<table border=\"1\" class=\"dataframe\">\n",
       "  <thead>\n",
       "    <tr style=\"text-align: right;\">\n",
       "      <th></th>\n",
       "      <th>ID</th>\n",
       "      <th>Age</th>\n",
       "      <th>Name</th>\n",
       "    </tr>\n",
       "  </thead>\n",
       "  <tbody>\n",
       "    <tr>\n",
       "      <th>0</th>\n",
       "      <td>2</td>\n",
       "      <td>31</td>\n",
       "      <td>Jane</td>\n",
       "    </tr>\n",
       "    <tr>\n",
       "      <th>1</th>\n",
       "      <td>3</td>\n",
       "      <td>36</td>\n",
       "      <td>Bob</td>\n",
       "    </tr>\n",
       "    <tr>\n",
       "      <th>2</th>\n",
       "      <td>5</td>\n",
       "      <td>27</td>\n",
       "      <td>Eve</td>\n",
       "    </tr>\n",
       "  </tbody>\n",
       "</table>\n",
       "</div>"
      ],
      "text/plain": [
       "   ID  Age  Name\n",
       "0   2   31  Jane\n",
       "1   3   36   Bob\n",
       "2   5   27   Eve"
      ]
     },
     "execution_count": 89,
     "metadata": {},
     "output_type": "execute_result"
    }
   ],
   "source": [
    "\n",
    "# Create the new DataFrame with updated values and a new row\n",
    "new_data = {'ID': [2, 3, 5],\n",
    "            'Age': [31, 36, 27],\n",
    "            'Name': ['Jane', 'Bob', 'Eve']}\n",
    "df_update = pd.DataFrame(new_data)\n",
    "df_update\n"
   ]
  },
  {
   "cell_type": "code",
   "execution_count": 90,
   "metadata": {},
   "outputs": [
    {
     "name": "stdout",
     "output_type": "stream",
     "text": [
      "   ID   Name   Age\n",
      "0   1   John  25.0\n",
      "1   2   Jane  31.0\n",
      "2   3    Bob  36.0\n",
      "3   4  Alice  40.0\n"
     ]
    }
   ],
   "source": [
    "\n",
    "# Set 'ID' as the index for both DataFrames\n",
    "df_main.set_index('ID', inplace=True)\n",
    "df_update.set_index('ID', inplace=True)\n",
    "\n",
    "# Update df_main with values from df_update,\n",
    "df_main.update(df_update, overwrite=True)\n",
    "\n",
    "# Reset the index if needed\n",
    "df_main.reset_index(inplace=True)\n",
    "\n",
    "print(df_main)\n"
   ]
  },
  {
   "cell_type": "markdown",
   "metadata": {},
   "source": [
    "### Merge"
   ]
  },
  {
   "cell_type": "code",
   "execution_count": 96,
   "metadata": {},
   "outputs": [
    {
     "data": {
      "text/html": [
       "<div>\n",
       "<style scoped>\n",
       "    .dataframe tbody tr th:only-of-type {\n",
       "        vertical-align: middle;\n",
       "    }\n",
       "\n",
       "    .dataframe tbody tr th {\n",
       "        vertical-align: top;\n",
       "    }\n",
       "\n",
       "    .dataframe thead th {\n",
       "        text-align: right;\n",
       "    }\n",
       "</style>\n",
       "<table border=\"1\" class=\"dataframe\">\n",
       "  <thead>\n",
       "    <tr style=\"text-align: right;\">\n",
       "      <th></th>\n",
       "      <th>ID</th>\n",
       "      <th>Value</th>\n",
       "    </tr>\n",
       "  </thead>\n",
       "  <tbody>\n",
       "    <tr>\n",
       "      <th>0</th>\n",
       "      <td>1</td>\n",
       "      <td>A</td>\n",
       "    </tr>\n",
       "    <tr>\n",
       "      <th>1</th>\n",
       "      <td>2</td>\n",
       "      <td>B</td>\n",
       "    </tr>\n",
       "    <tr>\n",
       "      <th>2</th>\n",
       "      <td>3</td>\n",
       "      <td>C</td>\n",
       "    </tr>\n",
       "    <tr>\n",
       "      <th>3</th>\n",
       "      <td>4</td>\n",
       "      <td>D</td>\n",
       "    </tr>\n",
       "  </tbody>\n",
       "</table>\n",
       "</div>"
      ],
      "text/plain": [
       "   ID Value\n",
       "0   1     A\n",
       "1   2     B\n",
       "2   3     C\n",
       "3   4     D"
      ]
     },
     "execution_count": 96,
     "metadata": {},
     "output_type": "execute_result"
    }
   ],
   "source": [
    "# Sample DataFrames\n",
    "# Create the original DataFrame\n",
    "data = {'ID': [1, 2, 3, 4],\n",
    "        'Value': ['A', 'B', 'C', 'D']}\n",
    "df_original = pd.DataFrame(data)\n",
    "df_original\n",
    "\n"
   ]
  },
  {
   "cell_type": "code",
   "execution_count": 97,
   "metadata": {},
   "outputs": [
    {
     "data": {
      "text/html": [
       "<div>\n",
       "<style scoped>\n",
       "    .dataframe tbody tr th:only-of-type {\n",
       "        vertical-align: middle;\n",
       "    }\n",
       "\n",
       "    .dataframe tbody tr th {\n",
       "        vertical-align: top;\n",
       "    }\n",
       "\n",
       "    .dataframe thead th {\n",
       "        text-align: right;\n",
       "    }\n",
       "</style>\n",
       "<table border=\"1\" class=\"dataframe\">\n",
       "  <thead>\n",
       "    <tr style=\"text-align: right;\">\n",
       "      <th></th>\n",
       "      <th>ID</th>\n",
       "      <th>Value</th>\n",
       "    </tr>\n",
       "  </thead>\n",
       "  <tbody>\n",
       "    <tr>\n",
       "      <th>0</th>\n",
       "      <td>2</td>\n",
       "      <td>X</td>\n",
       "    </tr>\n",
       "    <tr>\n",
       "      <th>1</th>\n",
       "      <td>4</td>\n",
       "      <td>Y</td>\n",
       "    </tr>\n",
       "  </tbody>\n",
       "</table>\n",
       "</div>"
      ],
      "text/plain": [
       "   ID Value\n",
       "0   2     X\n",
       "1   4     Y"
      ]
     },
     "execution_count": 97,
     "metadata": {},
     "output_type": "execute_result"
    }
   ],
   "source": [
    "\n",
    "# Create a DataFrame with updated values\n",
    "updated_data = {'ID': [2, 4],\n",
    "                'Value': ['X', 'Y']}\n",
    "df_updated = pd.DataFrame(updated_data)\n",
    "\n",
    "df_updated\n"
   ]
  },
  {
   "cell_type": "code",
   "execution_count": 99,
   "metadata": {},
   "outputs": [
    {
     "name": "stdout",
     "output_type": "stream",
     "text": [
      "   ID Value_original Value_updated\n",
      "0   1              A           NaN\n",
      "1   2              B             X\n",
      "2   3              C           NaN\n",
      "3   4              D             Y\n"
     ]
    }
   ],
   "source": [
    "\n",
    "# Merge the original DataFrame with the updated DataFrame based on 'ID'\n",
    "merged_df = df_original.merge(df_updated, on='ID', how='left', suffixes=('_original', '_updated'))\n",
    "\n",
    "print(merged_df)"
   ]
  },
  {
   "cell_type": "markdown",
   "metadata": {},
   "source": [
    "Notice the `suffixes`  argument. It's used to give unique names to the two dataframes. `Value` has the same column name in both datasets. In the dataframe, it's been renamed to `Value_left` and `Value_right` respectively. "
   ]
  },
  {
   "cell_type": "code",
   "execution_count": 100,
   "metadata": {},
   "outputs": [
    {
     "name": "stdout",
     "output_type": "stream",
     "text": [
      "   ID Value\n",
      "0   1     A\n",
      "1   2     X\n",
      "2   3     C\n",
      "3   4     Y\n"
     ]
    }
   ],
   "source": [
    "# Update the original DataFrame with values from the merged DataFrame\n",
    "df_original['Value'] = merged_df['Value_updated'].fillna(merged_df['Value_original'])\n",
    "\n",
    "# Print the updated DataFrame\n",
    "print(df_original)"
   ]
  },
  {
   "cell_type": "markdown",
   "metadata": {},
   "source": [
    "To update the original dataframe, replace the column that you want to update - `Value` - in `df_original` with `Value_updated` in merged_df. \n",
    "\n",
    "```python \n",
    "df_original['Value'] = merged_df['Value_updated']\n",
    "```\n",
    "\n",
    "Where `ID`s don't match, i.e. existing rows that don't need to be updated, use original values in `merged_df`: \n",
    "```python\n",
    ".fillna(merged_df['Value_original'])\n",
    "```\n",
    "\n",
    "When complete, the dataframe is updated: "
   ]
  },
  {
   "cell_type": "code",
   "execution_count": null,
   "metadata": {},
   "outputs": [],
   "source": [
    "print(df_original)"
   ]
  },
  {
   "cell_type": "markdown",
   "metadata": {},
   "source": [
    "## Removing data\n",
    "\n",
    "An operation that goes hand-in-hand with adding and updating data is removing data. In this section, we will learn how to remove data from a dataframe.\n"
   ]
  },
  {
   "cell_type": "code",
   "execution_count": 114,
   "metadata": {},
   "outputs": [
    {
     "data": {
      "text/html": [
       "<div>\n",
       "<style scoped>\n",
       "    .dataframe tbody tr th:only-of-type {\n",
       "        vertical-align: middle;\n",
       "    }\n",
       "\n",
       "    .dataframe tbody tr th {\n",
       "        vertical-align: top;\n",
       "    }\n",
       "\n",
       "    .dataframe thead th {\n",
       "        text-align: right;\n",
       "    }\n",
       "</style>\n",
       "<table border=\"1\" class=\"dataframe\">\n",
       "  <thead>\n",
       "    <tr style=\"text-align: right;\">\n",
       "      <th></th>\n",
       "      <th>A</th>\n",
       "      <th>B</th>\n",
       "      <th>_merge</th>\n",
       "    </tr>\n",
       "  </thead>\n",
       "  <tbody>\n",
       "    <tr>\n",
       "      <th>0</th>\n",
       "      <td>1</td>\n",
       "      <td>a</td>\n",
       "      <td>left_only</td>\n",
       "    </tr>\n",
       "    <tr>\n",
       "      <th>1</th>\n",
       "      <td>2</td>\n",
       "      <td>b</td>\n",
       "      <td>both</td>\n",
       "    </tr>\n",
       "    <tr>\n",
       "      <th>2</th>\n",
       "      <td>3</td>\n",
       "      <td>c</td>\n",
       "      <td>left_only</td>\n",
       "    </tr>\n",
       "    <tr>\n",
       "      <th>3</th>\n",
       "      <td>4</td>\n",
       "      <td>d</td>\n",
       "      <td>both</td>\n",
       "    </tr>\n",
       "    <tr>\n",
       "      <th>4</th>\n",
       "      <td>5</td>\n",
       "      <td>e</td>\n",
       "      <td>left_only</td>\n",
       "    </tr>\n",
       "  </tbody>\n",
       "</table>\n",
       "</div>"
      ],
      "text/plain": [
       "   A  B     _merge\n",
       "0  1  a  left_only\n",
       "1  2  b       both\n",
       "2  3  c  left_only\n",
       "3  4  d       both\n",
       "4  5  e  left_only"
      ]
     },
     "execution_count": 114,
     "metadata": {},
     "output_type": "execute_result"
    }
   ],
   "source": [
    "import pandas as pd\n",
    "\n",
    "# Sample data for DataFrame 1\n",
    "data1 = {'A': [1, 2, 3, 4, 5],\n",
    "         'B': ['a', 'b', 'c', 'd', 'e']}\n",
    "df1 = pd.DataFrame(data1)\n",
    "\n",
    "# Sample data for DataFrame 2\n",
    "data2 = {'A': [2, 4],\n",
    "         'B': ['b', 'd']}\n",
    "df2 = pd.DataFrame(data2)\n",
    "# Merge the dataframes based on a common key (e.g., 'A' and 'B')\n",
    "merged_df = df1.merge(df2, on=['A', 'B'], how='left', indicator=True)\n",
    "merged_df"
   ]
  },
  {
   "cell_type": "code",
   "execution_count": 115,
   "metadata": {},
   "outputs": [
    {
     "name": "stdout",
     "output_type": "stream",
     "text": [
      "   A  B\n",
      "0  1  a\n",
      "2  3  c\n",
      "4  5  e\n"
     ]
    }
   ],
   "source": [
    "\n",
    "# Drop rows that exist in DataFrame 2 (based on the indicator column)\n",
    "filtered_df = merged_df[merged_df['_merge'] == 'left_only'].drop('_merge', axis=1)\n",
    "\n",
    "# Display the filtered DataFrame\n",
    "print(filtered_df)\n"
   ]
  },
  {
   "cell_type": "markdown",
   "metadata": {},
   "source": [
    "The `~` sign means NOT. So, the code `[~df1.isin(df2)]` reads - \"give me all the rows in `df1` that are not in `df2`\". This pattern can be used to remove rows from a dataframe that are in another dataframe."
   ]
  }
 ],
 "metadata": {
  "kernelspec": {
   "display_name": "base",
   "language": "python",
   "name": "python3"
  },
  "language_info": {
   "codemirror_mode": {
    "name": "ipython",
    "version": 3
   },
   "file_extension": ".py",
   "mimetype": "text/x-python",
   "name": "python",
   "nbconvert_exporter": "python",
   "pygments_lexer": "ipython3",
   "version": "3.11.4"
  },
  "orig_nbformat": 4
 },
 "nbformat": 4,
 "nbformat_minor": 2
}

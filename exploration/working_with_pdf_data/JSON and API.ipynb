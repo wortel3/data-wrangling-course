{
 "cells": [
  {
   "cell_type": "markdown",
   "metadata": {},
   "source": [
    "# Working with APIs and Json data\n",
    "*** \n",
    "## Learning Objectives\n"
   ]
  },
  {
   "cell_type": "markdown",
   "metadata": {},
   "source": [
    "Here's an example of calling an API in Python. This is the same API that we called in the previous section, but this time we're using Python instead of Postman."
   ]
  },
  {
   "cell_type": "code",
   "execution_count": 4,
   "metadata": {},
   "outputs": [
    {
     "name": "stdout",
     "output_type": "stream",
     "text": [
      "b'{\"fact\":\"A female cat is called a queen or a molly.\",\"length\":42}'\n"
     ]
    }
   ],
   "source": [
    "import requests\n",
    "\n",
    "url = \"https://catfact.ninja/fact\"\n",
    "\n",
    "payload = {}\n",
    "response = requests.request(\"GET\", url, data = payload)\n",
    "\n",
    "print(response.text.encode('utf8'))\n"
   ]
  },
  {
   "cell_type": "markdown",
   "metadata": {},
   "source": [
    "Notice that the code above is returned in JSON format. The `b` in front of the string indicates that it is a `bytes` object. We can use the `json` library to convert this to a Python dictionary."
   ]
  },
  {
   "cell_type": "code",
   "execution_count": 12,
   "metadata": {},
   "outputs": [
    {
     "name": "stdout",
     "output_type": "stream",
     "text": [
      "{\"fact\":\"A cat's brain is more similar to a man's brain than that of a dog.\",\"length\":66}\n",
      "{\n",
      "    \"fact\": \"A cat's brain is more similar to a man's brain than that of a dog.\",\n",
      "    \"length\": 66\n",
      "}\n",
      "A cat's brain is more similar to a man's brain than that of a dog.\n"
     ]
    }
   ],
   "source": [
    "import requests\n",
    "import json\n",
    "# Code from the previous section\n",
    "url = \"https://catfact.ninja/fact\"\n",
    "\n",
    "payload = {}\n",
    "response = requests.request(\"GET\", url, data = payload)\n",
    "print(response.text)\n",
    "\n",
    "# Parse the JSON response into a Python dictionary\n",
    "fact_data = json.loads(response.text)\n",
    "\n",
    "# pretty print the dictionary\n",
    "print(json.dumps(fact_data, indent=4))\n",
    "\n",
    "# Get the value of the fact key\n",
    "fact = fact_data['fact']\n",
    "\n",
    "# Print the fact\n",
    "print(fact)"
   ]
  },
  {
   "cell_type": "markdown",
   "metadata": {},
   "source": [
    "Say we want to get the value of `title` from the JSON data below. We can do this by using the `json` module's `loads` method:"
   ]
  },
  {
   "cell_type": "code",
   "execution_count": 1,
   "metadata": {},
   "outputs": [
    {
     "name": "stdout",
     "output_type": "stream",
     "text": [
      "example glossary\n"
     ]
    }
   ],
   "source": [
    "import json\n",
    "\n",
    "# Your JSON data\n",
    "json_data = {\n",
    "    \"glossary\": {\n",
    "        \"title\": \"example glossary\",\n",
    "        \"GlossDiv\": {\n",
    "            \"title\": \"S\",\n",
    "            \"GlossList\": {\n",
    "                \"GlossEntry\": {\n",
    "                    \"ID\": \"SGML\",\n",
    "                    \"SortAs\": \"SGML\",\n",
    "                    \"GlossTerm\": \"Standard Generalized Markup Language\",\n",
    "                    \"Acronym\": \"SGML\",\n",
    "                    \"Abbrev\": \"ISO 8879:1986\",\n",
    "                    \"GlossDef\": {\n",
    "                        \"para\": \"A meta-markup language, used to create markup languages such as DocBook.\",\n",
    "                        \"GlossSeeAlso\": [\"GML\", \"XML\"]\n",
    "                    },\n",
    "                    \"GlossSee\": \"markup\"\n",
    "                }\n",
    "            }\n",
    "        }\n",
    "    }\n",
    "}\n",
    "\n",
    "# Accessing the value of the \"title\" key\n",
    "title_value = json_data[\"glossary\"][\"title\"]\n",
    "\n",
    "print(title_value)\n"
   ]
  },
  {
   "cell_type": "markdown",
   "metadata": {},
   "source": [
    "Notice that we reference the JSON data by its key name, i.e. `glossary` and then, within the `glossary` key, we reference the `title` key. \n",
    "```python\n",
    "json_data[\"glossary\"][\"title\"]\n",
    "```\n",
    "\n",
    "Say we need to access `GlossSeeAlso` key. We can do so by using the following code:\n",
    "```python\n",
    "json_data[\"glossary\"][\"GlossDiv\"][\"GlossList\"][\"GlossEntry\"][\"GlossSeeAlso\"]\n",
    "```\n",
    "The values look a bit different - note the square brackets. This is because the value of the `GlossSeeAlso` key is a list of values. We therefore need to iterate over them. Here is the code:"
   ]
  },
  {
   "cell_type": "code",
   "execution_count": 13,
   "metadata": {},
   "outputs": [
    {
     "name": "stdout",
     "output_type": "stream",
     "text": [
      "GML\n",
      "XML\n"
     ]
    }
   ],
   "source": [
    "import json\n",
    "\n",
    "# Your JSON data\n",
    "json_data = {\n",
    "    \"glossary\": {\n",
    "        \"title\": \"example glossary\",\n",
    "        \"GlossDiv\": {\n",
    "            \"title\": \"S\",\n",
    "            \"GlossList\": {\n",
    "                \"GlossEntry\": {\n",
    "                    \"ID\": \"SGML\",\n",
    "                    \"SortAs\": \"SGML\",\n",
    "                    \"GlossTerm\": \"Standard Generalized Markup Language\",\n",
    "                    \"Acronym\": \"SGML\",\n",
    "                    \"Abbrev\": \"ISO 8879:1986\",\n",
    "                    \"GlossDef\": {\n",
    "                        \"para\": \"A meta-markup language, used to create markup languages such as DocBook.\",\n",
    "                        \"GlossSeeAlso\": [\"GML\", \"XML\"]\n",
    "                    },\n",
    "                    \"GlossSee\": \"markup\"\n",
    "                }\n",
    "            }\n",
    "        }\n",
    "    }\n",
    "}\n",
    "\n",
    "# Accessing all the values of the \"GlossSeeAlso\" key within \"GlossEntry\"\n",
    "gloss_see_also_values = json_data[\"glossary\"][\"GlossDiv\"][\"GlossList\"][\"GlossEntry\"][\"GlossDef\"][\"GlossSeeAlso\"]\n",
    "\n",
    "for value in gloss_see_also_values:\n",
    "    print(value)\n"
   ]
  },
  {
   "cell_type": "markdown",
   "metadata": {},
   "source": [
    "Voilà! "
   ]
  }
 ],
 "metadata": {
  "kernelspec": {
   "display_name": "base",
   "language": "python",
   "name": "python3"
  },
  "language_info": {
   "codemirror_mode": {
    "name": "ipython",
    "version": 3
   },
   "file_extension": ".py",
   "mimetype": "text/x-python",
   "name": "python",
   "nbconvert_exporter": "python",
   "pygments_lexer": "ipython3",
   "version": "3.11.3"
  },
  "orig_nbformat": 4
 },
 "nbformat": 4,
 "nbformat_minor": 2
}

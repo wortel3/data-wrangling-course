{
 "cells": [
  {
   "cell_type": "markdown",
   "metadata": {},
   "source": [
    "# Validation \n",
    "***\n",
    "\n",
    "## Learning Objectives\n",
    "\n",
    "# Links\n",
    "\n",
    "# Additional Material\n",
    "\n",
    "# Sources \n"
   ]
  },
  {
   "cell_type": "markdown",
   "metadata": {},
   "source": [
    "## Qualities of good validation data\n",
    "### Accuracy \n",
    "For data to be of a good quality, it needs to be accurate. This means that the data is correct and free from errors. In practice, your data need to be within a defined set of boundary conditions. For example, if you are collecting data on the height of people, you would expect the data to be within a certain range. If you have a height of 3 meters, you know that this is not a valid value and that there is an error in the data.\n",
    "\n",
    "Here's an example: "
   ]
  },
  {
   "cell_type": "code",
   "execution_count": 19,
   "metadata": {},
   "outputs": [
    {
     "name": "stdout",
     "output_type": "stream",
     "text": [
      "CSV file './files/student_scores.csv' has been created.\n"
     ]
    }
   ],
   "source": [
    "import csv\n",
    "\n",
    "# Define the data\n",
    "data = [\n",
    "    [\"StudentID\", \"exam_score\"],\n",
    "    [1, 85],\n",
    "    [2, 92],\n",
    "    [3, 105],\n",
    "    [4, 78],\n",
    "    [5, 110],\n",
    "]\n",
    "\n",
    "# Specify the file name\n",
    "file_name = \"./files/student_scores.csv\"\n",
    "\n",
    "# Write the data to the CSV file\n",
    "with open(file_name, mode='w', newline='') as file:\n",
    "    writer = csv.writer(file)\n",
    "    writer.writerows(data)\n",
    "\n",
    "print(f\"CSV file '{file_name}' has been created.\")\n"
   ]
  },
  {
   "cell_type": "code",
   "execution_count": 22,
   "metadata": {},
   "outputs": [
    {
     "data": {
      "text/html": [
       "<div>\n",
       "<style scoped>\n",
       "    .dataframe tbody tr th:only-of-type {\n",
       "        vertical-align: middle;\n",
       "    }\n",
       "\n",
       "    .dataframe tbody tr th {\n",
       "        vertical-align: top;\n",
       "    }\n",
       "\n",
       "    .dataframe thead th {\n",
       "        text-align: right;\n",
       "    }\n",
       "</style>\n",
       "<table border=\"1\" class=\"dataframe\">\n",
       "  <thead>\n",
       "    <tr style=\"text-align: right;\">\n",
       "      <th></th>\n",
       "      <th>StudentID</th>\n",
       "      <th>exam_score</th>\n",
       "    </tr>\n",
       "  </thead>\n",
       "  <tbody>\n",
       "    <tr>\n",
       "      <th>0</th>\n",
       "      <td>1</td>\n",
       "      <td>85</td>\n",
       "    </tr>\n",
       "    <tr>\n",
       "      <th>1</th>\n",
       "      <td>2</td>\n",
       "      <td>92</td>\n",
       "    </tr>\n",
       "    <tr>\n",
       "      <th>2</th>\n",
       "      <td>3</td>\n",
       "      <td>105</td>\n",
       "    </tr>\n",
       "    <tr>\n",
       "      <th>3</th>\n",
       "      <td>4</td>\n",
       "      <td>78</td>\n",
       "    </tr>\n",
       "    <tr>\n",
       "      <th>4</th>\n",
       "      <td>5</td>\n",
       "      <td>110</td>\n",
       "    </tr>\n",
       "    <tr>\n",
       "      <th>5</th>\n",
       "      <td>5</td>\n",
       "      <td>err</td>\n",
       "    </tr>\n",
       "  </tbody>\n",
       "</table>\n",
       "</div>"
      ],
      "text/plain": [
       "   StudentID exam_score\n",
       "0          1         85\n",
       "1          2         92\n",
       "2          3        105\n",
       "3          4         78\n",
       "4          5        110\n",
       "5          5        err"
      ]
     },
     "execution_count": 22,
     "metadata": {},
     "output_type": "execute_result"
    }
   ],
   "source": [
    "import pandas as pd\n",
    "\n",
    "# Read the CSV file into a DataFrame\n",
    "df = pd.read_csv(file_name)\n",
    "\n",
    "# Display DataFrame\n",
    "df\n"
   ]
  },
  {
   "cell_type": "markdown",
   "metadata": {},
   "source": [
    "Check if all the values in `exam_score` is numeric. Note index 5."
   ]
  },
  {
   "cell_type": "code",
   "execution_count": 24,
   "metadata": {},
   "outputs": [
    {
     "name": "stdout",
     "output_type": "stream",
     "text": [
      "Rows with non-numeric values in 'exam_score':\n",
      "   StudentID exam_score\n",
      "5          5        err\n"
     ]
    }
   ],
   "source": [
    "non_numeric_rows = df[~df['exam_score'].str.isnumeric()]\n",
    "\n",
    "# Display the rows with non-numeric values in the 'exam_score' column\n",
    "if not non_numeric_rows.empty:\n",
    "    print(\"Rows with non-numeric values in 'exam_score':\")\n",
    "    print(non_numeric_rows)\n",
    "else:\n",
    "    print(\"All values in 'exam_score' are numeric.\")"
   ]
  },
  {
   "cell_type": "markdown",
   "metadata": {},
   "source": [
    "### Uniqueness\n",
    "Data should be unique. This means that there should be no duplicate values in the data. If there are duplicate values, it means that the data is not unique and that there is an error in the data.\n",
    "Did you see the duplicate value in `Student_ID`?\n"
   ]
  },
  {
   "cell_type": "code",
   "execution_count": 25,
   "metadata": {},
   "outputs": [
    {
     "name": "stdout",
     "output_type": "stream",
     "text": [
      "Duplicate StudentID values:\n",
      "   StudentID exam_score\n",
      "4          5        110\n",
      "5          5        err\n"
     ]
    }
   ],
   "source": [
    "# Find duplicate values in the 'StudentID' column\n",
    "duplicates = df[df.duplicated(subset=['StudentID'], keep=False)]\n",
    "\n",
    "# Display the rows with duplicate 'StudentID' values\n",
    "if not duplicates.empty:\n",
    "    print(\"Duplicate StudentID values:\")\n",
    "    print(duplicates)\n",
    "else:\n",
    "    print(\"No duplicate StudentID values found.\")"
   ]
  },
  {
   "cell_type": "markdown",
   "metadata": {},
   "source": [
    "### Completeness\n",
    "Data should be complete. This means that there should be no missing values in the data. If there are missing values, it means that the data is not complete and that there is an error in the data.\n",
    "\n",
    "Here is an example: \n"
   ]
  },
  {
   "cell_type": "code",
   "execution_count": 26,
   "metadata": {},
   "outputs": [],
   "source": [
    "import pandas as pd\n",
    "import numpy as np\n",
    "\n",
    "# Create a DataFrame with missing values\n",
    "data = {\n",
    "    'Name': ['Alice', 'Bob', 'Charlie', 'David', np.nan],\n",
    "    'Age': [25, 30, np.nan, 22, 28],\n",
    "    'Salary': [50000, 60000, 75000, np.nan, 80000]\n",
    "}\n",
    "\n",
    "df = pd.DataFrame(data)"
   ]
  },
  {
   "cell_type": "code",
   "execution_count": 27,
   "metadata": {},
   "outputs": [
    {
     "data": {
      "text/html": [
       "<div>\n",
       "<style scoped>\n",
       "    .dataframe tbody tr th:only-of-type {\n",
       "        vertical-align: middle;\n",
       "    }\n",
       "\n",
       "    .dataframe tbody tr th {\n",
       "        vertical-align: top;\n",
       "    }\n",
       "\n",
       "    .dataframe thead th {\n",
       "        text-align: right;\n",
       "    }\n",
       "</style>\n",
       "<table border=\"1\" class=\"dataframe\">\n",
       "  <thead>\n",
       "    <tr style=\"text-align: right;\">\n",
       "      <th></th>\n",
       "      <th>Name</th>\n",
       "      <th>Age</th>\n",
       "      <th>Salary</th>\n",
       "    </tr>\n",
       "  </thead>\n",
       "  <tbody>\n",
       "    <tr>\n",
       "      <th>0</th>\n",
       "      <td>Alice</td>\n",
       "      <td>25.0</td>\n",
       "      <td>50000.0</td>\n",
       "    </tr>\n",
       "    <tr>\n",
       "      <th>1</th>\n",
       "      <td>Bob</td>\n",
       "      <td>30.0</td>\n",
       "      <td>60000.0</td>\n",
       "    </tr>\n",
       "    <tr>\n",
       "      <th>2</th>\n",
       "      <td>Charlie</td>\n",
       "      <td>NaN</td>\n",
       "      <td>75000.0</td>\n",
       "    </tr>\n",
       "    <tr>\n",
       "      <th>3</th>\n",
       "      <td>David</td>\n",
       "      <td>22.0</td>\n",
       "      <td>NaN</td>\n",
       "    </tr>\n",
       "    <tr>\n",
       "      <th>4</th>\n",
       "      <td>NaN</td>\n",
       "      <td>28.0</td>\n",
       "      <td>80000.0</td>\n",
       "    </tr>\n",
       "  </tbody>\n",
       "</table>\n",
       "</div>"
      ],
      "text/plain": [
       "      Name   Age   Salary\n",
       "0    Alice  25.0  50000.0\n",
       "1      Bob  30.0  60000.0\n",
       "2  Charlie   NaN  75000.0\n",
       "3    David  22.0      NaN\n",
       "4      NaN  28.0  80000.0"
      ]
     },
     "execution_count": 27,
     "metadata": {},
     "output_type": "execute_result"
    }
   ],
   "source": [
    "df"
   ]
  },
  {
   "cell_type": "markdown",
   "metadata": {},
   "source": [
    "`Name`,`Age` and `Salary` have missing values. "
   ]
  },
  {
   "cell_type": "code",
   "execution_count": 30,
   "metadata": {},
   "outputs": [
    {
     "name": "stdout",
     "output_type": "stream",
     "text": [
      "DataFrame contains missing values:\n",
      "    Name    Age  Salary\n",
      "0  False  False   False\n",
      "1  False  False   False\n",
      "2  False   True   False\n",
      "3  False  False    True\n",
      "4   True  False   False\n"
     ]
    }
   ],
   "source": [
    "# Check for missing values in the entire DataFrame\n",
    "missing_values = df.isnull()\n",
    "\n",
    "# Check for completeness\n",
    "if missing_values.any().any():\n",
    "    print(\"DataFrame contains missing values:\")\n",
    "    print(missing_values)\n",
    "else:\n",
    "    print(\"DataFrame is complete; it contains no missing values.\")"
   ]
  },
  {
   "cell_type": "markdown",
   "metadata": {},
   "source": [
    "We can count the missing values in each column using the `isnull()` method and the `sum()` method."
   ]
  },
  {
   "cell_type": "code",
   "execution_count": 29,
   "metadata": {},
   "outputs": [
    {
     "data": {
      "text/plain": [
       "Name      1\n",
       "Age       1\n",
       "Salary    1\n",
       "dtype: int64"
      ]
     },
     "execution_count": 29,
     "metadata": {},
     "output_type": "execute_result"
    }
   ],
   "source": [
    "missing_values.sum()"
   ]
  },
  {
   "cell_type": "markdown",
   "metadata": {},
   "source": [
    "### Consistency\n",
    "Data should be consistent. This means that the data should be in a standard format. For example, if you are collecting data on the height of people, you would expect the data to be in the same unit of measurement. If some of the data is in meters and some of the data is in feet, then the data is not consistent and there is an error in the data.\n",
    "\n",
    "Here is an example:"
   ]
  },
  {
   "cell_type": "code",
   "execution_count": 33,
   "metadata": {},
   "outputs": [],
   "source": [
    "\n",
    "# Create a DataFrame with employee information\n",
    "data = {\n",
    "    'EmployeeID': [101, 102, 103, 104, 105],\n",
    "    'Name': ['Alice', 'Bob', 'Charlie', 'David', 'Eve'],\n",
    "    'Salary': [50000, 60000, 75000, 45000, 80000]\n",
    "}\n",
    "\n",
    "df = pd.DataFrame(data)\n",
    "\n",
    "# Define the salary range (e.g., $40,000 to $80,000)\n",
    "min_salary = 40000\n",
    "max_salary = 80000\n",
    "\n",
    "# Check for data consistency (salary within the defined range)\n",
    "inconsistent_salaries = df[(df['Salary'] < min_salary) | (df['Salary'] > max_salary)]"
   ]
  },
  {
   "cell_type": "markdown",
   "metadata": {},
   "source": [
    "Note the `|` means `or` in in Python. The line reads - where `Salary` is less than `min_salary` or `Salary` is greater than `max_salary`."
   ]
  },
  {
   "cell_type": "code",
   "execution_count": 34,
   "metadata": {},
   "outputs": [
    {
     "name": "stdout",
     "output_type": "stream",
     "text": [
      "Data is consistent; all salary values are within the valid range.\n"
     ]
    }
   ],
   "source": [
    "\n",
    "# Display rows with inconsistent salary values\n",
    "if not inconsistent_salaries.empty:\n",
    "    print(\"Inconsistent salary values:\")\n",
    "    print(inconsistent_salaries)\n",
    "else:\n",
    "    print(\"Data is consistent; all salary values are within the valid range.\")"
   ]
  },
  {
   "cell_type": "markdown",
   "metadata": {},
   "source": [
    "The code above therefore checks if all the values are between `40000` and `80000`"
   ]
  },
  {
   "cell_type": "markdown",
   "metadata": {},
   "source": [
    "### Timeliness\n",
    "Data should be timely. This means that the data should be up to date. If the data is not up to date, then the data is not timely and there is an error in the data.\n",
    "\n",
    "Here is an example:"
   ]
  },
  {
   "cell_type": "code",
   "execution_count": 3,
   "metadata": {},
   "outputs": [
    {
     "name": "stdout",
     "output_type": "stream",
     "text": [
      "Timely events:\n",
      "    Event           Timestamp\n",
      "0  Event1 2023-08-10 09:00:00\n",
      "1  Event2 2023-08-10 09:30:00\n",
      "2  Event3 2023-08-10 10:15:00\n",
      "4  Event5 2023-08-10 11:00:00\n"
     ]
    }
   ],
   "source": [
    "import pandas as pd\n",
    "\n",
    "# Create a DataFrame with timestamp data\n",
    "data = {\n",
    "    'Event': ['Event1', 'Event2', 'Event3', 'Event4', 'Event5'],\n",
    "    'Timestamp': ['2023-08-10 09:00:00', '2023-08-10 09:30:00', '2023-08-10 10:15:00', '2023-08-10 08:45:00', '2023-08-10 11:00:00']\n",
    "}\n",
    "\n",
    "df = pd.DataFrame(data)\n",
    "\n",
    "# Convert the 'Timestamp' column to a pandas datetime object\n",
    "df['Timestamp'] = pd.to_datetime(df['Timestamp'])\n",
    "\n",
    "# Define a time window (e.g., events should occur between 9:00 AM and 11:00 AM)\n",
    "start_time = pd.Timestamp('2023-08-10 09:00:00')\n",
    "end_time = pd.Timestamp('2023-08-10 11:00:00')\n",
    "\n",
    "# Check for timeliness\n",
    "timely_events = df[(df['Timestamp'] >= start_time) & (df['Timestamp'] <= end_time)]\n",
    "\n",
    "# Display timely events\n",
    "if not timely_events.empty:\n",
    "    print(\"Timely events:\")\n",
    "    print(timely_events)\n",
    "else:\n",
    "    print(\"No timely events found.\")\n"
   ]
  },
  {
   "cell_type": "markdown",
   "metadata": {},
   "source": [
    "In the code above, all of the events need to be between `2023-08-10 09:00:00` and `2023-08-10 11:00:00`. If any of the events are outside of this range, then the data is not timely and there is an error in the data."
   ]
  },
  {
   "cell_type": "code",
   "execution_count": 2,
   "metadata": {},
   "outputs": [
    {
     "name": "stdout",
     "output_type": "stream",
     "text": [
      "Requirement already satisfied: great_expectations in /Users/gerhard/anaconda3/lib/python3.11/site-packages (0.17.11)\n",
      "Requirement already satisfied: altair<5.0.0,>=4.2.1 in /Users/gerhard/anaconda3/lib/python3.11/site-packages (from great_expectations) (4.2.2)\n",
      "Requirement already satisfied: Click!=8.1.4,>=7.1.2 in /Users/gerhard/anaconda3/lib/python3.11/site-packages (from great_expectations) (8.0.4)\n",
      "Requirement already satisfied: colorama>=0.4.3 in /Users/gerhard/anaconda3/lib/python3.11/site-packages (from great_expectations) (0.4.6)\n",
      "Requirement already satisfied: cryptography>=3.2 in /Users/gerhard/anaconda3/lib/python3.11/site-packages (from great_expectations) (41.0.2)\n",
      "Requirement already satisfied: Ipython>=7.16.3 in /Users/gerhard/anaconda3/lib/python3.11/site-packages (from great_expectations) (8.12.0)\n",
      "Requirement already satisfied: ipywidgets>=7.5.1 in /Users/gerhard/anaconda3/lib/python3.11/site-packages (from great_expectations) (8.0.4)\n",
      "Requirement already satisfied: jinja2>=2.10 in /Users/gerhard/anaconda3/lib/python3.11/site-packages (from great_expectations) (3.1.2)\n",
      "Requirement already satisfied: jsonpatch>=1.22 in /Users/gerhard/anaconda3/lib/python3.11/site-packages (from great_expectations) (1.32)\n",
      "Requirement already satisfied: jsonschema>=2.5.1 in /Users/gerhard/anaconda3/lib/python3.11/site-packages (from great_expectations) (4.17.3)\n",
      "Requirement already satisfied: makefun<2,>=1.7.0 in /Users/gerhard/anaconda3/lib/python3.11/site-packages (from great_expectations) (1.15.1)\n",
      "Requirement already satisfied: marshmallow<4.0.0,>=3.7.1 in /Users/gerhard/anaconda3/lib/python3.11/site-packages (from great_expectations) (3.20.1)\n",
      "Requirement already satisfied: mistune>=0.8.4 in /Users/gerhard/anaconda3/lib/python3.11/site-packages (from great_expectations) (0.8.4)\n",
      "Requirement already satisfied: nbformat>=5.0 in /Users/gerhard/anaconda3/lib/python3.11/site-packages (from great_expectations) (5.7.0)\n",
      "Requirement already satisfied: notebook>=6.4.10 in /Users/gerhard/anaconda3/lib/python3.11/site-packages (from great_expectations) (6.5.4)\n",
      "Requirement already satisfied: packaging in /Users/gerhard/anaconda3/lib/python3.11/site-packages (from great_expectations) (23.0)\n",
      "Requirement already satisfied: pydantic<2.0,>=1.9.2 in /Users/gerhard/anaconda3/lib/python3.11/site-packages (from great_expectations) (1.10.12)\n",
      "Requirement already satisfied: pyparsing>=2.4 in /Users/gerhard/anaconda3/lib/python3.11/site-packages (from great_expectations) (3.0.9)\n",
      "Requirement already satisfied: python-dateutil>=2.8.1 in /Users/gerhard/anaconda3/lib/python3.11/site-packages (from great_expectations) (2.8.2)\n",
      "Requirement already satisfied: pytz>=2021.3 in /Users/gerhard/anaconda3/lib/python3.11/site-packages (from great_expectations) (2022.7)\n",
      "Requirement already satisfied: requests>=2.20 in /Users/gerhard/anaconda3/lib/python3.11/site-packages (from great_expectations) (2.31.0)\n",
      "Requirement already satisfied: ruamel.yaml<0.17.18,>=0.16 in /Users/gerhard/anaconda3/lib/python3.11/site-packages (from great_expectations) (0.17.17)\n",
      "Requirement already satisfied: scipy>=1.6.0 in /Users/gerhard/anaconda3/lib/python3.11/site-packages (from great_expectations) (1.10.1)\n",
      "Requirement already satisfied: tqdm>=4.59.0 in /Users/gerhard/anaconda3/lib/python3.11/site-packages (from great_expectations) (4.65.0)\n",
      "Requirement already satisfied: typing-extensions>=3.10.0.0 in /Users/gerhard/anaconda3/lib/python3.11/site-packages (from great_expectations) (4.7.1)\n",
      "Requirement already satisfied: tzlocal>=1.2 in /Users/gerhard/anaconda3/lib/python3.11/site-packages (from great_expectations) (5.0.1)\n",
      "Requirement already satisfied: urllib3>=1.26 in /Users/gerhard/anaconda3/lib/python3.11/site-packages (from great_expectations) (1.26.16)\n",
      "Requirement already satisfied: numpy>=1.22.4 in /Users/gerhard/anaconda3/lib/python3.11/site-packages (from great_expectations) (1.24.3)\n",
      "Requirement already satisfied: pandas>=1.3.0 in /Users/gerhard/anaconda3/lib/python3.11/site-packages (from great_expectations) (1.5.3)\n",
      "Requirement already satisfied: entrypoints in /Users/gerhard/anaconda3/lib/python3.11/site-packages (from altair<5.0.0,>=4.2.1->great_expectations) (0.4)\n",
      "Requirement already satisfied: toolz in /Users/gerhard/anaconda3/lib/python3.11/site-packages (from altair<5.0.0,>=4.2.1->great_expectations) (0.12.0)\n",
      "Requirement already satisfied: cffi>=1.12 in /Users/gerhard/anaconda3/lib/python3.11/site-packages (from cryptography>=3.2->great_expectations) (1.15.1)\n",
      "Requirement already satisfied: backcall in /Users/gerhard/anaconda3/lib/python3.11/site-packages (from Ipython>=7.16.3->great_expectations) (0.2.0)\n",
      "Requirement already satisfied: decorator in /Users/gerhard/anaconda3/lib/python3.11/site-packages (from Ipython>=7.16.3->great_expectations) (5.1.1)\n",
      "Requirement already satisfied: jedi>=0.16 in /Users/gerhard/anaconda3/lib/python3.11/site-packages (from Ipython>=7.16.3->great_expectations) (0.18.1)\n",
      "Requirement already satisfied: matplotlib-inline in /Users/gerhard/anaconda3/lib/python3.11/site-packages (from Ipython>=7.16.3->great_expectations) (0.1.6)\n",
      "Requirement already satisfied: pickleshare in /Users/gerhard/anaconda3/lib/python3.11/site-packages (from Ipython>=7.16.3->great_expectations) (0.7.5)\n",
      "Requirement already satisfied: prompt-toolkit!=3.0.37,<3.1.0,>=3.0.30 in /Users/gerhard/anaconda3/lib/python3.11/site-packages (from Ipython>=7.16.3->great_expectations) (3.0.36)\n",
      "Requirement already satisfied: pygments>=2.4.0 in /Users/gerhard/anaconda3/lib/python3.11/site-packages (from Ipython>=7.16.3->great_expectations) (2.15.1)\n",
      "Requirement already satisfied: stack-data in /Users/gerhard/anaconda3/lib/python3.11/site-packages (from Ipython>=7.16.3->great_expectations) (0.2.0)\n",
      "Requirement already satisfied: traitlets>=5 in /Users/gerhard/anaconda3/lib/python3.11/site-packages (from Ipython>=7.16.3->great_expectations) (5.7.1)\n",
      "Requirement already satisfied: pexpect>4.3 in /Users/gerhard/anaconda3/lib/python3.11/site-packages (from Ipython>=7.16.3->great_expectations) (4.8.0)\n",
      "Requirement already satisfied: appnope in /Users/gerhard/anaconda3/lib/python3.11/site-packages (from Ipython>=7.16.3->great_expectations) (0.1.2)\n",
      "Requirement already satisfied: ipykernel>=4.5.1 in /Users/gerhard/anaconda3/lib/python3.11/site-packages (from ipywidgets>=7.5.1->great_expectations) (6.19.2)\n",
      "Requirement already satisfied: widgetsnbextension~=4.0 in /Users/gerhard/anaconda3/lib/python3.11/site-packages (from ipywidgets>=7.5.1->great_expectations) (4.0.5)\n",
      "Requirement already satisfied: jupyterlab-widgets~=3.0 in /Users/gerhard/anaconda3/lib/python3.11/site-packages (from ipywidgets>=7.5.1->great_expectations) (3.0.5)\n",
      "Requirement already satisfied: MarkupSafe>=2.0 in /Users/gerhard/anaconda3/lib/python3.11/site-packages (from jinja2>=2.10->great_expectations) (2.1.1)\n",
      "Requirement already satisfied: jsonpointer>=1.9 in /Users/gerhard/anaconda3/lib/python3.11/site-packages (from jsonpatch>=1.22->great_expectations) (2.1)\n",
      "Requirement already satisfied: attrs>=17.4.0 in /Users/gerhard/anaconda3/lib/python3.11/site-packages (from jsonschema>=2.5.1->great_expectations) (22.1.0)\n",
      "Requirement already satisfied: pyrsistent!=0.17.0,!=0.17.1,!=0.17.2,>=0.14.0 in /Users/gerhard/anaconda3/lib/python3.11/site-packages (from jsonschema>=2.5.1->great_expectations) (0.18.0)\n",
      "Requirement already satisfied: fastjsonschema in /Users/gerhard/anaconda3/lib/python3.11/site-packages (from nbformat>=5.0->great_expectations) (2.16.2)\n",
      "Requirement already satisfied: jupyter-core in /Users/gerhard/anaconda3/lib/python3.11/site-packages (from nbformat>=5.0->great_expectations) (5.3.0)\n",
      "Requirement already satisfied: tornado>=6.1 in /Users/gerhard/anaconda3/lib/python3.11/site-packages (from notebook>=6.4.10->great_expectations) (6.3.2)\n",
      "Requirement already satisfied: pyzmq>=17 in /Users/gerhard/anaconda3/lib/python3.11/site-packages (from notebook>=6.4.10->great_expectations) (23.2.0)\n",
      "Requirement already satisfied: argon2-cffi in /Users/gerhard/anaconda3/lib/python3.11/site-packages (from notebook>=6.4.10->great_expectations) (21.3.0)\n",
      "Requirement already satisfied: jupyter-client>=5.3.4 in /Users/gerhard/anaconda3/lib/python3.11/site-packages (from notebook>=6.4.10->great_expectations) (7.4.9)\n",
      "Requirement already satisfied: ipython-genutils in /Users/gerhard/anaconda3/lib/python3.11/site-packages (from notebook>=6.4.10->great_expectations) (0.2.0)\n",
      "Requirement already satisfied: nbconvert>=5 in /Users/gerhard/anaconda3/lib/python3.11/site-packages (from notebook>=6.4.10->great_expectations) (6.5.4)\n",
      "Requirement already satisfied: nest-asyncio>=1.5 in /Users/gerhard/anaconda3/lib/python3.11/site-packages (from notebook>=6.4.10->great_expectations) (1.5.6)\n",
      "Requirement already satisfied: Send2Trash>=1.8.0 in /Users/gerhard/anaconda3/lib/python3.11/site-packages (from notebook>=6.4.10->great_expectations) (1.8.0)\n",
      "Requirement already satisfied: terminado>=0.8.3 in /Users/gerhard/anaconda3/lib/python3.11/site-packages (from notebook>=6.4.10->great_expectations) (0.17.1)\n",
      "Requirement already satisfied: prometheus-client in /Users/gerhard/anaconda3/lib/python3.11/site-packages (from notebook>=6.4.10->great_expectations) (0.14.1)\n",
      "Requirement already satisfied: nbclassic>=0.4.7 in /Users/gerhard/anaconda3/lib/python3.11/site-packages (from notebook>=6.4.10->great_expectations) (0.5.5)\n",
      "Requirement already satisfied: six>=1.5 in /Users/gerhard/anaconda3/lib/python3.11/site-packages (from python-dateutil>=2.8.1->great_expectations) (1.16.0)\n",
      "Requirement already satisfied: charset-normalizer<4,>=2 in /Users/gerhard/anaconda3/lib/python3.11/site-packages (from requests>=2.20->great_expectations) (2.0.4)\n",
      "Requirement already satisfied: idna<4,>=2.5 in /Users/gerhard/anaconda3/lib/python3.11/site-packages (from requests>=2.20->great_expectations) (3.4)\n",
      "Requirement already satisfied: certifi>=2017.4.17 in /Users/gerhard/anaconda3/lib/python3.11/site-packages (from requests>=2.20->great_expectations) (2023.7.22)\n",
      "Requirement already satisfied: pycparser in /Users/gerhard/anaconda3/lib/python3.11/site-packages (from cffi>=1.12->cryptography>=3.2->great_expectations) (2.21)\n",
      "Requirement already satisfied: comm>=0.1.1 in /Users/gerhard/anaconda3/lib/python3.11/site-packages (from ipykernel>=4.5.1->ipywidgets>=7.5.1->great_expectations) (0.1.2)\n",
      "Requirement already satisfied: debugpy>=1.0 in /Users/gerhard/anaconda3/lib/python3.11/site-packages (from ipykernel>=4.5.1->ipywidgets>=7.5.1->great_expectations) (1.6.7)\n",
      "Requirement already satisfied: psutil in /Users/gerhard/anaconda3/lib/python3.11/site-packages (from ipykernel>=4.5.1->ipywidgets>=7.5.1->great_expectations) (5.9.0)\n",
      "Requirement already satisfied: parso<0.9.0,>=0.8.0 in /Users/gerhard/anaconda3/lib/python3.11/site-packages (from jedi>=0.16->Ipython>=7.16.3->great_expectations) (0.8.3)\n",
      "Requirement already satisfied: platformdirs>=2.5 in /Users/gerhard/anaconda3/lib/python3.11/site-packages (from jupyter-core->nbformat>=5.0->great_expectations) (2.5.2)\n",
      "Requirement already satisfied: jupyter-server>=1.8 in /Users/gerhard/anaconda3/lib/python3.11/site-packages (from nbclassic>=0.4.7->notebook>=6.4.10->great_expectations) (1.23.4)\n",
      "Requirement already satisfied: notebook-shim>=0.1.0 in /Users/gerhard/anaconda3/lib/python3.11/site-packages (from nbclassic>=0.4.7->notebook>=6.4.10->great_expectations) (0.2.2)\n",
      "Requirement already satisfied: lxml in /Users/gerhard/anaconda3/lib/python3.11/site-packages (from nbconvert>=5->notebook>=6.4.10->great_expectations) (4.9.2)\n",
      "Requirement already satisfied: beautifulsoup4 in /Users/gerhard/anaconda3/lib/python3.11/site-packages (from nbconvert>=5->notebook>=6.4.10->great_expectations) (4.12.2)\n",
      "Requirement already satisfied: bleach in /Users/gerhard/anaconda3/lib/python3.11/site-packages (from nbconvert>=5->notebook>=6.4.10->great_expectations) (4.1.0)\n",
      "Requirement already satisfied: defusedxml in /Users/gerhard/anaconda3/lib/python3.11/site-packages (from nbconvert>=5->notebook>=6.4.10->great_expectations) (0.7.1)\n",
      "Requirement already satisfied: jupyterlab-pygments in /Users/gerhard/anaconda3/lib/python3.11/site-packages (from nbconvert>=5->notebook>=6.4.10->great_expectations) (0.1.2)\n",
      "Requirement already satisfied: nbclient>=0.5.0 in /Users/gerhard/anaconda3/lib/python3.11/site-packages (from nbconvert>=5->notebook>=6.4.10->great_expectations) (0.5.13)\n",
      "Requirement already satisfied: pandocfilters>=1.4.1 in /Users/gerhard/anaconda3/lib/python3.11/site-packages (from nbconvert>=5->notebook>=6.4.10->great_expectations) (1.5.0)\n",
      "Requirement already satisfied: tinycss2 in /Users/gerhard/anaconda3/lib/python3.11/site-packages (from nbconvert>=5->notebook>=6.4.10->great_expectations) (1.2.1)\n",
      "Requirement already satisfied: ptyprocess>=0.5 in /Users/gerhard/anaconda3/lib/python3.11/site-packages (from pexpect>4.3->Ipython>=7.16.3->great_expectations) (0.7.0)\n",
      "Requirement already satisfied: wcwidth in /Users/gerhard/anaconda3/lib/python3.11/site-packages (from prompt-toolkit!=3.0.37,<3.1.0,>=3.0.30->Ipython>=7.16.3->great_expectations) (0.2.5)\n",
      "Requirement already satisfied: argon2-cffi-bindings in /Users/gerhard/anaconda3/lib/python3.11/site-packages (from argon2-cffi->notebook>=6.4.10->great_expectations) (21.2.0)\n",
      "Requirement already satisfied: executing in /Users/gerhard/anaconda3/lib/python3.11/site-packages (from stack-data->Ipython>=7.16.3->great_expectations) (0.8.3)\n",
      "Requirement already satisfied: asttokens in /Users/gerhard/anaconda3/lib/python3.11/site-packages (from stack-data->Ipython>=7.16.3->great_expectations) (2.0.5)\n",
      "Requirement already satisfied: pure-eval in /Users/gerhard/anaconda3/lib/python3.11/site-packages (from stack-data->Ipython>=7.16.3->great_expectations) (0.2.2)\n",
      "Requirement already satisfied: anyio<4,>=3.1.0 in /Users/gerhard/anaconda3/lib/python3.11/site-packages (from jupyter-server>=1.8->nbclassic>=0.4.7->notebook>=6.4.10->great_expectations) (3.5.0)\n",
      "Requirement already satisfied: websocket-client in /Users/gerhard/anaconda3/lib/python3.11/site-packages (from jupyter-server>=1.8->nbclassic>=0.4.7->notebook>=6.4.10->great_expectations) (0.58.0)\n",
      "Requirement already satisfied: soupsieve>1.2 in /Users/gerhard/anaconda3/lib/python3.11/site-packages (from beautifulsoup4->nbconvert>=5->notebook>=6.4.10->great_expectations) (2.4)\n",
      "Requirement already satisfied: webencodings in /Users/gerhard/anaconda3/lib/python3.11/site-packages (from bleach->nbconvert>=5->notebook>=6.4.10->great_expectations) (0.5.1)\n",
      "Requirement already satisfied: sniffio>=1.1 in /Users/gerhard/anaconda3/lib/python3.11/site-packages (from anyio<4,>=3.1.0->jupyter-server>=1.8->nbclassic>=0.4.7->notebook>=6.4.10->great_expectations) (1.2.0)\n"
     ]
    }
   ],
   "source": [
    "# Install great_expectations library - used for data validation\n",
    "!pip install great_expectations"
   ]
  },
  {
   "cell_type": "code",
   "execution_count": 1,
   "metadata": {},
   "outputs": [],
   "source": [
    "import csv\n",
    "\n",
    "# Create a list of data\n",
    "data = [\n",
    "    [\"John Doe\", 30],\n",
    "    [\"Jane Doe\", 25],\n",
    "    [\"Peter Smith\", 40],\n",
    "    [\"Susan Jones\", 35],\n",
    "]\n",
    "\n",
    "# Create a CSV writer\n",
    "csv_writer = csv.writer(open(\"files/sample_data.csv\", \"w\"))\n",
    "\n",
    "# Write the data to the CSV file\n",
    "for row in data:\n",
    "    csv_writer.writerow(row)"
   ]
  },
  {
   "cell_type": "markdown",
   "metadata": {},
   "source": [
    "[Here](https://raw.githubusercontent.com/great-expectations/gx_tutorials/main/data/yellow_tripdata_sample_2019-01.csv) is the CSV file we'll be validating. Let's familiarize ourselves with the data.\n",
    "\n",
    "First, we'll load the data into a Pandas DataFrame:\n",
    "\n",
    "```python\n",
    "import pandas as pd\n",
    "df = pd.read_csv(\"https://raw.githubusercontent.com/great-expectations/gx_tutorials/main/data/yellow_tripdata_sample_2019-01.csv\")\n",
    "```"
   ]
  },
  {
   "cell_type": "code",
   "execution_count": 9,
   "metadata": {},
   "outputs": [
    {
     "data": {
      "text/html": [
       "<div>\n",
       "<style scoped>\n",
       "    .dataframe tbody tr th:only-of-type {\n",
       "        vertical-align: middle;\n",
       "    }\n",
       "\n",
       "    .dataframe tbody tr th {\n",
       "        vertical-align: top;\n",
       "    }\n",
       "\n",
       "    .dataframe thead th {\n",
       "        text-align: right;\n",
       "    }\n",
       "</style>\n",
       "<table border=\"1\" class=\"dataframe\">\n",
       "  <thead>\n",
       "    <tr style=\"text-align: right;\">\n",
       "      <th></th>\n",
       "      <th>vendor_id</th>\n",
       "      <th>pickup_datetime</th>\n",
       "      <th>dropoff_datetime</th>\n",
       "      <th>passenger_count</th>\n",
       "      <th>trip_distance</th>\n",
       "      <th>rate_code_id</th>\n",
       "      <th>store_and_fwd_flag</th>\n",
       "      <th>pickup_location_id</th>\n",
       "      <th>dropoff_location_id</th>\n",
       "      <th>payment_type</th>\n",
       "      <th>fare_amount</th>\n",
       "      <th>extra</th>\n",
       "      <th>mta_tax</th>\n",
       "      <th>tip_amount</th>\n",
       "      <th>tolls_amount</th>\n",
       "      <th>improvement_surcharge</th>\n",
       "      <th>total_amount</th>\n",
       "      <th>congestion_surcharge</th>\n",
       "    </tr>\n",
       "  </thead>\n",
       "  <tbody>\n",
       "    <tr>\n",
       "      <th>0</th>\n",
       "      <td>1</td>\n",
       "      <td>2019-01-15 03:36:12</td>\n",
       "      <td>2019-01-15 03:42:19</td>\n",
       "      <td>1</td>\n",
       "      <td>1.0</td>\n",
       "      <td>1</td>\n",
       "      <td>N</td>\n",
       "      <td>230</td>\n",
       "      <td>48</td>\n",
       "      <td>1</td>\n",
       "      <td>6.5</td>\n",
       "      <td>0.5</td>\n",
       "      <td>0.5</td>\n",
       "      <td>1.95</td>\n",
       "      <td>0.0</td>\n",
       "      <td>0.3</td>\n",
       "      <td>9.75</td>\n",
       "      <td>NaN</td>\n",
       "    </tr>\n",
       "    <tr>\n",
       "      <th>1</th>\n",
       "      <td>1</td>\n",
       "      <td>2019-01-25 18:20:32</td>\n",
       "      <td>2019-01-25 18:26:55</td>\n",
       "      <td>1</td>\n",
       "      <td>0.8</td>\n",
       "      <td>1</td>\n",
       "      <td>N</td>\n",
       "      <td>112</td>\n",
       "      <td>112</td>\n",
       "      <td>1</td>\n",
       "      <td>6.0</td>\n",
       "      <td>1.0</td>\n",
       "      <td>0.5</td>\n",
       "      <td>1.55</td>\n",
       "      <td>0.0</td>\n",
       "      <td>0.3</td>\n",
       "      <td>9.35</td>\n",
       "      <td>0.0</td>\n",
       "    </tr>\n",
       "    <tr>\n",
       "      <th>2</th>\n",
       "      <td>1</td>\n",
       "      <td>2019-01-05 06:47:31</td>\n",
       "      <td>2019-01-05 06:52:19</td>\n",
       "      <td>1</td>\n",
       "      <td>1.1</td>\n",
       "      <td>1</td>\n",
       "      <td>N</td>\n",
       "      <td>107</td>\n",
       "      <td>4</td>\n",
       "      <td>2</td>\n",
       "      <td>6.0</td>\n",
       "      <td>0.0</td>\n",
       "      <td>0.5</td>\n",
       "      <td>0.00</td>\n",
       "      <td>0.0</td>\n",
       "      <td>0.3</td>\n",
       "      <td>6.80</td>\n",
       "      <td>NaN</td>\n",
       "    </tr>\n",
       "    <tr>\n",
       "      <th>3</th>\n",
       "      <td>1</td>\n",
       "      <td>2019-01-09 15:08:02</td>\n",
       "      <td>2019-01-09 15:20:17</td>\n",
       "      <td>1</td>\n",
       "      <td>2.5</td>\n",
       "      <td>1</td>\n",
       "      <td>N</td>\n",
       "      <td>143</td>\n",
       "      <td>158</td>\n",
       "      <td>1</td>\n",
       "      <td>11.0</td>\n",
       "      <td>0.0</td>\n",
       "      <td>0.5</td>\n",
       "      <td>3.00</td>\n",
       "      <td>0.0</td>\n",
       "      <td>0.3</td>\n",
       "      <td>14.80</td>\n",
       "      <td>NaN</td>\n",
       "    </tr>\n",
       "    <tr>\n",
       "      <th>4</th>\n",
       "      <td>1</td>\n",
       "      <td>2019-01-25 18:49:51</td>\n",
       "      <td>2019-01-25 18:56:44</td>\n",
       "      <td>1</td>\n",
       "      <td>0.8</td>\n",
       "      <td>1</td>\n",
       "      <td>N</td>\n",
       "      <td>246</td>\n",
       "      <td>90</td>\n",
       "      <td>1</td>\n",
       "      <td>6.5</td>\n",
       "      <td>1.0</td>\n",
       "      <td>0.5</td>\n",
       "      <td>1.65</td>\n",
       "      <td>0.0</td>\n",
       "      <td>0.3</td>\n",
       "      <td>9.95</td>\n",
       "      <td>0.0</td>\n",
       "    </tr>\n",
       "  </tbody>\n",
       "</table>\n",
       "</div>"
      ],
      "text/plain": [
       "   vendor_id      pickup_datetime     dropoff_datetime  passenger_count  \\\n",
       "0          1  2019-01-15 03:36:12  2019-01-15 03:42:19                1   \n",
       "1          1  2019-01-25 18:20:32  2019-01-25 18:26:55                1   \n",
       "2          1  2019-01-05 06:47:31  2019-01-05 06:52:19                1   \n",
       "3          1  2019-01-09 15:08:02  2019-01-09 15:20:17                1   \n",
       "4          1  2019-01-25 18:49:51  2019-01-25 18:56:44                1   \n",
       "\n",
       "   trip_distance  rate_code_id store_and_fwd_flag  pickup_location_id  \\\n",
       "0            1.0             1                  N                 230   \n",
       "1            0.8             1                  N                 112   \n",
       "2            1.1             1                  N                 107   \n",
       "3            2.5             1                  N                 143   \n",
       "4            0.8             1                  N                 246   \n",
       "\n",
       "   dropoff_location_id  payment_type  fare_amount  extra  mta_tax  tip_amount  \\\n",
       "0                   48             1          6.5    0.5      0.5        1.95   \n",
       "1                  112             1          6.0    1.0      0.5        1.55   \n",
       "2                    4             2          6.0    0.0      0.5        0.00   \n",
       "3                  158             1         11.0    0.0      0.5        3.00   \n",
       "4                   90             1          6.5    1.0      0.5        1.65   \n",
       "\n",
       "   tolls_amount  improvement_surcharge  total_amount  congestion_surcharge  \n",
       "0           0.0                    0.3          9.75                   NaN  \n",
       "1           0.0                    0.3          9.35                   0.0  \n",
       "2           0.0                    0.3          6.80                   NaN  \n",
       "3           0.0                    0.3         14.80                   NaN  \n",
       "4           0.0                    0.3          9.95                   0.0  "
      ]
     },
     "execution_count": 9,
     "metadata": {},
     "output_type": "execute_result"
    }
   ],
   "source": [
    "import pandas as pd\n",
    "df = pd.read_csv(\"https://raw.githubusercontent.com/great-expectations/gx_tutorials/main/data/yellow_tripdata_sample_2019-01.csv\")\n",
    "df.head()"
   ]
  },
  {
   "cell_type": "markdown",
   "metadata": {},
   "source": [
    "Looks good. The Great Expectations library is used to validate data. Let's install it and import it.\n",
    "\n",
    "```python\n",
    "!pip install great_expectations\n",
    "import great_expectations as ge\n",
    "```\n"
   ]
  },
  {
   "cell_type": "code",
   "execution_count": 10,
   "metadata": {},
   "outputs": [
    {
     "name": "stdout",
     "output_type": "stream",
     "text": [
      "Requirement already satisfied: great_expectations in /Users/gerhard/anaconda3/lib/python3.11/site-packages (0.17.11)\n",
      "Requirement already satisfied: altair<5.0.0,>=4.2.1 in /Users/gerhard/anaconda3/lib/python3.11/site-packages (from great_expectations) (4.2.2)\n",
      "Requirement already satisfied: Click!=8.1.4,>=7.1.2 in /Users/gerhard/anaconda3/lib/python3.11/site-packages (from great_expectations) (8.0.4)\n",
      "Requirement already satisfied: colorama>=0.4.3 in /Users/gerhard/anaconda3/lib/python3.11/site-packages (from great_expectations) (0.4.6)\n",
      "Requirement already satisfied: cryptography>=3.2 in /Users/gerhard/anaconda3/lib/python3.11/site-packages (from great_expectations) (41.0.2)\n",
      "Requirement already satisfied: Ipython>=7.16.3 in /Users/gerhard/anaconda3/lib/python3.11/site-packages (from great_expectations) (8.12.0)\n",
      "Requirement already satisfied: ipywidgets>=7.5.1 in /Users/gerhard/anaconda3/lib/python3.11/site-packages (from great_expectations) (8.0.4)\n",
      "Requirement already satisfied: jinja2>=2.10 in /Users/gerhard/anaconda3/lib/python3.11/site-packages (from great_expectations) (3.1.2)\n",
      "Requirement already satisfied: jsonpatch>=1.22 in /Users/gerhard/anaconda3/lib/python3.11/site-packages (from great_expectations) (1.32)\n",
      "Requirement already satisfied: jsonschema>=2.5.1 in /Users/gerhard/anaconda3/lib/python3.11/site-packages (from great_expectations) (4.17.3)\n",
      "Requirement already satisfied: makefun<2,>=1.7.0 in /Users/gerhard/anaconda3/lib/python3.11/site-packages (from great_expectations) (1.15.1)\n",
      "Requirement already satisfied: marshmallow<4.0.0,>=3.7.1 in /Users/gerhard/anaconda3/lib/python3.11/site-packages (from great_expectations) (3.20.1)\n",
      "Requirement already satisfied: mistune>=0.8.4 in /Users/gerhard/anaconda3/lib/python3.11/site-packages (from great_expectations) (0.8.4)\n",
      "Requirement already satisfied: nbformat>=5.0 in /Users/gerhard/anaconda3/lib/python3.11/site-packages (from great_expectations) (5.7.0)\n",
      "Requirement already satisfied: notebook>=6.4.10 in /Users/gerhard/anaconda3/lib/python3.11/site-packages (from great_expectations) (6.5.4)\n",
      "Requirement already satisfied: packaging in /Users/gerhard/anaconda3/lib/python3.11/site-packages (from great_expectations) (23.0)\n",
      "Requirement already satisfied: pydantic<2.0,>=1.9.2 in /Users/gerhard/anaconda3/lib/python3.11/site-packages (from great_expectations) (1.10.12)\n",
      "Requirement already satisfied: pyparsing>=2.4 in /Users/gerhard/anaconda3/lib/python3.11/site-packages (from great_expectations) (3.0.9)\n",
      "Requirement already satisfied: python-dateutil>=2.8.1 in /Users/gerhard/anaconda3/lib/python3.11/site-packages (from great_expectations) (2.8.2)\n",
      "Requirement already satisfied: pytz>=2021.3 in /Users/gerhard/anaconda3/lib/python3.11/site-packages (from great_expectations) (2022.7)\n",
      "Requirement already satisfied: requests>=2.20 in /Users/gerhard/anaconda3/lib/python3.11/site-packages (from great_expectations) (2.31.0)\n",
      "Requirement already satisfied: ruamel.yaml<0.17.18,>=0.16 in /Users/gerhard/anaconda3/lib/python3.11/site-packages (from great_expectations) (0.17.17)\n",
      "Requirement already satisfied: scipy>=1.6.0 in /Users/gerhard/anaconda3/lib/python3.11/site-packages (from great_expectations) (1.10.1)\n",
      "Requirement already satisfied: tqdm>=4.59.0 in /Users/gerhard/anaconda3/lib/python3.11/site-packages (from great_expectations) (4.65.0)\n",
      "Requirement already satisfied: typing-extensions>=3.10.0.0 in /Users/gerhard/anaconda3/lib/python3.11/site-packages (from great_expectations) (4.7.1)\n",
      "Requirement already satisfied: tzlocal>=1.2 in /Users/gerhard/anaconda3/lib/python3.11/site-packages (from great_expectations) (5.0.1)\n",
      "Requirement already satisfied: urllib3>=1.26 in /Users/gerhard/anaconda3/lib/python3.11/site-packages (from great_expectations) (1.26.16)\n",
      "Requirement already satisfied: numpy>=1.22.4 in /Users/gerhard/anaconda3/lib/python3.11/site-packages (from great_expectations) (1.24.3)\n",
      "Requirement already satisfied: pandas>=1.3.0 in /Users/gerhard/anaconda3/lib/python3.11/site-packages (from great_expectations) (1.5.3)\n",
      "Requirement already satisfied: entrypoints in /Users/gerhard/anaconda3/lib/python3.11/site-packages (from altair<5.0.0,>=4.2.1->great_expectations) (0.4)\n",
      "Requirement already satisfied: toolz in /Users/gerhard/anaconda3/lib/python3.11/site-packages (from altair<5.0.0,>=4.2.1->great_expectations) (0.12.0)\n",
      "Requirement already satisfied: cffi>=1.12 in /Users/gerhard/anaconda3/lib/python3.11/site-packages (from cryptography>=3.2->great_expectations) (1.15.1)\n",
      "Requirement already satisfied: backcall in /Users/gerhard/anaconda3/lib/python3.11/site-packages (from Ipython>=7.16.3->great_expectations) (0.2.0)\n",
      "Requirement already satisfied: decorator in /Users/gerhard/anaconda3/lib/python3.11/site-packages (from Ipython>=7.16.3->great_expectations) (5.1.1)\n",
      "Requirement already satisfied: jedi>=0.16 in /Users/gerhard/anaconda3/lib/python3.11/site-packages (from Ipython>=7.16.3->great_expectations) (0.18.1)\n",
      "Requirement already satisfied: matplotlib-inline in /Users/gerhard/anaconda3/lib/python3.11/site-packages (from Ipython>=7.16.3->great_expectations) (0.1.6)\n",
      "Requirement already satisfied: pickleshare in /Users/gerhard/anaconda3/lib/python3.11/site-packages (from Ipython>=7.16.3->great_expectations) (0.7.5)\n",
      "Requirement already satisfied: prompt-toolkit!=3.0.37,<3.1.0,>=3.0.30 in /Users/gerhard/anaconda3/lib/python3.11/site-packages (from Ipython>=7.16.3->great_expectations) (3.0.36)\n",
      "Requirement already satisfied: pygments>=2.4.0 in /Users/gerhard/anaconda3/lib/python3.11/site-packages (from Ipython>=7.16.3->great_expectations) (2.15.1)\n",
      "Requirement already satisfied: stack-data in /Users/gerhard/anaconda3/lib/python3.11/site-packages (from Ipython>=7.16.3->great_expectations) (0.2.0)\n",
      "Requirement already satisfied: traitlets>=5 in /Users/gerhard/anaconda3/lib/python3.11/site-packages (from Ipython>=7.16.3->great_expectations) (5.7.1)\n",
      "Requirement already satisfied: pexpect>4.3 in /Users/gerhard/anaconda3/lib/python3.11/site-packages (from Ipython>=7.16.3->great_expectations) (4.8.0)\n",
      "Requirement already satisfied: appnope in /Users/gerhard/anaconda3/lib/python3.11/site-packages (from Ipython>=7.16.3->great_expectations) (0.1.2)\n",
      "Requirement already satisfied: ipykernel>=4.5.1 in /Users/gerhard/anaconda3/lib/python3.11/site-packages (from ipywidgets>=7.5.1->great_expectations) (6.19.2)\n",
      "Requirement already satisfied: widgetsnbextension~=4.0 in /Users/gerhard/anaconda3/lib/python3.11/site-packages (from ipywidgets>=7.5.1->great_expectations) (4.0.5)\n",
      "Requirement already satisfied: jupyterlab-widgets~=3.0 in /Users/gerhard/anaconda3/lib/python3.11/site-packages (from ipywidgets>=7.5.1->great_expectations) (3.0.5)\n",
      "Requirement already satisfied: MarkupSafe>=2.0 in /Users/gerhard/anaconda3/lib/python3.11/site-packages (from jinja2>=2.10->great_expectations) (2.1.1)\n",
      "Requirement already satisfied: jsonpointer>=1.9 in /Users/gerhard/anaconda3/lib/python3.11/site-packages (from jsonpatch>=1.22->great_expectations) (2.1)\n",
      "Requirement already satisfied: attrs>=17.4.0 in /Users/gerhard/anaconda3/lib/python3.11/site-packages (from jsonschema>=2.5.1->great_expectations) (22.1.0)\n",
      "Requirement already satisfied: pyrsistent!=0.17.0,!=0.17.1,!=0.17.2,>=0.14.0 in /Users/gerhard/anaconda3/lib/python3.11/site-packages (from jsonschema>=2.5.1->great_expectations) (0.18.0)\n",
      "Requirement already satisfied: fastjsonschema in /Users/gerhard/anaconda3/lib/python3.11/site-packages (from nbformat>=5.0->great_expectations) (2.16.2)\n",
      "Requirement already satisfied: jupyter-core in /Users/gerhard/anaconda3/lib/python3.11/site-packages (from nbformat>=5.0->great_expectations) (5.3.0)\n",
      "Requirement already satisfied: tornado>=6.1 in /Users/gerhard/anaconda3/lib/python3.11/site-packages (from notebook>=6.4.10->great_expectations) (6.3.2)\n",
      "Requirement already satisfied: pyzmq>=17 in /Users/gerhard/anaconda3/lib/python3.11/site-packages (from notebook>=6.4.10->great_expectations) (23.2.0)\n",
      "Requirement already satisfied: argon2-cffi in /Users/gerhard/anaconda3/lib/python3.11/site-packages (from notebook>=6.4.10->great_expectations) (21.3.0)\n",
      "Requirement already satisfied: jupyter-client>=5.3.4 in /Users/gerhard/anaconda3/lib/python3.11/site-packages (from notebook>=6.4.10->great_expectations) (7.4.9)\n",
      "Requirement already satisfied: ipython-genutils in /Users/gerhard/anaconda3/lib/python3.11/site-packages (from notebook>=6.4.10->great_expectations) (0.2.0)\n",
      "Requirement already satisfied: nbconvert>=5 in /Users/gerhard/anaconda3/lib/python3.11/site-packages (from notebook>=6.4.10->great_expectations) (6.5.4)\n",
      "Requirement already satisfied: nest-asyncio>=1.5 in /Users/gerhard/anaconda3/lib/python3.11/site-packages (from notebook>=6.4.10->great_expectations) (1.5.6)\n",
      "Requirement already satisfied: Send2Trash>=1.8.0 in /Users/gerhard/anaconda3/lib/python3.11/site-packages (from notebook>=6.4.10->great_expectations) (1.8.0)\n",
      "Requirement already satisfied: terminado>=0.8.3 in /Users/gerhard/anaconda3/lib/python3.11/site-packages (from notebook>=6.4.10->great_expectations) (0.17.1)\n",
      "Requirement already satisfied: prometheus-client in /Users/gerhard/anaconda3/lib/python3.11/site-packages (from notebook>=6.4.10->great_expectations) (0.14.1)\n",
      "Requirement already satisfied: nbclassic>=0.4.7 in /Users/gerhard/anaconda3/lib/python3.11/site-packages (from notebook>=6.4.10->great_expectations) (0.5.5)\n",
      "Requirement already satisfied: six>=1.5 in /Users/gerhard/anaconda3/lib/python3.11/site-packages (from python-dateutil>=2.8.1->great_expectations) (1.16.0)\n",
      "Requirement already satisfied: charset-normalizer<4,>=2 in /Users/gerhard/anaconda3/lib/python3.11/site-packages (from requests>=2.20->great_expectations) (2.0.4)\n",
      "Requirement already satisfied: idna<4,>=2.5 in /Users/gerhard/anaconda3/lib/python3.11/site-packages (from requests>=2.20->great_expectations) (3.4)\n",
      "Requirement already satisfied: certifi>=2017.4.17 in /Users/gerhard/anaconda3/lib/python3.11/site-packages (from requests>=2.20->great_expectations) (2023.7.22)\n",
      "Requirement already satisfied: pycparser in /Users/gerhard/anaconda3/lib/python3.11/site-packages (from cffi>=1.12->cryptography>=3.2->great_expectations) (2.21)\n",
      "Requirement already satisfied: comm>=0.1.1 in /Users/gerhard/anaconda3/lib/python3.11/site-packages (from ipykernel>=4.5.1->ipywidgets>=7.5.1->great_expectations) (0.1.2)\n",
      "Requirement already satisfied: debugpy>=1.0 in /Users/gerhard/anaconda3/lib/python3.11/site-packages (from ipykernel>=4.5.1->ipywidgets>=7.5.1->great_expectations) (1.6.7)\n",
      "Requirement already satisfied: psutil in /Users/gerhard/anaconda3/lib/python3.11/site-packages (from ipykernel>=4.5.1->ipywidgets>=7.5.1->great_expectations) (5.9.0)\n",
      "Requirement already satisfied: parso<0.9.0,>=0.8.0 in /Users/gerhard/anaconda3/lib/python3.11/site-packages (from jedi>=0.16->Ipython>=7.16.3->great_expectations) (0.8.3)\n",
      "Requirement already satisfied: platformdirs>=2.5 in /Users/gerhard/anaconda3/lib/python3.11/site-packages (from jupyter-core->nbformat>=5.0->great_expectations) (2.5.2)\n",
      "Requirement already satisfied: jupyter-server>=1.8 in /Users/gerhard/anaconda3/lib/python3.11/site-packages (from nbclassic>=0.4.7->notebook>=6.4.10->great_expectations) (1.23.4)\n",
      "Requirement already satisfied: notebook-shim>=0.1.0 in /Users/gerhard/anaconda3/lib/python3.11/site-packages (from nbclassic>=0.4.7->notebook>=6.4.10->great_expectations) (0.2.2)\n",
      "Requirement already satisfied: lxml in /Users/gerhard/anaconda3/lib/python3.11/site-packages (from nbconvert>=5->notebook>=6.4.10->great_expectations) (4.9.2)\n",
      "Requirement already satisfied: beautifulsoup4 in /Users/gerhard/anaconda3/lib/python3.11/site-packages (from nbconvert>=5->notebook>=6.4.10->great_expectations) (4.12.2)\n",
      "Requirement already satisfied: bleach in /Users/gerhard/anaconda3/lib/python3.11/site-packages (from nbconvert>=5->notebook>=6.4.10->great_expectations) (4.1.0)\n",
      "Requirement already satisfied: defusedxml in /Users/gerhard/anaconda3/lib/python3.11/site-packages (from nbconvert>=5->notebook>=6.4.10->great_expectations) (0.7.1)\n",
      "Requirement already satisfied: jupyterlab-pygments in /Users/gerhard/anaconda3/lib/python3.11/site-packages (from nbconvert>=5->notebook>=6.4.10->great_expectations) (0.1.2)\n",
      "Requirement already satisfied: nbclient>=0.5.0 in /Users/gerhard/anaconda3/lib/python3.11/site-packages (from nbconvert>=5->notebook>=6.4.10->great_expectations) (0.5.13)\n",
      "Requirement already satisfied: pandocfilters>=1.4.1 in /Users/gerhard/anaconda3/lib/python3.11/site-packages (from nbconvert>=5->notebook>=6.4.10->great_expectations) (1.5.0)\n",
      "Requirement already satisfied: tinycss2 in /Users/gerhard/anaconda3/lib/python3.11/site-packages (from nbconvert>=5->notebook>=6.4.10->great_expectations) (1.2.1)\n",
      "Requirement already satisfied: ptyprocess>=0.5 in /Users/gerhard/anaconda3/lib/python3.11/site-packages (from pexpect>4.3->Ipython>=7.16.3->great_expectations) (0.7.0)\n",
      "Requirement already satisfied: wcwidth in /Users/gerhard/anaconda3/lib/python3.11/site-packages (from prompt-toolkit!=3.0.37,<3.1.0,>=3.0.30->Ipython>=7.16.3->great_expectations) (0.2.5)\n",
      "Requirement already satisfied: argon2-cffi-bindings in /Users/gerhard/anaconda3/lib/python3.11/site-packages (from argon2-cffi->notebook>=6.4.10->great_expectations) (21.2.0)\n",
      "Requirement already satisfied: executing in /Users/gerhard/anaconda3/lib/python3.11/site-packages (from stack-data->Ipython>=7.16.3->great_expectations) (0.8.3)\n",
      "Requirement already satisfied: asttokens in /Users/gerhard/anaconda3/lib/python3.11/site-packages (from stack-data->Ipython>=7.16.3->great_expectations) (2.0.5)\n",
      "Requirement already satisfied: pure-eval in /Users/gerhard/anaconda3/lib/python3.11/site-packages (from stack-data->Ipython>=7.16.3->great_expectations) (0.2.2)\n",
      "Requirement already satisfied: anyio<4,>=3.1.0 in /Users/gerhard/anaconda3/lib/python3.11/site-packages (from jupyter-server>=1.8->nbclassic>=0.4.7->notebook>=6.4.10->great_expectations) (3.5.0)\n",
      "Requirement already satisfied: websocket-client in /Users/gerhard/anaconda3/lib/python3.11/site-packages (from jupyter-server>=1.8->nbclassic>=0.4.7->notebook>=6.4.10->great_expectations) (0.58.0)\n",
      "Requirement already satisfied: soupsieve>1.2 in /Users/gerhard/anaconda3/lib/python3.11/site-packages (from beautifulsoup4->nbconvert>=5->notebook>=6.4.10->great_expectations) (2.4)\n",
      "Requirement already satisfied: webencodings in /Users/gerhard/anaconda3/lib/python3.11/site-packages (from bleach->nbconvert>=5->notebook>=6.4.10->great_expectations) (0.5.1)\n",
      "Requirement already satisfied: sniffio>=1.1 in /Users/gerhard/anaconda3/lib/python3.11/site-packages (from anyio<4,>=3.1.0->jupyter-server>=1.8->nbclassic>=0.4.7->notebook>=6.4.10->great_expectations) (1.2.0)\n"
     ]
    }
   ],
   "source": [
    "!pip install great_expectations\n",
    "import great_expectations as ge\n"
   ]
  },
  {
   "cell_type": "markdown",
   "metadata": {},
   "source": [
    "Load the file into GE to validate it."
   ]
  },
  {
   "cell_type": "code",
   "execution_count": 12,
   "metadata": {},
   "outputs": [],
   "source": [
    "# Create a Data Context\n",
    "context = ge.get_context()\n",
    "validator = context.sources.pandas_default.read_csv(\n",
    "    \"https://raw.githubusercontent.com/great-expectations/gx_tutorials/main/data/yellow_tripdata_sample_2019-01.csv\"\n",
    ")"
   ]
  },
  {
   "cell_type": "markdown",
   "metadata": {},
   "source": [
    "Run some validations:"
   ]
  },
  {
   "cell_type": "code",
   "execution_count": 1,
   "metadata": {},
   "outputs": [
    {
     "ename": "NameError",
     "evalue": "name 'validator' is not defined",
     "output_type": "error",
     "traceback": [
      "\u001b[0;31m---------------------------------------------------------------------------\u001b[0m",
      "\u001b[0;31mNameError\u001b[0m                                 Traceback (most recent call last)",
      "Cell \u001b[0;32mIn[1], line 1\u001b[0m\n\u001b[0;32m----> 1\u001b[0m validator\u001b[39m.\u001b[39mexpect_column_values_to_not_be_null(\u001b[39m\"\u001b[39m\u001b[39mpickup_datetime\u001b[39m\u001b[39m\"\u001b[39m)\n\u001b[1;32m      3\u001b[0m validator\u001b[39m.\u001b[39mexpect_column_values_to_be_between(\u001b[39m\"\u001b[39m\u001b[39mpassenger_count\u001b[39m\u001b[39m\"\u001b[39m, auto\u001b[39m=\u001b[39m\u001b[39mTrue\u001b[39;00m)\n\u001b[1;32m      4\u001b[0m validator\u001b[39m.\u001b[39msave_expectation_suite()\n",
      "\u001b[0;31mNameError\u001b[0m: name 'validator' is not defined"
     ]
    }
   ],
   "source": [
    "validator.expect_column_values_to_not_be_null(\"pickup_datetime\")\n",
    "\n",
    "validator.expect_column_values_to_be_between(\"passenger_count\", auto=True)\n",
    "validator.save_expectation_suite()"
   ]
  },
  {
   "cell_type": "markdown",
   "metadata": {},
   "source": [
    "Run the checkpoint "
   ]
  },
  {
   "cell_type": "code",
   "execution_count": 13,
   "metadata": {},
   "outputs": [],
   "source": [
    "checkpoint = context.add_or_update_checkpoint(\n",
    "    name=\"my_quickstart_checkpoint\",\n",
    "    validator=validator,\n",
    ")"
   ]
  },
  {
   "cell_type": "markdown",
   "metadata": {},
   "source": [
    "Validate the data"
   ]
  },
  {
   "cell_type": "code",
   "execution_count": 14,
   "metadata": {},
   "outputs": [
    {
     "data": {
      "application/vnd.jupyter.widget-view+json": {
       "model_id": "698dc6ff36ea4a129ccd5d3fce1ded47",
       "version_major": 2,
       "version_minor": 0
      },
      "text/plain": [
       "Calculating Metrics:   0%|          | 0/15 [00:00<?, ?it/s]"
      ]
     },
     "metadata": {},
     "output_type": "display_data"
    }
   ],
   "source": [
    "checkpoint_result = checkpoint.run()"
   ]
  },
  {
   "cell_type": "markdown",
   "metadata": {},
   "source": [
    "Look at the HTML report"
   ]
  },
  {
   "cell_type": "code",
   "execution_count": 15,
   "metadata": {},
   "outputs": [],
   "source": [
    "context.view_validation_result(checkpoint_result)"
   ]
  },
  {
   "cell_type": "markdown",
   "metadata": {},
   "source": [
    "The HTML report provides us with a profile of the data and a summary of the validation results. We can see that the data is accurate and that there are no errors."
   ]
  },
  {
   "cell_type": "markdown",
   "metadata": {},
   "source": [
    "### Uniqueness\n",
    "Data should be unique. This means that there should be no duplicate values in the data. If there are duplicate values, it means that the data is not unique and that there is an error in the data.\n",
    "Great Expectations provides a suite of expectations that can be used to validate the uniqueness of data. Let's use the unique value expectation to validate the uniqueness of the VendorID column.\n",
    "\n",
    "```python\n",
    "df = pd.read_csv(\"https://raw.githubusercontent.com/great-expectations/gx_tutorials/main/data/yellow_tripdata_sample_2019-01.csv\")\n",
    "df = df.rename(columns={\"VendorID\": \"vendor_id\"})\n",
    "df[\"vendor_id\"] = df[\"vendor_id\"].astype(str)\n",
    "df[\"vendor_id\"] = df[\"vendor_id\"].replace({\"1\": \"Creative Mobile Technologies, LLC\", \"2\": \"VeriFone Inc\"})\n",
    "df[\"vendor_id\"] = df[\"vendor_id\"].astype(\"category\")\n",
    "    "
   ]
  }
 ],
 "metadata": {
  "kernelspec": {
   "display_name": "base",
   "language": "python",
   "name": "python3"
  },
  "language_info": {
   "codemirror_mode": {
    "name": "ipython",
    "version": 3
   },
   "file_extension": ".py",
   "mimetype": "text/x-python",
   "name": "python",
   "nbconvert_exporter": "python",
   "pygments_lexer": "ipython3",
   "version": "3.11.4"
  },
  "orig_nbformat": 4
 },
 "nbformat": 4,
 "nbformat_minor": 2
}

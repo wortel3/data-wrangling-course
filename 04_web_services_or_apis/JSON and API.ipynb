{
 "cells": [
  {
   "cell_type": "markdown",
   "metadata": {},
   "source": [
    "# Working with APIs and Json data\n",
    "*** \n",
    "## Learning Objectives\n"
   ]
  },
  {
   "cell_type": "markdown",
   "metadata": {},
   "source": [
    "Here's an example of calling an API in Python. This is the same API that we called in the previous section, but this time we're using Python instead of Postman."
   ]
  },
  {
   "cell_type": "code",
   "execution_count": 3,
   "metadata": {},
   "outputs": [
    {
     "name": "stdout",
     "output_type": "stream",
     "text": [
      "b'{\"fact\":\"The average litter of kittens is between 2 - 6 kittens.\",\"length\":55}'\n"
     ]
    }
   ],
   "source": [
    "import requests\n",
    "\n",
    "url = \"https://catfact.ninja/fact\"\n",
    "\n",
    "payload = {}\n",
    "response = requests.request(\"GET\", url, data = payload)\n",
    "\n",
    "print(response.text.encode('utf8'))\n"
   ]
  },
  {
   "cell_type": "markdown",
   "metadata": {},
   "source": [
    "Notice that the code above is returned in JSON format. The `b` in front of the string indicates that it is a `bytes` object. We can use the `json` library to convert this to a Python dictionary."
   ]
  },
  {
   "cell_type": "code",
   "execution_count": 4,
   "metadata": {},
   "outputs": [
    {
     "name": "stdout",
     "output_type": "stream",
     "text": [
      "{\"fact\":\"The average litter of kittens is between 2 - 6 kittens.\",\"length\":55}\n",
      "{\n",
      "    \"fact\": \"The average litter of kittens is between 2 - 6 kittens.\",\n",
      "    \"length\": 55\n",
      "}\n",
      "The average litter of kittens is between 2 - 6 kittens.\n"
     ]
    }
   ],
   "source": [
    "import requests\n",
    "import json\n",
    "# Code from the previous section\n",
    "url = \"https://catfact.ninja/fact\"\n",
    "\n",
    "payload = {}\n",
    "response = requests.request(\"GET\", url, data = payload)\n",
    "print(response.text)\n",
    "\n",
    "# Parse the JSON response into a Python dictionary\n",
    "fact_data = json.loads(response.text)\n",
    "\n",
    "# pretty print the dictionary\n",
    "print(json.dumps(fact_data, indent=4))\n",
    "\n",
    "# Get the value of the fact key\n",
    "fact = fact_data['fact']\n",
    "\n",
    "# Print the fact\n",
    "print(fact)"
   ]
  },
  {
   "cell_type": "markdown",
   "metadata": {},
   "source": [
    "Say we want to get the value of `title` from the JSON data below. We can do this by using the `json` module's `loads` method:"
   ]
  },
  {
   "cell_type": "code",
   "execution_count": 5,
   "metadata": {},
   "outputs": [
    {
     "name": "stdout",
     "output_type": "stream",
     "text": [
      "example glossary\n"
     ]
    }
   ],
   "source": [
    "import json\n",
    "\n",
    "# Your JSON data\n",
    "json_data = {\n",
    "    \"glossary\": {\n",
    "        \"title\": \"example glossary\",\n",
    "        \"GlossDiv\": {\n",
    "            \"title\": \"S\",\n",
    "            \"GlossList\": {\n",
    "                \"GlossEntry\": {\n",
    "                    \"ID\": \"SGML\",\n",
    "                    \"SortAs\": \"SGML\",\n",
    "                    \"GlossTerm\": \"Standard Generalized Markup Language\",\n",
    "                    \"Acronym\": \"SGML\",\n",
    "                    \"Abbrev\": \"ISO 8879:1986\",\n",
    "                    \"GlossDef\": {\n",
    "                        \"para\": \"A meta-markup language, used to create markup languages such as DocBook.\",\n",
    "                        \"GlossSeeAlso\": [\"GML\", \"XML\"]\n",
    "                    },\n",
    "                    \"GlossSee\": \"markup\"\n",
    "                }\n",
    "            }\n",
    "        }\n",
    "    }\n",
    "}\n",
    "\n",
    "# Accessing the value of the \"title\" key\n",
    "title_value = json_data[\"glossary\"][\"title\"]\n",
    "\n",
    "print(title_value)\n",
    "\n"
   ]
  },
  {
   "cell_type": "markdown",
   "metadata": {},
   "source": [
    "Notice that we reference the JSON data by its key name, i.e. `glossary` and then, within the `glossary` key, we reference the `title` key. \n",
    "```python\n",
    "json_data[\"glossary\"][\"title\"]\n",
    "```\n",
    "\n",
    "Say we need to access `GlossSeeAlso` key. We can do so by using the following code:\n",
    "```python\n",
    "json_data[\"glossary\"][\"GlossDiv\"][\"GlossList\"][\"GlossEntry\"][\"GlossSeeAlso\"]\n",
    "```\n",
    "The values look a bit different - note the square brackets. This is because the value of the `GlossSeeAlso` key is a list of values. We therefore need to iterate over them. Here is the code:"
   ]
  },
  {
   "cell_type": "code",
   "execution_count": 6,
   "metadata": {},
   "outputs": [
    {
     "name": "stdout",
     "output_type": "stream",
     "text": [
      "GML\n",
      "XML\n"
     ]
    }
   ],
   "source": [
    "import json\n",
    "\n",
    "# Your JSON data\n",
    "json_data = {\n",
    "    \"glossary\": {\n",
    "        \"title\": \"example glossary\",\n",
    "        \"GlossDiv\": {\n",
    "            \"title\": \"S\",\n",
    "            \"GlossList\": {\n",
    "                \"GlossEntry\": {\n",
    "                    \"ID\": \"SGML\",\n",
    "                    \"SortAs\": \"SGML\",\n",
    "                    \"GlossTerm\": \"Standard Generalized Markup Language\",\n",
    "                    \"Acronym\": \"SGML\",\n",
    "                    \"Abbrev\": \"ISO 8879:1986\",\n",
    "                    \"GlossDef\": {\n",
    "                        \"para\": \"A meta-markup language, used to create markup languages such as DocBook.\",\n",
    "                        \"GlossSeeAlso\": [\"GML\", \"XML\"]\n",
    "                    },\n",
    "                    \"GlossSee\": \"markup\"\n",
    "                }\n",
    "            }\n",
    "        }\n",
    "    }\n",
    "}\n",
    "\n",
    "# Accessing all the values of the \"GlossSeeAlso\" key within \"GlossEntry\"\n",
    "gloss_see_also_values = json_data[\"glossary\"][\"GlossDiv\"][\"GlossList\"][\"GlossEntry\"][\"GlossDef\"][\"GlossSeeAlso\"]\n",
    "\n",
    "for value in gloss_see_also_values:\n",
    "    print(value)\n"
   ]
  },
  {
   "cell_type": "markdown",
   "metadata": {},
   "source": [
    "### JSON to Pandas DataFrame"
   ]
  },
  {
   "cell_type": "code",
   "execution_count": 12,
   "metadata": {},
   "outputs": [
    {
     "data": {
      "text/html": [
       "<div>\n",
       "<style scoped>\n",
       "    .dataframe tbody tr th:only-of-type {\n",
       "        vertical-align: middle;\n",
       "    }\n",
       "\n",
       "    .dataframe tbody tr th {\n",
       "        vertical-align: top;\n",
       "    }\n",
       "\n",
       "    .dataframe thead th {\n",
       "        text-align: right;\n",
       "    }\n",
       "</style>\n",
       "<table border=\"1\" class=\"dataframe\">\n",
       "  <thead>\n",
       "    <tr style=\"text-align: right;\">\n",
       "      <th></th>\n",
       "      <th>Name</th>\n",
       "      <th>Age</th>\n",
       "      <th>Info</th>\n",
       "    </tr>\n",
       "  </thead>\n",
       "  <tbody>\n",
       "    <tr>\n",
       "      <th>0</th>\n",
       "      <td>Alice</td>\n",
       "      <td>25</td>\n",
       "      <td>{'City': 'New York', 'Country': 'USA'}</td>\n",
       "    </tr>\n",
       "    <tr>\n",
       "      <th>1</th>\n",
       "      <td>Bob</td>\n",
       "      <td>30</td>\n",
       "      <td>{'City': 'Los Angeles', 'Country': 'USA'}</td>\n",
       "    </tr>\n",
       "    <tr>\n",
       "      <th>2</th>\n",
       "      <td>Charlie</td>\n",
       "      <td>35</td>\n",
       "      <td>{'City': 'Chicago', 'Country': 'USA'}</td>\n",
       "    </tr>\n",
       "  </tbody>\n",
       "</table>\n",
       "</div>"
      ],
      "text/plain": [
       "      Name  Age                                       Info\n",
       "0    Alice   25     {'City': 'New York', 'Country': 'USA'}\n",
       "1      Bob   30  {'City': 'Los Angeles', 'Country': 'USA'}\n",
       "2  Charlie   35      {'City': 'Chicago', 'Country': 'USA'}"
      ]
     },
     "execution_count": 12,
     "metadata": {},
     "output_type": "execute_result"
    }
   ],
   "source": [
    "import pandas as pd\n",
    "\n",
    "data = {\n",
    "    \"Name\": [\"Alice\", \"Bob\", \"Charlie\"],\n",
    "    \"Age\": [25, 30, 35],\n",
    "    \"Info\": [\n",
    "        {\"City\": \"New York\", \"Country\": \"USA\"},\n",
    "        {\"City\": \"Los Angeles\", \"Country\": \"USA\"},\n",
    "        {\"City\": \"Chicago\", \"Country\": \"USA\"}\n",
    "    ]\n",
    "}\n",
    "\n",
    "df = pd.DataFrame(data)\n",
    "df"
   ]
  },
  {
   "cell_type": "code",
   "execution_count": 13,
   "metadata": {},
   "outputs": [
    {
     "data": {
      "text/html": [
       "<div>\n",
       "<style scoped>\n",
       "    .dataframe tbody tr th:only-of-type {\n",
       "        vertical-align: middle;\n",
       "    }\n",
       "\n",
       "    .dataframe tbody tr th {\n",
       "        vertical-align: top;\n",
       "    }\n",
       "\n",
       "    .dataframe thead th {\n",
       "        text-align: right;\n",
       "    }\n",
       "</style>\n",
       "<table border=\"1\" class=\"dataframe\">\n",
       "  <thead>\n",
       "    <tr style=\"text-align: right;\">\n",
       "      <th></th>\n",
       "      <th>Name</th>\n",
       "      <th>Age</th>\n",
       "      <th>Info</th>\n",
       "      <th>City</th>\n",
       "    </tr>\n",
       "  </thead>\n",
       "  <tbody>\n",
       "    <tr>\n",
       "      <th>0</th>\n",
       "      <td>Alice</td>\n",
       "      <td>25</td>\n",
       "      <td>{'City': 'New York', 'Country': 'USA'}</td>\n",
       "      <td>New York</td>\n",
       "    </tr>\n",
       "    <tr>\n",
       "      <th>1</th>\n",
       "      <td>Bob</td>\n",
       "      <td>30</td>\n",
       "      <td>{'City': 'Los Angeles', 'Country': 'USA'}</td>\n",
       "      <td>Los Angeles</td>\n",
       "    </tr>\n",
       "    <tr>\n",
       "      <th>2</th>\n",
       "      <td>Charlie</td>\n",
       "      <td>35</td>\n",
       "      <td>{'City': 'Chicago', 'Country': 'USA'}</td>\n",
       "      <td>Chicago</td>\n",
       "    </tr>\n",
       "  </tbody>\n",
       "</table>\n",
       "</div>"
      ],
      "text/plain": [
       "      Name  Age                                       Info         City\n",
       "0    Alice   25     {'City': 'New York', 'Country': 'USA'}     New York\n",
       "1      Bob   30  {'City': 'Los Angeles', 'Country': 'USA'}  Los Angeles\n",
       "2  Charlie   35      {'City': 'Chicago', 'Country': 'USA'}      Chicago"
      ]
     },
     "execution_count": 13,
     "metadata": {},
     "output_type": "execute_result"
    }
   ],
   "source": [
    "df[\"City\"] = df[\"Info\"].apply(lambda x: x[\"City\"])\n",
    "df "
   ]
  }
 ],
 "metadata": {
  "kernelspec": {
   "display_name": "base",
   "language": "python",
   "name": "python3"
  },
  "language_info": {
   "codemirror_mode": {
    "name": "ipython",
    "version": 3
   },
   "file_extension": ".py",
   "mimetype": "text/x-python",
   "name": "python",
   "nbconvert_exporter": "python",
   "pygments_lexer": "ipython3",
   "version": "3.11.4"
  },
  "orig_nbformat": 4
 },
 "nbformat": 4,
 "nbformat_minor": 2
}

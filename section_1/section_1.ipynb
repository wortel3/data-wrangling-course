{
 "cells": [
  {
   "cell_type": "markdown",
   "metadata": {},
   "source": [
    "# What can you tell me about the data?\n",
    "***\n",
    "## Learning Objectives\n",
    "This section is all about the Discovery phase of Data Wrangling. After completing it you should be able to do: \n",
    "* **Data Exploration of CSV files** - *The student will be able to use pandas to read in a dataset and perform basic data exploration.*\n",
    "* **Data Analysis** - *The student will be able to use pandas to read in a dataset and perform basic data analysis.*\n",
    "* **Jupyter Notebooks** - *The student will be able to use Jupyter Notebooks to perform basic data exploration and analysis.*\n",
    "* **VSCode co-pilot** - *The student will be able to use VSCode co-pilot to perform basic data exploration and analysis.*\n",
    "## Introduction\n",
    "Welcome to to your first lesson on Data Wrangling. In this lesson we will be covering the Discovery phase of Data Wrangling. This is the first phase of Data Wrangling and it is where we will be exploring our data and getting to know it. We will be using the pandas library to read in our data and perform basic data exploration and analysis. We will also be using Jupyter Notebooks and VSCode co-pilot to help us with our data exploration and analysis.\n",
    "\n",
    "Don't worry of all of this means nothing to you right now. We will be covering all of this in this lesson. By the end of this lesson you will be able to use pandas to read in a dataset and perform basic data exploration and analysis. You will also be able to use Jupyter Notebooks and VSCode co-pilot to help you with your data exploration and analysis.\n",
    "\n",
    "## Data Frames\n",
    "Data Frames are one of the key building blocks that we'll be working with. What, might ask, is a Data Frame? Let's use the Q&A feature in VSCode to find out. \n",
    "\n",
    "q: What is a DataFrame?\n",
    "a: A DataFrame is a 2-dimensional labeled data structure with columns of potentially different types. You can think of it like a spreadsheet or SQL table, or a dict of Series objects. It is generally the most commonly used pandas object. Like Series, DataFrame accepts many different kinds of input: Dict of 1D ndarrays, lists, dicts, or Series 2-D numpy.ndarray Structured or record ndarray A Series Another DataFrame\n",
    "\n",
    "\n",
    "\n",
    "\n"
   ]
  },
  {
   "cell_type": "markdown",
   "metadata": {},
   "source": [
    "Let's get started. We need to read the contents of the CSV file. How do we do that? Let's use the question mark to find out.\n"
   ]
  },
  {
   "cell_type": "code",
   "execution_count": 19,
   "metadata": {},
   "outputs": [
    {
     "ename": "SyntaxError",
     "evalue": "unterminated string literal (detected at line 2) (2056019962.py, line 2)",
     "output_type": "error",
     "traceback": [
      "\u001b[0;36m  Cell \u001b[0;32mIn[19], line 2\u001b[0;36m\u001b[0m\n\u001b[0;31m    a: Use the csv module's reader function to read the contents of a CSV file.\u001b[0m\n\u001b[0m                         ^\u001b[0m\n\u001b[0;31mSyntaxError\u001b[0m\u001b[0;31m:\u001b[0m unterminated string literal (detected at line 2)\n"
     ]
    }
   ],
   "source": []
  },
  {
   "cell_type": "code",
   "execution_count": 18,
   "metadata": {},
   "outputs": [
    {
     "data": {
      "text/markdown": [
       "import pandas as pd\n",
       "\n",
       "# df = pd.read_csv('./files/sales_data_sample.csv')\n",
       "\n",
       "# :q how do I fix a UnicodeDecodeError? \n",
       "df = pd.read_csv('./files/sales_data_sample.csv', encoding='latin1')\n",
       "\n",
       "df.head(100)\n",
       "\n",
       "# Count the number of Orders\n",
       "df['ORDERNUMBER'].count()\n",
       "\n",
       "df.describe()\n"
      ],
      "text/plain": [
       "<IPython.core.display.Markdown object>"
      ]
     },
     "metadata": {},
     "output_type": "display_data"
    }
   ],
   "source": [
    "# Import pandas\n",
    "import pandas as pd\n",
    "\n",
    "# df = pd.read_csv('./files/sales_data_sample.csv')\n",
    "\n",
    "# :q how do I fix a UnicodeDecodeError? \n",
    "df = pd.read_csv('./files/sales_data_sample.csv', encoding='latin1')\n",
    "\n",
    "df.head(100)\n",
    "\n",
    "# Count the number of Orders\n",
    "df['ORDERNUMBER'].count()\n",
    "\n",
    "df.describe()"
   ]
  },
  {
   "cell_type": "markdown",
   "metadata": {},
   "source": [
    "$e^{i\\pi} + 1 = 0$"
   ]
  },
  {
   "cell_type": "code",
   "execution_count": 16,
   "metadata": {},
   "outputs": [],
   "source": [
    "# A list of the keyboard shortcuts in Jupyter Notebook\n",
    "# https://www.dataquest.io/blog/jupyter-notebook-tips-tricks-shortcuts/\n",
    "\n"
   ]
  },
  {
   "cell_type": "code",
   "execution_count": null,
   "metadata": {
    "vscode": {
     "languageId": "sql"
    }
   },
   "outputs": [],
   "source": []
  }
 ],
 "metadata": {
  "kernelspec": {
   "display_name": "base",
   "language": "python",
   "name": "python3"
  },
  "language_info": {
   "codemirror_mode": {
    "name": "ipython",
    "version": 3
   },
   "file_extension": ".py",
   "mimetype": "text/x-python",
   "name": "python",
   "nbconvert_exporter": "python",
   "pygments_lexer": "ipython3",
   "version": "3.11.3"
  },
  "orig_nbformat": 4
 },
 "nbformat": 4,
 "nbformat_minor": 2
}

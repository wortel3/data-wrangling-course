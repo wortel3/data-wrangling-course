{
 "cells": [
  {
   "cell_type": "markdown",
   "metadata": {},
   "source": [
    "# Enrichment\n",
    "***\n",
    "## Learning Objectives\n",
    "- Understand the concept of enrichment\n",
    "- Learn about joining dataframes\n",
    "- Learn about the different types of joins\n",
    "\n",
    "## Links\n",
    "\n",
    "## Additional Material\n",
    "\n",
    "\n",
    "## Sources\n",
    "- [SQL Joins](https://www.w3schools.com/sql/sql_join.asp)\n",
    "- [Indexes in Pandas](https://pandas.pydata.org/pandas-docs/stable/user_guide/indexing.html)\n",
    "- [Join in Pandas](https://pandas.pydata.org/docs/reference/api/pandas.DataFrame.join.html)\n",
    "- [Merge and Join differences](https://g.co/bard/share/219948ee80d0)\n"
   ]
  },
  {
   "cell_type": "markdown",
   "metadata": {},
   "source": [
    "## Merge\n",
    "Imagine you have two data frames: "
   ]
  },
  {
   "cell_type": "code",
   "execution_count": 23,
   "metadata": {},
   "outputs": [
    {
     "data": {
      "text/html": [
       "<div>\n",
       "<style scoped>\n",
       "    .dataframe tbody tr th:only-of-type {\n",
       "        vertical-align: middle;\n",
       "    }\n",
       "\n",
       "    .dataframe tbody tr th {\n",
       "        vertical-align: top;\n",
       "    }\n",
       "\n",
       "    .dataframe thead th {\n",
       "        text-align: right;\n",
       "    }\n",
       "</style>\n",
       "<table border=\"1\" class=\"dataframe\">\n",
       "  <thead>\n",
       "    <tr style=\"text-align: right;\">\n",
       "      <th></th>\n",
       "      <th>order_id</th>\n",
       "      <th>customer_id</th>\n",
       "      <th>order_total</th>\n",
       "    </tr>\n",
       "  </thead>\n",
       "  <tbody>\n",
       "    <tr>\n",
       "      <th>0</th>\n",
       "      <td>101</td>\n",
       "      <td>A</td>\n",
       "      <td>50</td>\n",
       "    </tr>\n",
       "    <tr>\n",
       "      <th>1</th>\n",
       "      <td>102</td>\n",
       "      <td>B</td>\n",
       "      <td>75</td>\n",
       "    </tr>\n",
       "    <tr>\n",
       "      <th>2</th>\n",
       "      <td>103</td>\n",
       "      <td>A</td>\n",
       "      <td>60</td>\n",
       "    </tr>\n",
       "    <tr>\n",
       "      <th>3</th>\n",
       "      <td>104</td>\n",
       "      <td>C</td>\n",
       "      <td>90</td>\n",
       "    </tr>\n",
       "  </tbody>\n",
       "</table>\n",
       "</div>"
      ],
      "text/plain": [
       "   order_id customer_id  order_total\n",
       "0       101           A           50\n",
       "1       102           B           75\n",
       "2       103           A           60\n",
       "3       104           C           90"
      ]
     },
     "execution_count": 23,
     "metadata": {},
     "output_type": "execute_result"
    }
   ],
   "source": [
    "import pandas as pd\n",
    "\n",
    "orders_data = {\n",
    "    'order_id': [101, 102, 103, 104],\n",
    "    'customer_id': ['A', 'B', 'A', 'C'],\n",
    "    'order_total': [50, 75, 60, 90]\n",
    "}\n",
    "\n",
    "orders = pd.DataFrame(orders_data)\n",
    "orders"
   ]
  },
  {
   "cell_type": "markdown",
   "metadata": {},
   "source": [
    "And"
   ]
  },
  {
   "cell_type": "code",
   "execution_count": 24,
   "metadata": {},
   "outputs": [
    {
     "data": {
      "text/html": [
       "<div>\n",
       "<style scoped>\n",
       "    .dataframe tbody tr th:only-of-type {\n",
       "        vertical-align: middle;\n",
       "    }\n",
       "\n",
       "    .dataframe tbody tr th {\n",
       "        vertical-align: top;\n",
       "    }\n",
       "\n",
       "    .dataframe thead th {\n",
       "        text-align: right;\n",
       "    }\n",
       "</style>\n",
       "<table border=\"1\" class=\"dataframe\">\n",
       "  <thead>\n",
       "    <tr style=\"text-align: right;\">\n",
       "      <th></th>\n",
       "      <th>customer_id</th>\n",
       "      <th>customer_name</th>\n",
       "    </tr>\n",
       "  </thead>\n",
       "  <tbody>\n",
       "    <tr>\n",
       "      <th>0</th>\n",
       "      <td>A</td>\n",
       "      <td>Alice</td>\n",
       "    </tr>\n",
       "    <tr>\n",
       "      <th>1</th>\n",
       "      <td>B</td>\n",
       "      <td>Bob</td>\n",
       "    </tr>\n",
       "    <tr>\n",
       "      <th>2</th>\n",
       "      <td>C</td>\n",
       "      <td>Charlie</td>\n",
       "    </tr>\n",
       "    <tr>\n",
       "      <th>3</th>\n",
       "      <td>D</td>\n",
       "      <td>David</td>\n",
       "    </tr>\n",
       "  </tbody>\n",
       "</table>\n",
       "</div>"
      ],
      "text/plain": [
       "  customer_id customer_name\n",
       "0           A         Alice\n",
       "1           B           Bob\n",
       "2           C       Charlie\n",
       "3           D         David"
      ]
     },
     "execution_count": 24,
     "metadata": {},
     "output_type": "execute_result"
    }
   ],
   "source": [
    "\n",
    "# Sample customers DataFrame\n",
    "customers_data = {\n",
    "    'customer_id': ['A', 'B', 'C', 'D'],\n",
    "    'customer_name': ['Alice', 'Bob', 'Charlie', 'David']\n",
    "}\n",
    "customers_df = pd.DataFrame(customers_data)\n",
    "customers_df"
   ]
  },
  {
   "cell_type": "markdown",
   "metadata": {},
   "source": [
    "Can you tell what's the common column in both these sets? It makes sense to combine them using the `customer_id` column. Let's do that using the `merge` function from `pandas`:\n",
    "\n",
    "```python\n",
    "merged = pd.merge(customers_df, orders, on='customer_id', how='inner')\n",
    "```\n"
   ]
  },
  {
   "cell_type": "code",
   "execution_count": 25,
   "metadata": {},
   "outputs": [
    {
     "name": "stdout",
     "output_type": "stream",
     "text": [
      "  customer_id customer_name  order_id  order_total\n",
      "0           A         Alice       101           50\n",
      "1           A         Alice       103           60\n",
      "2           B           Bob       102           75\n",
      "3           C       Charlie       104           90\n"
     ]
    }
   ],
   "source": [
    "merged = pd.merge(customers_df, orders, on='customer_id', how='inner')\n",
    "\n",
    "print(merged)"
   ]
  },
  {
   "attachments": {
    "image-2.png": {
     "image/png": "[encoded data removed]"
    },
    "image-3.png": {
     "image/png": "[encoded data removed]"
    },
    "image-4.png": {
     "image/png": "[encoded data removed]"
    },
    "image.png": {
     "image/png": "[encoded data removed]"
    }
   },
   "cell_type": "markdown",
   "metadata": {},
   "source": [
    "The two datasets are combined. The arguments for the `merge()` method are:\n",
    "* `left`: the left DataFrame\n",
    "* `right`: the right DataFrame\n",
    "* `on`: the column(s) to join on. If not specified, and no other join keys given, will use the intersection of the column names in `left` and `right` as the join keys.\n",
    "* `left_on`: the column(s) to use from the left DataFrame as the join key(s)\n",
    "* `right_on`: the column(s) to use from the right DataFrame as the join key(s)\n",
    "* `left_index`: if `True`, use the index (row labels) from the left DataFrame as its join key(s). If specified, `left_on` must be `None`.\n",
    "* `right_index`: if `True`, use the index (row labels) from the right DataFrame as its join key(s). If specified, `right_on` must be `None`.\n",
    "* `how`: the type of join to perform. Possible values are: `'left'`, `'right'`, `'outer'`, `'inner'`. Defaults to `'inner'`.\n",
    "* `suffixes`: a tuple of strings to append to the column names of the overlapping columns in the left and right DataFrames, respectively. Defaults to `('_x', '_y')`.\n",
    "\n",
    "For our purpose, we use `left`, `right`, `on`, and `how` arguments. We will use the `left` and `right` arguments to specify the DataFrames we want to join, the `on` argument to specify the column(s) to join on, and the `how` argument to specify the type of join to perform.\n",
    "\n",
    "`on` is used to tell `merge()` which column(s) can be used to combine the datasets. Normally, the columns names are the same, but it doesn't need to be. Think of vlookup`s in a spreadsheet program - you're basically performing a join when you use vlookup. \n",
    "\n",
    "`how` is used to tell `merge()` what type of join to perform. The default is an inner join, which is what we want. An inner join will only keep rows where the join key(s) are present in both datasets. You get 4 types of joins: \n",
    "* Inner join: only keep rows where the join key(s) are present in both datasets\n",
    "\n",
    "![image.png](attachment:image.png)\n",
    "\n",
    "* Left join: keep all rows from the left dataset, and only keep rows from the right dataset where the join key(s) are present in both datasets\n",
    "\n",
    "![image-2.png](attachment:image-2.png)\n",
    "\n",
    "* Right join: keep all rows from the right dataset, and only keep rows from the left dataset where the join key(s) are present in both datasets\n",
    "\n",
    "![image-3.png](attachment:image-3.png)\n",
    "\n",
    "* Outer join: keep all rows from both datasets\n",
    "\n",
    "![image-4.png](attachment:image-4.png)\n",
    "\n",
    "Here is a left join example:"
   ]
  },
  {
   "cell_type": "code",
   "execution_count": 26,
   "metadata": {},
   "outputs": [
    {
     "name": "stdout",
     "output_type": "stream",
     "text": [
      "   order_id customer_id  order_total customer_name\n",
      "0       101           A           50         Alice\n",
      "1       102           B           75           Bob\n",
      "2       103           A           60         Alice\n",
      "3       104           C           90       Charlie\n"
     ]
    }
   ],
   "source": [
    "import pandas as pd\n",
    "\n",
    "# Sample orders DataFrame\n",
    "orders_data = {\n",
    "    'order_id': [101, 102, 103, 104],\n",
    "    'customer_id': ['A', 'B', 'A', 'C'],\n",
    "    'order_total': [50, 75, 60, 90]\n",
    "}\n",
    "orders_df = pd.DataFrame(orders_data)\n",
    "\n",
    "# Sample customers DataFrame\n",
    "customers_data = {\n",
    "    'customer_id': ['A', 'B', 'C', 'D'],\n",
    "    'customer_name': ['Alice', 'Bob', 'Charlie', 'David']\n",
    "}\n",
    "customers_df = pd.DataFrame(customers_data)\n",
    "\n",
    "# Perform left join based on 'customer_id'\n",
    "result_df = pd.merge(orders_df, customers_df, on='customer_id', how='left')\n",
    "\n",
    "print(result_df)\n"
   ]
  },
  {
   "cell_type": "markdown",
   "metadata": {},
   "source": [
    "We may want only the customers that have orders. Notice that `David` (or `customer_id` `D`) does not have an order. There are 4 rows in the `customers` dataframe and 3 in `order_data`. That is why the result of the merge is 3 rows. \n",
    "\n",
    "We can swap it around - asking for all customers - if they have a order or not - by using a `right join`:"
   ]
  },
  {
   "cell_type": "code",
   "execution_count": 27,
   "metadata": {},
   "outputs": [
    {
     "name": "stdout",
     "output_type": "stream",
     "text": [
      "   order_id customer_id  order_total customer_name\n",
      "0     101.0           A         50.0         Alice\n",
      "1     103.0           A         60.0         Alice\n",
      "2     102.0           B         75.0           Bob\n",
      "3     104.0           C         90.0       Charlie\n",
      "4       NaN           D          NaN         David\n"
     ]
    }
   ],
   "source": [
    "result_df = pd.merge(orders_df, customers_df, on='customer_id', how='right')\n",
    "\n",
    "print(result_df)"
   ]
  },
  {
   "cell_type": "markdown",
   "metadata": {},
   "source": [
    "Notice the last row. David has no orders. `order_id` and `order_total` is `NaN` - not a number. This is because David has no orders. \n",
    "\n",
    "`OUTER JOIN` is even less restrictive than `LEFT JOIN` or `RIGHT JOIN`. It will return all rows from both tables, even if there is no match. Using the same example as above, the result would look like this:"
   ]
  },
  {
   "cell_type": "code",
   "execution_count": 28,
   "metadata": {},
   "outputs": [
    {
     "name": "stdout",
     "output_type": "stream",
     "text": [
      "   order_id customer_id  order_total customer_name\n",
      "0     101.0           A         50.0         Alice\n",
      "1     103.0           A         60.0         Alice\n",
      "2     102.0           B         75.0           Bob\n",
      "3     104.0           C         90.0       Charlie\n",
      "4       NaN           D          NaN         David\n"
     ]
    }
   ],
   "source": [
    "result_df = pd.merge(orders_df, customers_df, on='customer_id', how='outer')\n",
    "\n",
    "print(result_df)"
   ]
  },
  {
   "cell_type": "markdown",
   "metadata": {},
   "source": [
    "Since there are no orders without customers, the result is the same as a right join. Imagine the the dataset had orders without customers, though: "
   ]
  },
  {
   "cell_type": "code",
   "execution_count": 29,
   "metadata": {},
   "outputs": [
    {
     "name": "stderr",
     "output_type": "stream",
     "text": [
      "/var/folders/7m/3ln23gc103l4l5pk5vhzh6n00000gp/T/ipykernel_26368/2474794408.py:10: FutureWarning: The frame.append method is deprecated and will be removed from pandas in a future version. Use pandas.concat instead.\n",
      "  orders_df = orders_df.append(new_order, ignore_index=True)\n"
     ]
    },
    {
     "data": {
      "text/html": [
       "<div>\n",
       "<style scoped>\n",
       "    .dataframe tbody tr th:only-of-type {\n",
       "        vertical-align: middle;\n",
       "    }\n",
       "\n",
       "    .dataframe tbody tr th {\n",
       "        vertical-align: top;\n",
       "    }\n",
       "\n",
       "    .dataframe thead th {\n",
       "        text-align: right;\n",
       "    }\n",
       "</style>\n",
       "<table border=\"1\" class=\"dataframe\">\n",
       "  <thead>\n",
       "    <tr style=\"text-align: right;\">\n",
       "      <th></th>\n",
       "      <th>order_id</th>\n",
       "      <th>customer_id</th>\n",
       "      <th>order_total</th>\n",
       "    </tr>\n",
       "  </thead>\n",
       "  <tbody>\n",
       "    <tr>\n",
       "      <th>0</th>\n",
       "      <td>101</td>\n",
       "      <td>A</td>\n",
       "      <td>50</td>\n",
       "    </tr>\n",
       "    <tr>\n",
       "      <th>1</th>\n",
       "      <td>102</td>\n",
       "      <td>B</td>\n",
       "      <td>75</td>\n",
       "    </tr>\n",
       "    <tr>\n",
       "      <th>2</th>\n",
       "      <td>103</td>\n",
       "      <td>A</td>\n",
       "      <td>60</td>\n",
       "    </tr>\n",
       "    <tr>\n",
       "      <th>3</th>\n",
       "      <td>104</td>\n",
       "      <td>C</td>\n",
       "      <td>90</td>\n",
       "    </tr>\n",
       "    <tr>\n",
       "      <th>4</th>\n",
       "      <td>105</td>\n",
       "      <td>NaN</td>\n",
       "      <td>120</td>\n",
       "    </tr>\n",
       "  </tbody>\n",
       "</table>\n",
       "</div>"
      ],
      "text/plain": [
       "   order_id customer_id  order_total\n",
       "0       101           A           50\n",
       "1       102           B           75\n",
       "2       103           A           60\n",
       "3       104           C           90\n",
       "4       105         NaN          120"
      ]
     },
     "execution_count": 29,
     "metadata": {},
     "output_type": "execute_result"
    }
   ],
   "source": [
    "# Add an order to the data\n",
    "\n",
    "# Create a new order\n",
    "new_order = {\n",
    "    'order_id': 105,\n",
    "\n",
    "    'order_total': 120\n",
    "}\n",
    "# pd.concat([orders_df, pd.DataFrame([new_order])], ignore_index=True)\n",
    "orders_df = orders_df.append(new_order, ignore_index=True)\n",
    "orders_df"
   ]
  },
  {
   "cell_type": "markdown",
   "metadata": {},
   "source": [
    "Join the datasets again: "
   ]
  },
  {
   "cell_type": "code",
   "execution_count": 30,
   "metadata": {},
   "outputs": [
    {
     "name": "stdout",
     "output_type": "stream",
     "text": [
      "   order_id customer_id  order_total customer_name\n",
      "0     101.0           A         50.0         Alice\n",
      "1     103.0           A         60.0         Alice\n",
      "2     102.0           B         75.0           Bob\n",
      "3     104.0           C         90.0       Charlie\n",
      "4     105.0         NaN        120.0           NaN\n",
      "5       NaN           D          NaN         David\n"
     ]
    }
   ],
   "source": [
    "result_df = pd.merge(orders_df, customers_df, on='customer_id', how='outer')\n",
    "\n",
    "print(result_df)"
   ]
  },
  {
   "cell_type": "markdown",
   "metadata": {},
   "source": [
    "Now we see 5 rows. `order_id` `5` has no `customer_name`"
   ]
  },
  {
   "cell_type": "markdown",
   "metadata": {},
   "source": [
    "## Join\n",
    "Why was the previous section called **MERGE** - because there is also a **JOIN**. The difference is that **MERGE** is used to combine dataframes based on the index, while **JOIN** is used to combine dataframes based on the columns.\n",
    "\n"
   ]
  }
 ],
 "metadata": {
  "kernelspec": {
   "display_name": "base",
   "language": "python",
   "name": "python3"
  },
  "language_info": {
   "codemirror_mode": {
    "name": "ipython",
    "version": 3
   },
   "file_extension": ".py",
   "mimetype": "text/x-python",
   "name": "python",
   "nbconvert_exporter": "python",
   "pygments_lexer": "ipython3",
   "version": "3.11.3"
  },
  "orig_nbformat": 4
 },
 "nbformat": 4,
 "nbformat_minor": 2
}

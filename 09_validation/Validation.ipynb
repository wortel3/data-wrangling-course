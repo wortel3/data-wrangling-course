{
 "cells": [
  {
   "cell_type": "markdown",
   "metadata": {},
   "source": [
    "# Validation \n",
    "***\n",
    "\n",
    "## Learning Objectives\n",
    "\n",
    "# Sources \n",
    "- [Qualities of good data](https://www.precisely.com/blog/data-quality/5-characteristics-of-data-quality)\n",
    "\n"
   ]
  },
  {
   "cell_type": "markdown",
   "metadata": {},
   "source": [
    "## Qualities of good validation data\n"
   ]
  },
  {
   "cell_type": "markdown",
   "metadata": {},
   "source": [
    "### Accuracy \n",
    "For data to be of a good quality, it needs to be accurate. This means that the data is correct and free from errors. In practice, your data need to be within a defined set of boundary conditions. For example, if you are collecting data on the height of people, you would expect the data to be within a certain range. If you have a height of 3 meters, you know that this is not a valid value and that there is an error in the data.\n",
    "\n",
    "Here's an example: "
   ]
  },
  {
   "cell_type": "code",
   "execution_count": null,
   "metadata": {},
   "outputs": [],
   "source": [
    "import csv\n",
    "\n",
    "# Define the data\n",
    "data = [\n",
    "    [\"StudentID\", \"exam_score\"],\n",
    "    [1, 85],\n",
    "    [2, 92],\n",
    "    [3, 105],\n",
    "    [4, 78],\n",
    "    [5, 110],\n",
    "    [6, \"err\"]\n",
    "]\n",
    "\n",
    "# Specify the file name\n",
    "file_name = \"student_scores.csv\"\n",
    "\n",
    "# Write the data to the CSV file\n",
    "with open(file_name, mode='w', newline='') as file:\n",
    "    writer = csv.writer(file)\n",
    "    writer.writerows(data)\n",
    "\n",
    "print(f\"CSV file '{file_name}' has been created.\")"
   ]
  },
  {
   "cell_type": "code",
   "execution_count": null,
   "metadata": {},
   "outputs": [],
   "source": [
    "import pandas as pd\n",
    "\n",
    "# Read the CSV file into a DataFrame\n",
    "df = pd.read_csv(file_name)\n",
    "\n",
    "# Display DataFrame\n",
    "df"
   ]
  },
  {
   "cell_type": "markdown",
   "metadata": {},
   "source": [
    "Check if all the values in `exam_score` is numeric. Note index 5."
   ]
  },
  {
   "cell_type": "code",
   "execution_count": null,
   "metadata": {},
   "outputs": [],
   "source": [
    "non_numeric_rows = df[~df['exam_score'].str.isnumeric()]\n",
    "\n",
    "# Display the rows with non-numeric values in the 'exam_score' column\n",
    "if not non_numeric_rows.empty:\n",
    "    print(\"Rows with non-numeric values in 'exam_score':\")\n",
    "    print(non_numeric_rows)\n",
    "else:\n",
    "    print(\"All values in 'exam_score' are numeric.\")\n",
    "    "
   ]
  },
  {
   "cell_type": "markdown",
   "metadata": {},
   "source": [
    "#### Uniqueness\n",
    "Data should be unique. This means that there should be no duplicate values in the data. If there are duplicate values, it means that the data is not unique and that there is an error in the data.\n",
    "Did you see the duplicate value in `Student_ID`?\n"
   ]
  },
  {
   "cell_type": "code",
   "execution_count": null,
   "metadata": {},
   "outputs": [],
   "source": [
    "# Add a duplicate row to the dataframe \n",
    "df = df.append(df.iloc[2], ignore_index=True)"
   ]
  },
  {
   "cell_type": "code",
   "execution_count": null,
   "metadata": {},
   "outputs": [],
   "source": [
    "df "
   ]
  },
  {
   "cell_type": "code",
   "execution_count": null,
   "metadata": {},
   "outputs": [],
   "source": [
    "# Find duplicate values in the 'StudentID' column\n",
    "duplicates = df[df.duplicated(subset=['StudentID'], keep=False)]\n",
    "\n",
    "# Display the rows with duplicate 'StudentID' values\n",
    "if not duplicates.empty:\n",
    "    print(\"Duplicate StudentID values:\")\n",
    "    print(duplicates)\n",
    "else:\n",
    "    print(\"No duplicate StudentID values found.\")"
   ]
  },
  {
   "cell_type": "code",
   "execution_count": null,
   "metadata": {},
   "outputs": [],
   "source": [
    "import pandas as pd\n",
    "import numpy as np\n",
    "\n",
    "# Create a DataFrame with missing values\n",
    "data = {\n",
    "    'Name': ['Alice', 'Bob', 'Charlie', 'David', np.nan],\n",
    "    'Age': [25, 30, np.nan, 22, 28],\n",
    "    'Salary': [50000, 60000, 75000, np.nan, 80000]\n",
    "}\n",
    "\n",
    "df = pd.DataFrame(data)"
   ]
  },
  {
   "cell_type": "code",
   "execution_count": null,
   "metadata": {},
   "outputs": [],
   "source": [
    "df "
   ]
  },
  {
   "cell_type": "markdown",
   "metadata": {},
   "source": [
    "`Name`,`Age` and `Salary` have missing values. "
   ]
  },
  {
   "cell_type": "code",
   "execution_count": null,
   "metadata": {},
   "outputs": [],
   "source": [
    "# Check for missing values in the entire DataFrame\n",
    "missing_values = df.isnull()\n",
    "\n",
    "# Check for completeness\n",
    "if missing_values.any().any():\n",
    "    print(\"DataFrame contains missing values:\")\n",
    "    print(missing_values)\n",
    "else:\n",
    "    print(\"DataFrame is complete; it contains no missing values.\")"
   ]
  },
  {
   "cell_type": "markdown",
   "metadata": {},
   "source": [
    "We can count the missing values in each column using the `isnull()` method and the `sum()` method."
   ]
  },
  {
   "cell_type": "code",
   "execution_count": null,
   "metadata": {},
   "outputs": [],
   "source": [
    "missing_values.sum()"
   ]
  },
  {
   "cell_type": "markdown",
   "metadata": {},
   "source": [
    "#### Consistency\n",
    "Data should be consistent. This means that the data should be in a standard format. For example, if you are collecting data on the height of people, you would expect the data to be in the same unit of measurement. If some of the data is in meters and some of the data is in feet, then the data is not consistent and there is an error in the data.\n",
    "\n",
    "\n",
    "Here is an example:"
   ]
  },
  {
   "cell_type": "code",
   "execution_count": null,
   "metadata": {},
   "outputs": [],
   "source": [
    "\n",
    "# Create a DataFrame with employee information\n",
    "data = {\n",
    "    'EmployeeID': [101, 102, 103, 104, 105 , 106],\n",
    "    'Name': ['Alice', 'Bob', 'Charlie', 'David', 'Eve', 'Fred'],\n",
    "    'Salary': [50000, 60000, 75000, 45000, 80000 , 100000]\n",
    "}\n",
    "\n",
    "df = pd.DataFrame(data)\n",
    "\n",
    "df \n"
   ]
  },
  {
   "cell_type": "code",
   "execution_count": null,
   "metadata": {},
   "outputs": [],
   "source": [
    "\n",
    "# Define the salary range (e.g., $40,000 to $80,000)\n",
    "min_salary = 40000\n",
    "max_salary = 80000\n",
    "\n",
    "# Check for data consistency (salary within the defined range)\n",
    "inconsistent_salaries = df[(df['Salary'] < min_salary) | (df['Salary'] > max_salary)]"
   ]
  },
  {
   "cell_type": "markdown",
   "metadata": {},
   "source": [
    "Note the `|` means `or` in in Python. The line reads - where `Salary` is less than `min_salary` or `Salary` is greater than `max_salary`."
   ]
  },
  {
   "cell_type": "code",
   "execution_count": null,
   "metadata": {},
   "outputs": [],
   "source": [
    "\n",
    "# Display rows with inconsistent salary values\n",
    "if not inconsistent_salaries.empty:\n",
    "    print(\"Inconsistent salary values:\")\n",
    "    print(inconsistent_salaries)\n",
    "else:\n",
    "    print(\"Data is consistent; all salary values are within the valid range.\")"
   ]
  },
  {
   "cell_type": "code",
   "execution_count": null,
   "metadata": {},
   "outputs": [],
   "source": []
  },
  {
   "cell_type": "markdown",
   "metadata": {},
   "source": [
    "The code above therefore checks if all the values are between `40000` and `80000`"
   ]
  },
  {
   "cell_type": "markdown",
   "metadata": {},
   "source": [
    "### Completeness\n",
    "For data to be complete, it needs to have all the required values. If there are missing values, then the data is not complete and there is an error in the data."
   ]
  },
  {
   "cell_type": "code",
   "execution_count": null,
   "metadata": {},
   "outputs": [],
   "source": [
    "import pandas as pd\n",
    "import numpy as np\n",
    "\n",
    "# Generate sample data\n",
    "np.random.seed(123)\n",
    "data = {'CustomerID': np.random.randint(1, 101, 10)}\n",
    "df = pd.DataFrame(data)\n",
    "\n",
    "df \n"
   ]
  },
  {
   "cell_type": "code",
   "execution_count": null,
   "metadata": {},
   "outputs": [],
   "source": [
    "\n",
    "# Add name and last name columns\n",
    "names = ['John', 'Jane', 'Bob', 'Alice', 'Eve', 'Mike', 'Sara', 'Tom', 'Kate', 'Alex']\n",
    "last_names = ['Smith', 'Doe', 'Johnson', 'Brown', 'Lee', 'Garcia', 'Davis', 'Wilson', 'Taylor', 'Clark']\n",
    "df['Name'] = np.random.choice(names, 10)\n",
    "df['Last Name'] = np.random.choice(last_names, 10)\n",
    "\n",
    "# Print the DataFrame\n",
    "print(df)"
   ]
  },
  {
   "cell_type": "markdown",
   "metadata": {},
   "source": [
    "### Reliability\n",
    "For data to be reliable, it needs to be trusted. This means that the data should be collected using a reliable source. If the data is collected using a reliable source, then the data is reliable and there is no error in the data."
   ]
  },
  {
   "cell_type": "code",
   "execution_count": null,
   "metadata": {},
   "outputs": [],
   "source": [
    "import pandas as pd\n",
    "\n",
    "# Create two DataFrames with conflicting data\n",
    "data1 = {\n",
    "    'Product': ['Product1', 'Product2', 'Product3', 'Product4', 'Product5'],\n",
    "    'Price': [10.99, 5.99, 8.99, 12.99, 7.99]\n",
    "}\n",
    "df1 = pd.DataFrame(data1)\n",
    "df1"
   ]
  },
  {
   "cell_type": "code",
   "execution_count": null,
   "metadata": {},
   "outputs": [],
   "source": [
    "\n",
    "data2 = {\n",
    "    'Product': ['Product1', 'Product2', 'Product3', 'Product4', 'Product5'],\n",
    "    'Price': [9.99, 6.99, 7.99, 11.99, 8.99]\n",
    "}\n",
    "df2 = pd.DataFrame(data2)\n",
    "df2\n"
   ]
  },
  {
   "cell_type": "code",
   "execution_count": null,
   "metadata": {},
   "outputs": [],
   "source": [
    "\n",
    "# Merge the two DataFrames on the 'Product' column\n",
    "merged_df = pd.merge(df1, df2, on='Product')\n",
    "\n",
    "# Calculate the difference in price between the two DataFrames\n",
    "merged_df['Price Difference'] = merged_df['Price_x'] - merged_df['Price_y']\n",
    "\n",
    "# Display the merged DataFrame\n",
    "print(merged_df)"
   ]
  },
  {
   "cell_type": "code",
   "execution_count": null,
   "metadata": {},
   "outputs": [],
   "source": [
    "# Choose the greater price from the two DataFrames\n",
    "merged_df['Price'] = merged_df[['Price_x', 'Price_y']].max(axis=1)\n",
    "merged_df"
   ]
  },
  {
   "cell_type": "markdown",
   "metadata": {},
   "source": [
    "# Relevalnce\n",
    "For data to be relevant, it needs to be useful for the purpose for which it was collected. If the data is useful for the purpose for which it was collected, then the data is relevant and there is no error in the data.\n"
   ]
  },
  {
   "cell_type": "code",
   "execution_count": null,
   "metadata": {},
   "outputs": [],
   "source": [
    "import pandas as pd\n",
    "import numpy as np\n",
    "\n",
    "# Generate random sales data\n",
    "num_sales = 1000\n",
    "products = ['Product A', 'Product B', 'Product C', 'Product D', 'Product E']\n",
    "sales_data = {\n",
    "    'Product': np.random.choice(products, num_sales),\n",
    "    'Date': pd.date_range(start='2022-01-01', end='2022-12-31', periods=num_sales),\n",
    "    'Sales Amount': np.random.normal(loc=100, scale=50, size=num_sales),\n",
    "    'Region': np.random.choice(['North', 'South', 'East', 'West'], num_sales),\n",
    "    'Customer ID': np.random.randint(low=1000, high=9999, size=num_sales),\n",
    "    'Sales Rep': np.random.choice(['John', 'Jane', 'Bob', 'Sue'], num_sales)\n",
    "}\n",
    "\n",
    "df = pd.DataFrame(sales_data)\n",
    "df"
   ]
  },
  {
   "cell_type": "code",
   "execution_count": null,
   "metadata": {},
   "outputs": [],
   "source": [
    "#  Remove region, customer ID, and sales rep columns\n",
    "df = df.drop(columns=['Region', 'Customer ID', 'Sales Rep'])\n",
    "df"
   ]
  },
  {
   "cell_type": "markdown",
   "metadata": {},
   "source": [
    "### Timeliness\n",
    "Data should be timely. This means that the data should be up to date. If the data is not up to date, then the data is not timely and there is an error in the data.\n",
    "\n",
    "Here is an example:"
   ]
  },
  {
   "cell_type": "code",
   "execution_count": 49,
   "metadata": {},
   "outputs": [
    {
     "data": {
      "text/html": [
       "<div>\n",
       "<style scoped>\n",
       "    .dataframe tbody tr th:only-of-type {\n",
       "        vertical-align: middle;\n",
       "    }\n",
       "\n",
       "    .dataframe tbody tr th {\n",
       "        vertical-align: top;\n",
       "    }\n",
       "\n",
       "    .dataframe thead th {\n",
       "        text-align: right;\n",
       "    }\n",
       "</style>\n",
       "<table border=\"1\" class=\"dataframe\">\n",
       "  <thead>\n",
       "    <tr style=\"text-align: right;\">\n",
       "      <th></th>\n",
       "      <th>Event</th>\n",
       "      <th>Timestamp</th>\n",
       "    </tr>\n",
       "  </thead>\n",
       "  <tbody>\n",
       "    <tr>\n",
       "      <th>0</th>\n",
       "      <td>Event1</td>\n",
       "      <td>2023-08-10 09:00:00</td>\n",
       "    </tr>\n",
       "    <tr>\n",
       "      <th>1</th>\n",
       "      <td>Event2</td>\n",
       "      <td>2023-08-10 09:30:00</td>\n",
       "    </tr>\n",
       "    <tr>\n",
       "      <th>2</th>\n",
       "      <td>Event3</td>\n",
       "      <td>2023-08-10 10:15:00</td>\n",
       "    </tr>\n",
       "    <tr>\n",
       "      <th>3</th>\n",
       "      <td>Event4</td>\n",
       "      <td>2023-08-10 08:45:00</td>\n",
       "    </tr>\n",
       "    <tr>\n",
       "      <th>4</th>\n",
       "      <td>Event5</td>\n",
       "      <td>2023-08-10 11:00:00</td>\n",
       "    </tr>\n",
       "  </tbody>\n",
       "</table>\n",
       "</div>"
      ],
      "text/plain": [
       "    Event           Timestamp\n",
       "0  Event1 2023-08-10 09:00:00\n",
       "1  Event2 2023-08-10 09:30:00\n",
       "2  Event3 2023-08-10 10:15:00\n",
       "3  Event4 2023-08-10 08:45:00\n",
       "4  Event5 2023-08-10 11:00:00"
      ]
     },
     "execution_count": 49,
     "metadata": {},
     "output_type": "execute_result"
    }
   ],
   "source": [
    "import pandas as pd\n",
    "\n",
    "# Create a DataFrame with timestamp data\n",
    "data = {\n",
    "    'Event': ['Event1', 'Event2', 'Event3', 'Event4', 'Event5'],\n",
    "    'Timestamp': ['2023-08-10 09:00:00', '2023-08-10 09:30:00', '2023-08-10 10:15:00', '2023-08-10 08:45:00', '2023-08-10 11:00:00']\n",
    "}\n",
    "\n",
    "df = pd.DataFrame(data)\n",
    "\n",
    "# Convert the 'Timestamp' column to a pandas datetime object\n",
    "df['Timestamp'] = pd.to_datetime(df['Timestamp'])\n",
    "\n",
    "df \n"
   ]
  },
  {
   "cell_type": "code",
   "execution_count": 51,
   "metadata": {},
   "outputs": [
    {
     "name": "stdout",
     "output_type": "stream",
     "text": [
      "Timely events:\n",
      "    Event           Timestamp\n",
      "0  Event1 2023-08-10 09:00:00\n",
      "1  Event2 2023-08-10 09:30:00\n",
      "2  Event3 2023-08-10 10:15:00\n",
      "4  Event5 2023-08-10 11:00:00\n"
     ]
    }
   ],
   "source": [
    "# Define a time window (e.g., events should occur between 9:00 AM and 11:00 AM)\n",
    "start_time = pd.Timestamp('2023-08-10 09:00:00')\n",
    "end_time = pd.Timestamp('2023-08-10 11:00:00')\n",
    "\n",
    "# Check for timeliness\n",
    "timely_events = df[(df['Timestamp'] >= start_time) & (df['Timestamp'] <= end_time)]\n",
    "\n",
    "# Display timely events\n",
    "if not timely_events.empty:\n",
    "    print(\"Timely events:\")\n",
    "    print(timely_events)\n",
    "else:\n",
    "    print(\"No timely events found.\")"
   ]
  },
  {
   "cell_type": "code",
   "execution_count": 52,
   "metadata": {},
   "outputs": [
    {
     "name": "stdout",
     "output_type": "stream",
     "text": [
      "Values older than 10 days:\n",
      "      ID                          Date      Value\n",
      "0      0 2022-01-01 00:00:00.000000000  51.765424\n",
      "1      1 2022-01-01 08:44:41.081081081  39.990055\n",
      "2      2 2022-01-01 17:29:22.162162162  56.300634\n",
      "3      3 2022-01-02 02:14:03.243243243  54.901732\n",
      "4      4 2022-01-02 10:58:44.324324324  48.923777\n",
      "..   ...                           ...        ...\n",
      "995  995 2022-12-29 13:01:15.675675676  50.342561\n",
      "996  996 2022-12-29 21:45:56.756756756  47.273165\n",
      "997  997 2022-12-30 06:30:37.837837840  61.487841\n",
      "998  998 2022-12-30 15:15:18.918918920  53.922712\n",
      "999  999 2022-12-31 00:00:00.000000000  42.524444\n",
      "\n",
      "[1000 rows x 3 columns]\n"
     ]
    }
   ],
   "source": [
    "import pandas as pd\n",
    "import numpy as np\n",
    "\n",
    "# Generate sample data\n",
    "num_records = 1000\n",
    "data = {\n",
    "    'ID': np.arange(num_records),\n",
    "    'Date': pd.date_range(start='2022-01-01', end='2022-12-31', periods=num_records),\n",
    "    'Value': np.random.normal(loc=50, scale=10, size=num_records)\n",
    "}\n",
    "\n",
    "df = pd.DataFrame(data)\n",
    "\n",
    "# Check for values older than 10 days\n",
    "ten_days_ago = pd.Timestamp.now() - pd.Timedelta(days=10)\n",
    "\n",
    "old_values = df[df['Date'] < ten_days_ago]\n",
    "\n",
    "# Display old values\n",
    "if not old_values.empty:\n",
    "    print(\"Values older than 10 days:\")\n",
    "    print(old_values)\n",
    "else:\n",
    "    print(\"No values older than 10 days found.\")"
   ]
  },
  {
   "cell_type": "code",
   "execution_count": 53,
   "metadata": {},
   "outputs": [
    {
     "name": "stdout",
     "output_type": "stream",
     "text": [
      "Values older than 10 days:\n",
      "      ID                          Date      Value\n",
      "0      0 2022-01-01 00:00:00.000000000  53.656261\n",
      "1      1 2022-01-01 08:44:41.081081081  43.174119\n",
      "2      2 2022-01-01 17:29:22.162162162  48.199763\n",
      "3      3 2022-01-02 02:14:03.243243243  45.053514\n",
      "4      4 2022-01-02 10:58:44.324324324  39.823869\n",
      "..   ...                           ...        ...\n",
      "967  967 2022-12-19 08:10:05.405405408  34.069457\n",
      "968  968 2022-12-19 16:54:46.486486488  40.865303\n",
      "969  969 2022-12-20 01:39:27.567567568  36.015819\n",
      "970  970 2022-12-20 10:24:08.648648648  55.515140\n",
      "971  971 2022-12-20 19:08:49.729729732  57.998957\n",
      "\n",
      "[972 rows x 3 columns]\n"
     ]
    }
   ],
   "source": [
    "import pandas as pd\n",
    "import numpy as np\n",
    "\n",
    "# Generate sample data\n",
    "num_records = 1000\n",
    "data = {\n",
    "    'ID': np.arange(num_records),\n",
    "    'Date': pd.date_range(start='2022-01-01', end='2022-12-31', periods=num_records),\n",
    "    'Value': np.random.normal(loc=50, scale=10, size=num_records)\n",
    "}\n",
    "\n",
    "df = pd.DataFrame(data)\n",
    "\n",
    "# Check for values older than 10 days\n",
    "# ten_days_ago = pd.Timestamp.now() - pd.Timedelta(days=10)\n",
    "ten_days_ago = pd.Timestamp('2022-12-31') - pd.Timedelta(days=10)\n",
    "\n",
    "old_values = df[df['Date'] < ten_days_ago]\n",
    "\n",
    "# Display old values\n",
    "if not old_values.empty:\n",
    "    print(\"Values older than 10 days:\")\n",
    "    print(old_values)\n",
    "else:\n",
    "    print(\"No values older than 10 days found.\")"
   ]
  }
 ],
 "metadata": {
  "kernelspec": {
   "display_name": "base",
   "language": "python",
   "name": "python3"
  },
  "language_info": {
   "codemirror_mode": {
    "name": "ipython",
    "version": 3
   },
   "file_extension": ".py",
   "mimetype": "text/x-python",
   "name": "python",
   "nbconvert_exporter": "python",
   "pygments_lexer": "ipython3",
   "version": "3.11.4"
  },
  "orig_nbformat": 4
 },
 "nbformat": 4,
 "nbformat_minor": 2
}

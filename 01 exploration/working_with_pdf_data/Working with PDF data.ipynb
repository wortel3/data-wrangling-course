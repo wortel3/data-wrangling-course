{
 "cells": [
  {
   "cell_type": "markdown",
   "metadata": {},
   "source": [
    "# Working with PDF data\n",
    "*** \n",
    "## Learning Objectives\n",
    "* Read PDF data into Python\n",
    "* Extract text from PDFs\n",
    "* Extract tables from PDFs"
   ]
  },
  {
   "cell_type": "markdown",
   "metadata": {},
   "source": [
    "Install the dependencies by running the following command:"
   ]
  },
  {
   "cell_type": "code",
   "execution_count": 2,
   "metadata": {},
   "outputs": [
    {
     "name": "stdout",
     "output_type": "stream",
     "text": [
      "Collecting tabula-py\n",
      "  Downloading tabula_py-2.7.0-py3-none-any.whl (12.0 MB)\n",
      "\u001b[2K     \u001b[90m━━━━━━━━━━━━━━━━━━━━━━━━━━━━━━━━━━━━━━━━\u001b[0m \u001b[32m12.0/12.0 MB\u001b[0m \u001b[31m9.4 MB/s\u001b[0m eta \u001b[36m0:00:00\u001b[0m00:01\u001b[0m00:01\u001b[0mm\n",
      "\u001b[?25hRequirement already satisfied: pandas>=0.25.3 in /Users/Gerhad01/anaconda3/lib/python3.11/site-packages (from tabula-py) (1.5.3)\n",
      "Requirement already satisfied: numpy in /Users/Gerhad01/anaconda3/lib/python3.11/site-packages (from tabula-py) (1.24.3)\n",
      "Collecting distro (from tabula-py)\n",
      "  Downloading distro-1.8.0-py3-none-any.whl (20 kB)\n",
      "Requirement already satisfied: python-dateutil>=2.8.1 in /Users/Gerhad01/anaconda3/lib/python3.11/site-packages (from pandas>=0.25.3->tabula-py) (2.8.2)\n",
      "Requirement already satisfied: pytz>=2020.1 in /Users/Gerhad01/anaconda3/lib/python3.11/site-packages (from pandas>=0.25.3->tabula-py) (2022.7)\n",
      "Requirement already satisfied: six>=1.5 in /Users/Gerhad01/anaconda3/lib/python3.11/site-packages (from python-dateutil>=2.8.1->pandas>=0.25.3->tabula-py) (1.16.0)\n",
      "Installing collected packages: distro, tabula-py\n",
      "Successfully installed distro-1.8.0 tabula-py-2.7.0\n"
     ]
    }
   ],
   "source": [
    "!pip install tabula-py\n"
   ]
  },
  {
   "cell_type": "markdown",
   "metadata": {},
   "source": [
    "Import the following packages:\n"
   ]
  },
  {
   "cell_type": "code",
   "execution_count": 4,
   "metadata": {},
   "outputs": [],
   "source": [
    "import tabula\n",
    "# from IPython.display import IFrame"
   ]
  },
  {
   "cell_type": "markdown",
   "metadata": {},
   "source": [
    "Read the table in the pdf doc into a pandas dataframe"
   ]
  },
  {
   "cell_type": "code",
   "execution_count": 20,
   "metadata": {},
   "outputs": [
    {
     "name": "stdout",
     "output_type": "stream",
     "text": [
      "  Unnamed: 0 Unnamed: 1 Unnamed: 2 Unnamed: 3 Percent Fuel Savings Unnamed: 4\n",
      "0      Cycle         KI   Distance        NaN                  NaN        NaN\n",
      "1       Name     (1/km)       (mi)   Improved  Decreased Eliminate  Decreased\n",
      "2        NaN        NaN        NaN      Speed          Accel Stops       Idle\n",
      "3     2012_2       3.30        1.3       5.9%           9.5% 29.2%      17.4%\n",
      "4     2145_1       0.68       11.2       2.4%            0.1% 9.5%       2.7%\n",
      "----------------------\n",
      "The shape of the df is: (8, 6)\n"
     ]
    }
   ],
   "source": [
    "file_path = \"../files/foo.pdf\"\n",
    "# Read pdf into a list of DataFrame\n",
    "dfs = tabula.read_pdf(file_path, pages='all')\n",
    "# dfs.head() # Head doesn't work. We have a list of DataFrames. We need to iterate over them.\n",
    "for df in dfs:\n",
    "    print(df.head())\n",
    "    print (\"----------------------\")\n",
    "    print (f\"The shape of the df is: {df.shape}\")\n"
   ]
  },
  {
   "cell_type": "markdown",
   "metadata": {},
   "source": [
    "Let's try another file"
   ]
  },
  {
   "cell_type": "code",
   "execution_count": 21,
   "metadata": {},
   "outputs": [
    {
     "name": "stdout",
     "output_type": "stream",
     "text": [
      "  Unnamed: 0      Unnamed: 1 Confirmar si las aguas Unnamed: 2  \\\n",
      "0        NaN    2 hospitales                    NaN        NaN   \n",
      "1        NaN             NaN     residuales son una        NaN   \n",
      "2    Wang XW  Beijing, China                    NaN  Monitoreo   \n",
      "3        NaN             NaN         posible vía de        NaN   \n",
      "4      2005b      11 - 15 de                    NaN  ambiental   \n",
      "\n",
      "                                   Unnamed: 3             Presencia e  \\\n",
      "0                                         NaN                     NaN   \n",
      "1  Aguas residuales tratadas con desinfección  infectividad del virus   \n",
      "2                                         NaN                     NaN   \n",
      "3    con cloro de 2 hospitales de Beijing. Se                SARS-CoV   \n",
      "4                                         NaN                     NaN   \n",
      "\n",
      "                                  Unnamed: 4  \\\n",
      "0   No se encontró SARS-CoV infectivo en las   \n",
      "1                                        NaN   \n",
      "2  muestras de aguas residuales tratadas con   \n",
      "3                                        NaN   \n",
      "4   cloro de los dos hospitales que recibían   \n",
      "\n",
      "            Se debe prestar atención al  \n",
      "0                                   NaN  \n",
      "1       tratamiento de las heces de los  \n",
      "2                                   NaN  \n",
      "3  pacientes y al alcantarillado de los  \n",
      "4                                   NaN  \n",
      "----------------------\n",
      "The shape of the df is: (8, 8)\n",
      "  Wang XW Beijing China             Unnamed: 0  Monitoreo  \\\n",
      "0     NaN           NaN        posible ruta de        NaN   \n",
      "1   2005c   11-15 junio                    NaN  ambiental   \n",
      "2     NaN           NaN  transmisión del SARS-        NaN   \n",
      "3     NaN       de 2004                    NaN        NaN   \n",
      "4     NaN           NaN                    CoV        NaN   \n",
      "\n",
      "  desinfección con cloro, de 2 Hospitales de        Unnamed: 1  \\\n",
      "0                                        NaN          SARS-CoV   \n",
      "1  Beijing. Se analizaron 10 muestras, 5 por               NaN   \n",
      "2                                        NaN  RT-PCR y cultivo   \n",
      "3                                  Hospital.               NaN   \n",
      "4                                        NaN           celular   \n",
      "\n",
      "    en las muestras de 3 días en uno de los  \\\n",
      "0                                       NaN   \n",
      "1  hospitales. En este estudio, el ARN pudo   \n",
      "2                                       NaN   \n",
      "3  detectarse en aguas residuales durante 8   \n",
      "4                                       NaN   \n",
      "\n",
      "                            Unnamed: 2  \n",
      "0         CoV en aguas residuales y su  \n",
      "1                                  NaN  \n",
      "2  potencial transmisión por esta vía.  \n",
      "3                                  NaN  \n",
      "4                                  NaN  \n",
      "----------------------\n",
      "The shape of the df is: (5, 8)\n",
      "  Unnamed: 0     Unnamed: 1          Unnamed: 2  Monitoreo  \\\n",
      "0     E 2020   Japón, entre    CoV2 en muestras        NaN   \n",
      "1        NaN            NaN                 NaN  ambiental   \n",
      "2  Pre-print  17 de marzo y  de agua residual y        NaN   \n",
      "3        NaN            NaN                 NaN        NaN   \n",
      "4        NaN      7 de mayo         agua de río        NaN   \n",
      "\n",
      "                                  Unnamed: 3              RT-qPCR  \\\n",
      "0  tratamiento secundario previo a cloración                  NaN   \n",
      "1                                        NaN  Detección de E coli   \n",
      "2    desde PTAR; y 3 muestras de agua de río                  NaN   \n",
      "3                                        NaN          y virus del   \n",
      "4                                        NaN                  NaN   \n",
      "\n",
      "    residual con tratamiento secundario, su  \\\n",
      "0                                       NaN   \n",
      "1  valor de Ct de 39.96 equivalente a 2.4 x   \n",
      "2                                       NaN   \n",
      "3                            10^3 copias/L.   \n",
      "4                                       NaN   \n",
      "\n",
      "           El método de concentración y  \n",
      "0                                   NaN  \n",
      "1  detección del virus en agua residual  \n",
      "2                                   NaN  \n",
      "3   debe ser optimizado para mejorar su  \n",
      "4                                   NaN  \n",
      "----------------------\n",
      "The shape of the df is: (28, 8)\n",
      "       2020  EUA. Del 19 residuales primarias Unnamed: 0  \\\n",
      "0       NaN          NaN                  NaN  ambiental   \n",
      "1  preprint  de marzo al    y los indicadores        NaN   \n",
      "\n",
      "  instalación de tratamiento de aguas         Unnamed: 1  \\\n",
      "0                                 NaN  ARN del virus por   \n",
      "1                         residuales.                NaN   \n",
      "\n",
      "                             Unnamed: 2                       Unnamed: 3  \n",
      "0  Ct de 38,75. En general, el 96.5% de  pruebas COVID-19 y los ingresos  \n",
      "1                                   NaN                              NaN  \n",
      "----------------------\n",
      "The shape of the df is: (2, 8)\n",
      "   Green H.    Unnamed: 0    en aguas residuales Unnamed: 1  \\\n",
      "0       NaN   interceptor                    NaN  Monitoreo   \n",
      "1      2020           NaN  y utilizar crAssphage        NaN   \n",
      "2       NaN      en Nueva                    NaN  ambiental   \n",
      "3  Preprint           NaN     para determinar si        NaN   \n",
      "4       NaN  York, 6 y 13                    NaN        NaN   \n",
      "\n",
      "                                     Unnamed: 2          Unnamed: 3  \\\n",
      "0        mayo 13 de agua residual en plantas de  cuantificación del   \n",
      "1                                           NaN                 NaN   \n",
      "2  tratamiento de agua residual en interceptor,   ARN del virus por   \n",
      "3                                           NaN                 NaN   \n",
      "4                      planta de bombeo y PTAR.             RT-qPCR   \n",
      "\n",
      "     Mayo 13: 11/11. Tres muestras abajo del  \\\n",
      "0                                        NaN   \n",
      "1  límite de cuantificación. Positivas en un   \n",
      "2                                          ,   \n",
      "3          rango de 7.50 x10^0 a  6.92 x10^1   \n",
      "4                                        NaN   \n",
      "\n",
      "  Aunque se mantiene la relación lineal  \n",
      "0                                   NaN  \n",
      "1     de ADN/ARN del fago con el número  \n",
      "2                                   NaN  \n",
      "3      de población de la fuente de las  \n",
      "4                                   NaN  \n",
      "----------------------\n",
      "The shape of the df is: (10, 8)\n",
      "    Unnamed: 0    sitios en infectividad del virus Unnamed: 1  \\\n",
      "0  Rimoldi SG.          NaN                    NaN        NaN   \n",
      "1          NaN  ríos Milán,    antes y después del  Monitoreo   \n",
      "\n",
      "                              Unnamed: 2 de secuenciación  \\\n",
      "0  efluente de 3 PTAR y 2 sitios en ríos              NaN   \n",
      "1                                    NaN         genómica   \n",
      "\n",
      "                             Unnamed: 3                        Unnamed: 4  \n",
      "0  virus. El virus se encontró en ríos,  los casos confirmados en la zona  \n",
      "1                                   NaN                               NaN  \n",
      "----------------------\n",
      "The shape of the df is: (2, 8)\n"
     ]
    }
   ],
   "source": [
    "file_path = \"../files/Data_extraction_table.pdf\"\n",
    "dfs = tabula.read_pdf(file_path, pages=\"all\" , multiple_tables=True)\n",
    "for df in dfs:\n",
    "    print(df.head())\n",
    "    print (\"----------------------\")\n",
    "    print (f\"The shape of the df is: {df.shape}\")\n"
   ]
  },
  {
   "cell_type": "markdown",
   "metadata": {},
   "source": [
    "Extracting tables from PDFs is hard. Tabula is a tool that tries to make it easier. It works well with tables that have clearly defined borders, but it can get confused pretty easily. It's also not great at extracting text. \n",
    "\n",
    "\n",
    "Let's extract some text from a document using `PyPDF2`. We'll use the first page of a PDF file stored in the file object `pdf_file`. We'll then print the first 500 characters in the extracted text."
   ]
  },
  {
   "cell_type": "code",
   "execution_count": 24,
   "metadata": {},
   "outputs": [
    {
     "name": "stdout",
     "output_type": "stream",
     "text": [
      "The Crazy Ones\n",
      "October 14, 1998\n",
      "Heres to the crazy ones. The misﬁts. The rebels. The troublemakers.\n",
      "The round pegs in the square holes.\n",
      "The ones who see things diﬀerently. Theyre not fond of rules. And\n",
      "they have no respect for the status quo. You can quote them,\n",
      "disagree with them, glorify or vilify them.\n",
      "About the only thing you cant do is ignore them. Because they change\n",
      "things. They invent. They imagine. They heal. They explore. They\n",
      "create. They inspire. They push the human race forward.\n",
      "May\n"
     ]
    }
   ],
   "source": [
    "\n",
    "import PyPDF2\n",
    "pdf_file = open(\"../files/attachment.pdf\", 'rb')\n",
    "# Read the pdf file\n",
    "read_pdf = PyPDF2.PdfFileReader(pdf_file)\n",
    "# Get the number of pages\n",
    "page = read_pdf.getPage(0)\n",
    "# Extract the text from the page\n",
    "page_content = page.extractText()\n",
    "# Print the content of the page\n",
    "print(page_content[:500])"
   ]
  }
 ],
 "metadata": {
  "kernelspec": {
   "display_name": "base",
   "language": "python",
   "name": "python3"
  },
  "language_info": {
   "codemirror_mode": {
    "name": "ipython",
    "version": 3
   },
   "file_extension": ".py",
   "mimetype": "text/x-python",
   "name": "python",
   "nbconvert_exporter": "python",
   "pygments_lexer": "ipython3",
   "version": "3.11.3"
  },
  "orig_nbformat": 4
 },
 "nbformat": 4,
 "nbformat_minor": 2
}
